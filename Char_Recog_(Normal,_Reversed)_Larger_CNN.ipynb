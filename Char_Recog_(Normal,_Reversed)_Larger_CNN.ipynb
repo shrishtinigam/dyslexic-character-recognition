{
  "nbformat": 4,
  "nbformat_minor": 0,
  "metadata": {
    "colab": {
      "provenance": [],
      "authorship_tag": "ABX9TyM1OuoTSzLoFnTPoM3nsSYt",
      "include_colab_link": true
    },
    "kernelspec": {
      "name": "python3",
      "display_name": "Python 3"
    },
    "language_info": {
      "name": "python"
    }
  },
  "cells": [
    {
      "cell_type": "markdown",
      "metadata": {
        "id": "view-in-github",
        "colab_type": "text"
      },
      "source": [
        "<a href=\"https://colab.research.google.com/github/shrishtinigam/dyslexic-character-recognition/blob/main/Char_Recog_(Normal%2C_Reversed)_Larger_CNN.ipynb\" target=\"_parent\"><img src=\"https://colab.research.google.com/assets/colab-badge.svg\" alt=\"Open In Colab\"/></a>"
      ]
    },
    {
      "cell_type": "markdown",
      "metadata": {
        "id": "bduJ6YKLU-2s"
      },
      "source": [
        "# Building the dataset\n",
        "### Getting the images from the drive folder\n",
        " 1000 dataset"
      ]
    },
    {
      "cell_type": "code",
      "execution_count": null,
      "metadata": {
        "colab": {
          "base_uri": "https://localhost:8080/"
        },
        "id": "YEY8R22hmA7H",
        "outputId": "59ce653a-5e2b-495b-8adb-61bcf12629c2"
      },
      "outputs": [
        {
          "output_type": "stream",
          "name": "stdout",
          "text": [
            "Drive already mounted at /content/drive; to attempt to forcibly remount, call drive.mount(\"/content/drive\", force_remount=True).\n"
          ]
        }
      ],
      "source": [
        "from google.colab import drive\n",
        "drive.mount('/content/drive')"
      ]
    },
    {
      "cell_type": "code",
      "execution_count": null,
      "metadata": {
        "id": "4kYJqzIRkUy4"
      },
      "outputs": [],
      "source": [
        "import os\n",
        "import glob\n",
        "import string"
      ]
    },
    {
      "cell_type": "code",
      "execution_count": null,
      "metadata": {
        "id": "ek4KuEzWoPrz"
      },
      "outputs": [],
      "source": [
        "import cv2 as cv2\n",
        "from google.colab.patches import cv2_imshow"
      ]
    },
    {
      "cell_type": "markdown",
      "metadata": {
        "id": "u1X8erXDjmU0"
      },
      "source": [
        "## TARGET: Given a single image of a letter, the model is able to classify it as \"Normal\" or \"Dyslexic\" and able to tell character it is, as well as what it is supposed to be."
      ]
    },
    {
      "cell_type": "code",
      "execution_count": null,
      "metadata": {
        "id": "6kGiuOU-m4hB"
      },
      "outputs": [],
      "source": [
        "alphabets = []\n",
        "for letter in string.ascii_uppercase:\n",
        "  alphabets.append(letter)"
      ]
    },
    {
      "cell_type": "code",
      "execution_count": null,
      "metadata": {
        "id": "8pU2NvSQnysk"
      },
      "outputs": [],
      "source": [
        "images = []\n",
        "x = 0\n",
        "for letter in alphabets:\n",
        "  image_paths = glob.glob(f\"/content/drive/My Drive/TrainNormal20/\" + letter + \"*.png\")\n",
        "  for i in image_paths:\n",
        "    image = cv2.imread(i)\n",
        "    image = cv2.cvtColor(image, cv2.COLOR_BGR2GRAY)\n",
        "    images.append([image, x])\n",
        "  x += 1"
      ]
    },
    {
      "cell_type": "code",
      "source": [
        "\"\"\"for letter in alphabets:\n",
        "  image_paths_dyx = glob.glob(f\"/content/drive/My Drive/TrainDyslexic20/\" + letter + \"*.png\")\n",
        "  for i in image_paths_dyx:\n",
        "    image = cv2.imread(i)\n",
        "    # image = cv2.cvtColor(image, cv2.COLOR_BGR2GRAY)\n",
        "    images.append([image, x])\n",
        "  x += 1\"\"\""
      ],
      "metadata": {
        "colab": {
          "base_uri": "https://localhost:8080/",
          "height": 74
        },
        "id": "iP2uAPtfZCMA",
        "outputId": "8deac970-a860-4a71-f821-dbbcab2146ec"
      },
      "execution_count": null,
      "outputs": [
        {
          "output_type": "execute_result",
          "data": {
            "text/plain": [
              "'for letter in alphabets:\\n  image_paths_dyx = glob.glob(f\"/content/drive/My Drive/TrainDyslexic20/\" + letter + \"*.png\")\\n  for i in image_paths_dyx:\\n    image = cv2.imread(i)\\n    # image = cv2.cvtColor(image, cv2.COLOR_BGR2GRAY)\\n    images.append([image, x])\\n  x += 1'"
            ],
            "application/vnd.google.colaboratory.intrinsic+json": {
              "type": "string"
            }
          },
          "metadata": {},
          "execution_count": 48
        }
      ]
    },
    {
      "cell_type": "code",
      "execution_count": null,
      "metadata": {
        "id": "12RcCSINCmqE"
      },
      "outputs": [],
      "source": [
        "x = 26\n",
        "image_paths_dyx = glob.glob(f\"/content/drive/My Drive/TrainDyslexic20/*.png\")\n",
        "for i in image_paths_dyx:\n",
        "  image = cv2.imread(i)\n",
        "  image = cv2.cvtColor(image, cv2.COLOR_BGR2GRAY)\n",
        "  images.append([image, x])"
      ]
    },
    {
      "cell_type": "code",
      "execution_count": null,
      "metadata": {
        "id": "Lo3DywB9w-ey"
      },
      "outputs": [],
      "source": [
        "import pandas as pd\n",
        "import numpy as np"
      ]
    },
    {
      "cell_type": "code",
      "execution_count": null,
      "metadata": {
        "id": "seaDU1v1xDEX"
      },
      "outputs": [],
      "source": [
        "df = pd.DataFrame(images)"
      ]
    },
    {
      "cell_type": "code",
      "execution_count": null,
      "metadata": {
        "colab": {
          "base_uri": "https://localhost:8080/"
        },
        "id": "eu0VLLQr2asn",
        "outputId": "64591cb9-458d-477b-a497-0763f1b995f2"
      },
      "outputs": [
        {
          "output_type": "stream",
          "name": "stdout",
          "text": [
            "<class 'pandas.core.frame.DataFrame'>\n",
            "RangeIndex: 1042 entries, 0 to 1041\n",
            "Data columns (total 2 columns):\n",
            " #   Column  Non-Null Count  Dtype \n",
            "---  ------  --------------  ----- \n",
            " 0   0       1042 non-null   object\n",
            " 1   1       1042 non-null   int64 \n",
            "dtypes: int64(1), object(1)\n",
            "memory usage: 16.4+ KB\n"
          ]
        }
      ],
      "source": [
        "df.info()"
      ]
    },
    {
      "cell_type": "code",
      "execution_count": null,
      "metadata": {
        "colab": {
          "base_uri": "https://localhost:8080/"
        },
        "id": "KYPfZrQY2g5o",
        "outputId": "0156c7de-9b5a-423d-c1da-28e3948f1861"
      },
      "outputs": [
        {
          "output_type": "execute_result",
          "data": {
            "text/plain": [
              "(1042, 2)"
            ]
          },
          "metadata": {},
          "execution_count": 53
        }
      ],
      "source": [
        "df.shape"
      ]
    },
    {
      "cell_type": "code",
      "execution_count": null,
      "metadata": {
        "colab": {
          "base_uri": "https://localhost:8080/",
          "height": 423
        },
        "id": "7ZNCo91hA47s",
        "outputId": "2c3e6ad1-4ca9-4334-c48b-f7e035fede66"
      },
      "outputs": [
        {
          "output_type": "execute_result",
          "data": {
            "text/plain": [
              "                                                      0   1\n",
              "0     [[0, 0, 0, 0, 0, 0, 0, 0, 0, 0, 0, 0, 0, 0, 0,...   0\n",
              "1     [[0, 0, 0, 0, 0, 0, 0, 0, 0, 0, 0, 0, 0, 0, 0,...   0\n",
              "2     [[0, 0, 0, 0, 0, 0, 0, 0, 0, 0, 0, 0, 0, 0, 0,...   0\n",
              "3     [[0, 0, 0, 0, 0, 0, 0, 0, 0, 0, 0, 0, 0, 0, 0,...   0\n",
              "4     [[0, 0, 0, 0, 0, 0, 0, 0, 0, 0, 0, 0, 0, 0, 0,...   0\n",
              "...                                                 ...  ..\n",
              "1037  [[0, 0, 0, 0, 0, 0, 0, 0, 0, 0, 0, 0, 0, 0, 0,...  26\n",
              "1038  [[0, 0, 0, 0, 0, 0, 0, 0, 0, 0, 0, 0, 0, 0, 0,...  26\n",
              "1039  [[0, 0, 0, 0, 0, 0, 0, 0, 0, 0, 0, 0, 0, 0, 0,...  26\n",
              "1040  [[0, 0, 0, 0, 0, 0, 0, 0, 0, 0, 0, 0, 0, 0, 0,...  26\n",
              "1041  [[0, 0, 0, 0, 0, 0, 0, 0, 0, 0, 0, 0, 0, 0, 0,...  26\n",
              "\n",
              "[1042 rows x 2 columns]"
            ],
            "text/html": [
              "\n",
              "  <div id=\"df-d8860756-7506-4afe-9f29-1e80cd4440d9\">\n",
              "    <div class=\"colab-df-container\">\n",
              "      <div>\n",
              "<style scoped>\n",
              "    .dataframe tbody tr th:only-of-type {\n",
              "        vertical-align: middle;\n",
              "    }\n",
              "\n",
              "    .dataframe tbody tr th {\n",
              "        vertical-align: top;\n",
              "    }\n",
              "\n",
              "    .dataframe thead th {\n",
              "        text-align: right;\n",
              "    }\n",
              "</style>\n",
              "<table border=\"1\" class=\"dataframe\">\n",
              "  <thead>\n",
              "    <tr style=\"text-align: right;\">\n",
              "      <th></th>\n",
              "      <th>0</th>\n",
              "      <th>1</th>\n",
              "    </tr>\n",
              "  </thead>\n",
              "  <tbody>\n",
              "    <tr>\n",
              "      <th>0</th>\n",
              "      <td>[[0, 0, 0, 0, 0, 0, 0, 0, 0, 0, 0, 0, 0, 0, 0,...</td>\n",
              "      <td>0</td>\n",
              "    </tr>\n",
              "    <tr>\n",
              "      <th>1</th>\n",
              "      <td>[[0, 0, 0, 0, 0, 0, 0, 0, 0, 0, 0, 0, 0, 0, 0,...</td>\n",
              "      <td>0</td>\n",
              "    </tr>\n",
              "    <tr>\n",
              "      <th>2</th>\n",
              "      <td>[[0, 0, 0, 0, 0, 0, 0, 0, 0, 0, 0, 0, 0, 0, 0,...</td>\n",
              "      <td>0</td>\n",
              "    </tr>\n",
              "    <tr>\n",
              "      <th>3</th>\n",
              "      <td>[[0, 0, 0, 0, 0, 0, 0, 0, 0, 0, 0, 0, 0, 0, 0,...</td>\n",
              "      <td>0</td>\n",
              "    </tr>\n",
              "    <tr>\n",
              "      <th>4</th>\n",
              "      <td>[[0, 0, 0, 0, 0, 0, 0, 0, 0, 0, 0, 0, 0, 0, 0,...</td>\n",
              "      <td>0</td>\n",
              "    </tr>\n",
              "    <tr>\n",
              "      <th>...</th>\n",
              "      <td>...</td>\n",
              "      <td>...</td>\n",
              "    </tr>\n",
              "    <tr>\n",
              "      <th>1037</th>\n",
              "      <td>[[0, 0, 0, 0, 0, 0, 0, 0, 0, 0, 0, 0, 0, 0, 0,...</td>\n",
              "      <td>26</td>\n",
              "    </tr>\n",
              "    <tr>\n",
              "      <th>1038</th>\n",
              "      <td>[[0, 0, 0, 0, 0, 0, 0, 0, 0, 0, 0, 0, 0, 0, 0,...</td>\n",
              "      <td>26</td>\n",
              "    </tr>\n",
              "    <tr>\n",
              "      <th>1039</th>\n",
              "      <td>[[0, 0, 0, 0, 0, 0, 0, 0, 0, 0, 0, 0, 0, 0, 0,...</td>\n",
              "      <td>26</td>\n",
              "    </tr>\n",
              "    <tr>\n",
              "      <th>1040</th>\n",
              "      <td>[[0, 0, 0, 0, 0, 0, 0, 0, 0, 0, 0, 0, 0, 0, 0,...</td>\n",
              "      <td>26</td>\n",
              "    </tr>\n",
              "    <tr>\n",
              "      <th>1041</th>\n",
              "      <td>[[0, 0, 0, 0, 0, 0, 0, 0, 0, 0, 0, 0, 0, 0, 0,...</td>\n",
              "      <td>26</td>\n",
              "    </tr>\n",
              "  </tbody>\n",
              "</table>\n",
              "<p>1042 rows × 2 columns</p>\n",
              "</div>\n",
              "      <button class=\"colab-df-convert\" onclick=\"convertToInteractive('df-d8860756-7506-4afe-9f29-1e80cd4440d9')\"\n",
              "              title=\"Convert this dataframe to an interactive table.\"\n",
              "              style=\"display:none;\">\n",
              "        \n",
              "  <svg xmlns=\"http://www.w3.org/2000/svg\" height=\"24px\"viewBox=\"0 0 24 24\"\n",
              "       width=\"24px\">\n",
              "    <path d=\"M0 0h24v24H0V0z\" fill=\"none\"/>\n",
              "    <path d=\"M18.56 5.44l.94 2.06.94-2.06 2.06-.94-2.06-.94-.94-2.06-.94 2.06-2.06.94zm-11 1L8.5 8.5l.94-2.06 2.06-.94-2.06-.94L8.5 2.5l-.94 2.06-2.06.94zm10 10l.94 2.06.94-2.06 2.06-.94-2.06-.94-.94-2.06-.94 2.06-2.06.94z\"/><path d=\"M17.41 7.96l-1.37-1.37c-.4-.4-.92-.59-1.43-.59-.52 0-1.04.2-1.43.59L10.3 9.45l-7.72 7.72c-.78.78-.78 2.05 0 2.83L4 21.41c.39.39.9.59 1.41.59.51 0 1.02-.2 1.41-.59l7.78-7.78 2.81-2.81c.8-.78.8-2.07 0-2.86zM5.41 20L4 18.59l7.72-7.72 1.47 1.35L5.41 20z\"/>\n",
              "  </svg>\n",
              "      </button>\n",
              "      \n",
              "  <style>\n",
              "    .colab-df-container {\n",
              "      display:flex;\n",
              "      flex-wrap:wrap;\n",
              "      gap: 12px;\n",
              "    }\n",
              "\n",
              "    .colab-df-convert {\n",
              "      background-color: #E8F0FE;\n",
              "      border: none;\n",
              "      border-radius: 50%;\n",
              "      cursor: pointer;\n",
              "      display: none;\n",
              "      fill: #1967D2;\n",
              "      height: 32px;\n",
              "      padding: 0 0 0 0;\n",
              "      width: 32px;\n",
              "    }\n",
              "\n",
              "    .colab-df-convert:hover {\n",
              "      background-color: #E2EBFA;\n",
              "      box-shadow: 0px 1px 2px rgba(60, 64, 67, 0.3), 0px 1px 3px 1px rgba(60, 64, 67, 0.15);\n",
              "      fill: #174EA6;\n",
              "    }\n",
              "\n",
              "    [theme=dark] .colab-df-convert {\n",
              "      background-color: #3B4455;\n",
              "      fill: #D2E3FC;\n",
              "    }\n",
              "\n",
              "    [theme=dark] .colab-df-convert:hover {\n",
              "      background-color: #434B5C;\n",
              "      box-shadow: 0px 1px 3px 1px rgba(0, 0, 0, 0.15);\n",
              "      filter: drop-shadow(0px 1px 2px rgba(0, 0, 0, 0.3));\n",
              "      fill: #FFFFFF;\n",
              "    }\n",
              "  </style>\n",
              "\n",
              "      <script>\n",
              "        const buttonEl =\n",
              "          document.querySelector('#df-d8860756-7506-4afe-9f29-1e80cd4440d9 button.colab-df-convert');\n",
              "        buttonEl.style.display =\n",
              "          google.colab.kernel.accessAllowed ? 'block' : 'none';\n",
              "\n",
              "        async function convertToInteractive(key) {\n",
              "          const element = document.querySelector('#df-d8860756-7506-4afe-9f29-1e80cd4440d9');\n",
              "          const dataTable =\n",
              "            await google.colab.kernel.invokeFunction('convertToInteractive',\n",
              "                                                     [key], {});\n",
              "          if (!dataTable) return;\n",
              "\n",
              "          const docLinkHtml = 'Like what you see? Visit the ' +\n",
              "            '<a target=\"_blank\" href=https://colab.research.google.com/notebooks/data_table.ipynb>data table notebook</a>'\n",
              "            + ' to learn more about interactive tables.';\n",
              "          element.innerHTML = '';\n",
              "          dataTable['output_type'] = 'display_data';\n",
              "          await google.colab.output.renderOutput(dataTable, element);\n",
              "          const docLink = document.createElement('div');\n",
              "          docLink.innerHTML = docLinkHtml;\n",
              "          element.appendChild(docLink);\n",
              "        }\n",
              "      </script>\n",
              "    </div>\n",
              "  </div>\n",
              "  "
            ]
          },
          "metadata": {},
          "execution_count": 54
        }
      ],
      "source": [
        "df"
      ]
    },
    {
      "cell_type": "code",
      "execution_count": null,
      "metadata": {
        "id": "WwWOrYxPAxiM"
      },
      "outputs": [],
      "source": [
        "df.rename(columns = {0:'Character', 1:'Class'}, inplace = True)"
      ]
    },
    {
      "cell_type": "code",
      "execution_count": null,
      "metadata": {
        "colab": {
          "base_uri": "https://localhost:8080/"
        },
        "id": "eFTOyW3hA5Bw",
        "outputId": "5bacc646-bc82-4d5f-cc2a-c46a8fc550f7"
      },
      "outputs": [
        {
          "output_type": "execute_result",
          "data": {
            "text/plain": [
              "Index(['Character', 'Class'], dtype='object')"
            ]
          },
          "metadata": {},
          "execution_count": 56
        }
      ],
      "source": [
        "df.columns"
      ]
    },
    {
      "cell_type": "code",
      "execution_count": null,
      "metadata": {
        "id": "M7uM1_xzBJgJ"
      },
      "outputs": [],
      "source": [
        "df = df.sample(frac=1)"
      ]
    },
    {
      "cell_type": "code",
      "execution_count": null,
      "metadata": {
        "id": "zeqb1rTuHlW3"
      },
      "outputs": [],
      "source": [
        "def zeroPadTill(image, r, c):\n",
        "  ri, ci = image.shape\n",
        "  # ri, ci, x = image.shape\n",
        "  pad_rows = r-ri\n",
        "  pad_cols = c-ci\n",
        "  image = cv2.copyMakeBorder(image, pad_rows, 0, pad_cols, 0, cv2.BORDER_CONSTANT)\n",
        "  return image"
      ]
    },
    {
      "cell_type": "code",
      "execution_count": null,
      "metadata": {
        "id": "26p_6se7HZ88"
      },
      "outputs": [],
      "source": [
        "data = []\n",
        "for image in df['Character']:\n",
        "  image = zeroPadTill(image, 32, 32)\n",
        "  data.append(image)\n",
        "data = np.array(data)"
      ]
    },
    {
      "cell_type": "code",
      "source": [
        "for i in range(data.shape[0]):\n",
        "  #print(data[i].shape)\n",
        "  if(data[i].shape[0] != 32 or data[i].shape[1] != 32):\n",
        "    print(i)"
      ],
      "metadata": {
        "id": "3G9rJXmQnUQr"
      },
      "execution_count": null,
      "outputs": []
    },
    {
      "cell_type": "code",
      "source": [
        "labels = df['Class'].to_numpy()"
      ],
      "metadata": {
        "id": "LqpQUGXynjT5"
      },
      "execution_count": null,
      "outputs": []
    },
    {
      "cell_type": "markdown",
      "source": [],
      "metadata": {
        "id": "f7Gp4_YiZW5A"
      }
    },
    {
      "cell_type": "code",
      "source": [
        "from tensorflow.keras.models import Sequential\n",
        "from tensorflow.keras.layers import Dense\n",
        "from tensorflow.keras.layers import Dropout\n",
        "from tensorflow.keras.utils import to_categorical\n",
        "from tensorflow.keras.layers import Flatten\n",
        "from tensorflow.keras.layers import Conv2D\n",
        "from tensorflow.keras.layers import MaxPooling2D\n",
        "import matplotlib.pyplot as plt\n",
        "import seaborn as sns\n",
        "from sklearn.model_selection import train_test_split\n",
        "\n",
        "import keras\n",
        "from keras.models import Sequential\n",
        "from keras.layers import Dense, Conv2D, MaxPool2D, Flatten , Dropout\n",
        "from keras.preprocessing.image import ImageDataGenerator\n",
        "from keras.optimizers import Adam\n",
        "\n",
        "from sklearn.metrics import classification_report,confusion_matrix\n",
        "\n",
        "import tensorflow as tf\n",
        "\n",
        "import cv2\n",
        "import os\n",
        "\n",
        "import numpy as np"
      ],
      "metadata": {
        "id": "vgeULZdDZXKh"
      },
      "execution_count": null,
      "outputs": []
    },
    {
      "cell_type": "code",
      "source": [
        "x_train, x_test, y_train, y_test = train_test_split(data, labels, test_size=0.3,random_state =42)"
      ],
      "metadata": {
        "id": "s5yVGHhXnjYN"
      },
      "execution_count": null,
      "outputs": []
    },
    {
      "cell_type": "code",
      "source": [
        "type(x_train)"
      ],
      "metadata": {
        "id": "qqefX54DiCrq",
        "colab": {
          "base_uri": "https://localhost:8080/"
        },
        "outputId": "89552f72-9623-45ff-e46c-02f7f8d0e5c8"
      },
      "execution_count": null,
      "outputs": [
        {
          "output_type": "execute_result",
          "data": {
            "text/plain": [
              "numpy.ndarray"
            ]
          },
          "metadata": {},
          "execution_count": 64
        }
      ]
    },
    {
      "cell_type": "code",
      "source": [
        "x_train = x_train.reshape((x_train.shape[0], 32, 32, 1)).astype('float32')\n",
        "x_test = x_test.reshape((x_test.shape[0], 32, 32, 1)).astype('float32')"
      ],
      "metadata": {
        "id": "gzl6g3jKh7Or"
      },
      "execution_count": null,
      "outputs": []
    },
    {
      "cell_type": "code",
      "source": [
        "x_train = np.array(x_train) / 255\n",
        "x_test = np.array(x_test) / 255"
      ],
      "metadata": {
        "id": "6O_5wC5Kn1-4"
      },
      "execution_count": null,
      "outputs": []
    },
    {
      "cell_type": "code",
      "source": [
        "img_size = 32"
      ],
      "metadata": {
        "id": "RwW81Skwn2CB"
      },
      "execution_count": null,
      "outputs": []
    },
    {
      "cell_type": "code",
      "source": [
        "y_test_df = y_test.copy()"
      ],
      "metadata": {
        "id": "6KVL8A3gsVCP"
      },
      "execution_count": null,
      "outputs": []
    },
    {
      "cell_type": "code",
      "source": [
        "y_train = np.array(y_train)\n",
        "y_test = np.array(y_test)"
      ],
      "metadata": {
        "id": "MCLcaq80n2E6"
      },
      "execution_count": null,
      "outputs": []
    },
    {
      "cell_type": "code",
      "source": [
        "y_train = to_categorical(y_train)\n",
        "y_test = to_categorical(y_test)"
      ],
      "metadata": {
        "id": "LqT-SyTtotSa"
      },
      "execution_count": null,
      "outputs": []
    },
    {
      "cell_type": "code",
      "source": [
        "num_classes = df[\"Class\"].unique().size\n",
        "num_classes"
      ],
      "metadata": {
        "id": "lR4FYpvWpX_O",
        "colab": {
          "base_uri": "https://localhost:8080/"
        },
        "outputId": "ec5b5573-0a18-4536-fbaa-6cf9d37dd01e"
      },
      "execution_count": null,
      "outputs": [
        {
          "output_type": "execute_result",
          "data": {
            "text/plain": [
              "27"
            ]
          },
          "metadata": {},
          "execution_count": 71
        }
      ]
    },
    {
      "cell_type": "code",
      "source": [
        "df[\"Class\"].value_counts()"
      ],
      "metadata": {
        "colab": {
          "base_uri": "https://localhost:8080/"
        },
        "id": "BbA7jId_qgQx",
        "outputId": "73540e0e-8c9c-45d7-e64b-251d43dbf5d1"
      },
      "execution_count": null,
      "outputs": [
        {
          "output_type": "execute_result",
          "data": {
            "text/plain": [
              "26    522\n",
              "8      22\n",
              "3      20\n",
              "24     20\n",
              "1      20\n",
              "22     20\n",
              "14     20\n",
              "10     20\n",
              "12     20\n",
              "25     20\n",
              "16     20\n",
              "15     20\n",
              "21     20\n",
              "17     20\n",
              "0      20\n",
              "9      20\n",
              "7      20\n",
              "19     20\n",
              "13     20\n",
              "5      20\n",
              "23     20\n",
              "18     20\n",
              "20     20\n",
              "6      20\n",
              "4      20\n",
              "2      20\n",
              "11     18\n",
              "Name: Class, dtype: int64"
            ]
          },
          "metadata": {},
          "execution_count": 72
        }
      ]
    },
    {
      "cell_type": "code",
      "source": [
        "df"
      ],
      "metadata": {
        "colab": {
          "base_uri": "https://localhost:8080/",
          "height": 423
        },
        "id": "FZe0CV2Kqrt7",
        "outputId": "9c5bb096-0397-4953-d830-f4558f0d82a2"
      },
      "execution_count": null,
      "outputs": [
        {
          "output_type": "execute_result",
          "data": {
            "text/plain": [
              "                                             Character  Class\n",
              "876  [[0, 0, 0, 0, 0, 0, 0, 0, 0, 0, 0, 0, 0, 0, 0,...     26\n",
              "890  [[0, 0, 0, 0, 0, 0, 0, 0, 0, 0, 0, 0, 0, 0, 0,...     26\n",
              "847  [[0, 0, 0, 0, 0, 0, 0, 0, 0, 0, 0, 0, 0, 0, 0,...     26\n",
              "14   [[0, 0, 0, 0, 0, 0, 0, 0, 0, 0, 0, 0, 0, 0, 0,...      0\n",
              "991  [[0, 0, 0, 0, 0, 0, 0, 0, 0, 0, 0, 0, 0, 0, 0,...     26\n",
              "..                                                 ...    ...\n",
              "574  [[0, 0, 0, 0, 0, 0, 0, 0, 0, 0, 0, 0, 0, 0, 0,...     26\n",
              "175  [[0, 0, 0, 0, 0, 0, 0, 0, 0, 0, 0, 0, 0, 0, 0,...      8\n",
              "835  [[0, 0, 0, 0, 0, 0, 0, 0, 0, 0, 0, 0, 0, 0, 0,...     26\n",
              "686  [[0, 0, 0, 0, 0, 0, 0, 0, 0, 0, 0, 0, 0, 0, 0,...     26\n",
              "292  [[0, 0, 0, 0, 0, 0, 0, 0, 0, 0, 0, 0, 0, 0, 0,...     14\n",
              "\n",
              "[1042 rows x 2 columns]"
            ],
            "text/html": [
              "\n",
              "  <div id=\"df-039d8a6b-0117-4911-ac13-d0301c462d11\">\n",
              "    <div class=\"colab-df-container\">\n",
              "      <div>\n",
              "<style scoped>\n",
              "    .dataframe tbody tr th:only-of-type {\n",
              "        vertical-align: middle;\n",
              "    }\n",
              "\n",
              "    .dataframe tbody tr th {\n",
              "        vertical-align: top;\n",
              "    }\n",
              "\n",
              "    .dataframe thead th {\n",
              "        text-align: right;\n",
              "    }\n",
              "</style>\n",
              "<table border=\"1\" class=\"dataframe\">\n",
              "  <thead>\n",
              "    <tr style=\"text-align: right;\">\n",
              "      <th></th>\n",
              "      <th>Character</th>\n",
              "      <th>Class</th>\n",
              "    </tr>\n",
              "  </thead>\n",
              "  <tbody>\n",
              "    <tr>\n",
              "      <th>876</th>\n",
              "      <td>[[0, 0, 0, 0, 0, 0, 0, 0, 0, 0, 0, 0, 0, 0, 0,...</td>\n",
              "      <td>26</td>\n",
              "    </tr>\n",
              "    <tr>\n",
              "      <th>890</th>\n",
              "      <td>[[0, 0, 0, 0, 0, 0, 0, 0, 0, 0, 0, 0, 0, 0, 0,...</td>\n",
              "      <td>26</td>\n",
              "    </tr>\n",
              "    <tr>\n",
              "      <th>847</th>\n",
              "      <td>[[0, 0, 0, 0, 0, 0, 0, 0, 0, 0, 0, 0, 0, 0, 0,...</td>\n",
              "      <td>26</td>\n",
              "    </tr>\n",
              "    <tr>\n",
              "      <th>14</th>\n",
              "      <td>[[0, 0, 0, 0, 0, 0, 0, 0, 0, 0, 0, 0, 0, 0, 0,...</td>\n",
              "      <td>0</td>\n",
              "    </tr>\n",
              "    <tr>\n",
              "      <th>991</th>\n",
              "      <td>[[0, 0, 0, 0, 0, 0, 0, 0, 0, 0, 0, 0, 0, 0, 0,...</td>\n",
              "      <td>26</td>\n",
              "    </tr>\n",
              "    <tr>\n",
              "      <th>...</th>\n",
              "      <td>...</td>\n",
              "      <td>...</td>\n",
              "    </tr>\n",
              "    <tr>\n",
              "      <th>574</th>\n",
              "      <td>[[0, 0, 0, 0, 0, 0, 0, 0, 0, 0, 0, 0, 0, 0, 0,...</td>\n",
              "      <td>26</td>\n",
              "    </tr>\n",
              "    <tr>\n",
              "      <th>175</th>\n",
              "      <td>[[0, 0, 0, 0, 0, 0, 0, 0, 0, 0, 0, 0, 0, 0, 0,...</td>\n",
              "      <td>8</td>\n",
              "    </tr>\n",
              "    <tr>\n",
              "      <th>835</th>\n",
              "      <td>[[0, 0, 0, 0, 0, 0, 0, 0, 0, 0, 0, 0, 0, 0, 0,...</td>\n",
              "      <td>26</td>\n",
              "    </tr>\n",
              "    <tr>\n",
              "      <th>686</th>\n",
              "      <td>[[0, 0, 0, 0, 0, 0, 0, 0, 0, 0, 0, 0, 0, 0, 0,...</td>\n",
              "      <td>26</td>\n",
              "    </tr>\n",
              "    <tr>\n",
              "      <th>292</th>\n",
              "      <td>[[0, 0, 0, 0, 0, 0, 0, 0, 0, 0, 0, 0, 0, 0, 0,...</td>\n",
              "      <td>14</td>\n",
              "    </tr>\n",
              "  </tbody>\n",
              "</table>\n",
              "<p>1042 rows × 2 columns</p>\n",
              "</div>\n",
              "      <button class=\"colab-df-convert\" onclick=\"convertToInteractive('df-039d8a6b-0117-4911-ac13-d0301c462d11')\"\n",
              "              title=\"Convert this dataframe to an interactive table.\"\n",
              "              style=\"display:none;\">\n",
              "        \n",
              "  <svg xmlns=\"http://www.w3.org/2000/svg\" height=\"24px\"viewBox=\"0 0 24 24\"\n",
              "       width=\"24px\">\n",
              "    <path d=\"M0 0h24v24H0V0z\" fill=\"none\"/>\n",
              "    <path d=\"M18.56 5.44l.94 2.06.94-2.06 2.06-.94-2.06-.94-.94-2.06-.94 2.06-2.06.94zm-11 1L8.5 8.5l.94-2.06 2.06-.94-2.06-.94L8.5 2.5l-.94 2.06-2.06.94zm10 10l.94 2.06.94-2.06 2.06-.94-2.06-.94-.94-2.06-.94 2.06-2.06.94z\"/><path d=\"M17.41 7.96l-1.37-1.37c-.4-.4-.92-.59-1.43-.59-.52 0-1.04.2-1.43.59L10.3 9.45l-7.72 7.72c-.78.78-.78 2.05 0 2.83L4 21.41c.39.39.9.59 1.41.59.51 0 1.02-.2 1.41-.59l7.78-7.78 2.81-2.81c.8-.78.8-2.07 0-2.86zM5.41 20L4 18.59l7.72-7.72 1.47 1.35L5.41 20z\"/>\n",
              "  </svg>\n",
              "      </button>\n",
              "      \n",
              "  <style>\n",
              "    .colab-df-container {\n",
              "      display:flex;\n",
              "      flex-wrap:wrap;\n",
              "      gap: 12px;\n",
              "    }\n",
              "\n",
              "    .colab-df-convert {\n",
              "      background-color: #E8F0FE;\n",
              "      border: none;\n",
              "      border-radius: 50%;\n",
              "      cursor: pointer;\n",
              "      display: none;\n",
              "      fill: #1967D2;\n",
              "      height: 32px;\n",
              "      padding: 0 0 0 0;\n",
              "      width: 32px;\n",
              "    }\n",
              "\n",
              "    .colab-df-convert:hover {\n",
              "      background-color: #E2EBFA;\n",
              "      box-shadow: 0px 1px 2px rgba(60, 64, 67, 0.3), 0px 1px 3px 1px rgba(60, 64, 67, 0.15);\n",
              "      fill: #174EA6;\n",
              "    }\n",
              "\n",
              "    [theme=dark] .colab-df-convert {\n",
              "      background-color: #3B4455;\n",
              "      fill: #D2E3FC;\n",
              "    }\n",
              "\n",
              "    [theme=dark] .colab-df-convert:hover {\n",
              "      background-color: #434B5C;\n",
              "      box-shadow: 0px 1px 3px 1px rgba(0, 0, 0, 0.15);\n",
              "      filter: drop-shadow(0px 1px 2px rgba(0, 0, 0, 0.3));\n",
              "      fill: #FFFFFF;\n",
              "    }\n",
              "  </style>\n",
              "\n",
              "      <script>\n",
              "        const buttonEl =\n",
              "          document.querySelector('#df-039d8a6b-0117-4911-ac13-d0301c462d11 button.colab-df-convert');\n",
              "        buttonEl.style.display =\n",
              "          google.colab.kernel.accessAllowed ? 'block' : 'none';\n",
              "\n",
              "        async function convertToInteractive(key) {\n",
              "          const element = document.querySelector('#df-039d8a6b-0117-4911-ac13-d0301c462d11');\n",
              "          const dataTable =\n",
              "            await google.colab.kernel.invokeFunction('convertToInteractive',\n",
              "                                                     [key], {});\n",
              "          if (!dataTable) return;\n",
              "\n",
              "          const docLinkHtml = 'Like what you see? Visit the ' +\n",
              "            '<a target=\"_blank\" href=https://colab.research.google.com/notebooks/data_table.ipynb>data table notebook</a>'\n",
              "            + ' to learn more about interactive tables.';\n",
              "          element.innerHTML = '';\n",
              "          dataTable['output_type'] = 'display_data';\n",
              "          await google.colab.output.renderOutput(dataTable, element);\n",
              "          const docLink = document.createElement('div');\n",
              "          docLink.innerHTML = docLinkHtml;\n",
              "          element.appendChild(docLink);\n",
              "        }\n",
              "      </script>\n",
              "    </div>\n",
              "  </div>\n",
              "  "
            ]
          },
          "metadata": {},
          "execution_count": 73
        }
      ]
    },
    {
      "cell_type": "code",
      "source": [
        "# define the larger model\n",
        "def larger_model():\n",
        "\t# create model\n",
        "\tmodel = Sequential()\n",
        "\tmodel.add(Conv2D(30, (5, 5), input_shape=(32, 32, 1), activation='relu'))\n",
        "\tmodel.add(MaxPooling2D(pool_size=(2, 2)))\n",
        "\tmodel.add(Conv2D(15, (3, 3), activation='relu'))\n",
        "\tmodel.add(MaxPooling2D(pool_size=(2, 2)))\n",
        "\tmodel.add(Dropout(0.2))\n",
        "\tmodel.add(Flatten())\n",
        "\tmodel.add(Dense(128, activation='relu'))\n",
        "\tmodel.add(Dense(50, activation='relu'))\n",
        "\tmodel.add(Dense(num_classes, activation='softmax'))\n",
        "\t# Compile model\n",
        "\tmodel.compile(loss='categorical_crossentropy', optimizer='adam', metrics=['accuracy'])\n",
        "\treturn model"
      ],
      "metadata": {
        "id": "WrwSpn-KnK1D"
      },
      "execution_count": null,
      "outputs": []
    },
    {
      "cell_type": "code",
      "source": [
        "# build the model\n",
        "model = larger_model()\n",
        "print(model.summary())\n",
        "# Fit the model\n",
        "history = model.fit(x_train, y_train, validation_data=(x_test, y_test), epochs=500, batch_size=200)\n",
        "# Final evaluation of the model\n",
        "scores = model.evaluate(x_test, y_test, verbose=0)\n",
        "print(\"Large CNN Error: %.2f%%\" % (100-scores[1]*100))"
      ],
      "metadata": {
        "colab": {
          "base_uri": "https://localhost:8080/"
        },
        "id": "Qxya8BUFnYgm",
        "outputId": "92d9d557-d2a8-47a6-9719-cb9c530f2d8c"
      },
      "execution_count": null,
      "outputs": [
        {
          "output_type": "stream",
          "name": "stdout",
          "text": [
            "Model: \"sequential_1\"\n",
            "_________________________________________________________________\n",
            " Layer (type)                Output Shape              Param #   \n",
            "=================================================================\n",
            " conv2d_2 (Conv2D)           (None, 28, 28, 30)        780       \n",
            "                                                                 \n",
            " max_pooling2d_2 (MaxPooling  (None, 14, 14, 30)       0         \n",
            " 2D)                                                             \n",
            "                                                                 \n",
            " conv2d_3 (Conv2D)           (None, 12, 12, 15)        4065      \n",
            "                                                                 \n",
            " max_pooling2d_3 (MaxPooling  (None, 6, 6, 15)         0         \n",
            " 2D)                                                             \n",
            "                                                                 \n",
            " dropout_1 (Dropout)         (None, 6, 6, 15)          0         \n",
            "                                                                 \n",
            " flatten_1 (Flatten)         (None, 540)               0         \n",
            "                                                                 \n",
            " dense_3 (Dense)             (None, 128)               69248     \n",
            "                                                                 \n",
            " dense_4 (Dense)             (None, 50)                6450      \n",
            "                                                                 \n",
            " dense_5 (Dense)             (None, 27)                1377      \n",
            "                                                                 \n",
            "=================================================================\n",
            "Total params: 81,920\n",
            "Trainable params: 81,920\n",
            "Non-trainable params: 0\n",
            "_________________________________________________________________\n",
            "None\n",
            "Epoch 1/500\n",
            "4/4 [==============================] - 2s 267ms/step - loss: 3.2045 - accuracy: 0.2497 - val_loss: 2.8817 - val_accuracy: 0.5208\n",
            "Epoch 2/500\n",
            "4/4 [==============================] - 1s 190ms/step - loss: 2.6935 - accuracy: 0.4925 - val_loss: 2.2643 - val_accuracy: 0.5208\n",
            "Epoch 3/500\n",
            "4/4 [==============================] - 1s 183ms/step - loss: 2.3849 - accuracy: 0.4925 - val_loss: 2.2921 - val_accuracy: 0.5208\n",
            "Epoch 4/500\n",
            "4/4 [==============================] - 1s 182ms/step - loss: 2.2963 - accuracy: 0.4925 - val_loss: 2.1949 - val_accuracy: 0.5208\n",
            "Epoch 5/500\n",
            "4/4 [==============================] - 1s 189ms/step - loss: 2.2664 - accuracy: 0.4925 - val_loss: 2.2182 - val_accuracy: 0.5208\n",
            "Epoch 6/500\n",
            "4/4 [==============================] - 1s 187ms/step - loss: 2.2170 - accuracy: 0.4925 - val_loss: 2.1153 - val_accuracy: 0.5208\n",
            "Epoch 7/500\n",
            "4/4 [==============================] - 1s 181ms/step - loss: 2.1636 - accuracy: 0.4925 - val_loss: 2.1023 - val_accuracy: 0.5208\n",
            "Epoch 8/500\n",
            "4/4 [==============================] - 1s 183ms/step - loss: 2.1266 - accuracy: 0.4925 - val_loss: 2.0589 - val_accuracy: 0.5208\n",
            "Epoch 9/500\n",
            "4/4 [==============================] - 1s 192ms/step - loss: 2.0859 - accuracy: 0.4925 - val_loss: 2.0280 - val_accuracy: 0.5208\n",
            "Epoch 10/500\n",
            "4/4 [==============================] - 1s 182ms/step - loss: 2.0377 - accuracy: 0.4925 - val_loss: 1.9888 - val_accuracy: 0.5208\n",
            "Epoch 11/500\n",
            "4/4 [==============================] - 1s 185ms/step - loss: 2.0087 - accuracy: 0.4925 - val_loss: 1.9467 - val_accuracy: 0.5208\n",
            "Epoch 12/500\n",
            "4/4 [==============================] - 1s 187ms/step - loss: 1.9571 - accuracy: 0.4925 - val_loss: 1.9059 - val_accuracy: 0.5208\n",
            "Epoch 13/500\n",
            "4/4 [==============================] - 1s 185ms/step - loss: 1.9099 - accuracy: 0.4925 - val_loss: 1.8617 - val_accuracy: 0.5208\n",
            "Epoch 14/500\n",
            "4/4 [==============================] - 1s 184ms/step - loss: 1.8524 - accuracy: 0.4925 - val_loss: 1.8098 - val_accuracy: 0.5208\n",
            "Epoch 15/500\n",
            "4/4 [==============================] - 1s 189ms/step - loss: 1.7958 - accuracy: 0.4952 - val_loss: 1.7502 - val_accuracy: 0.5208\n",
            "Epoch 16/500\n",
            "4/4 [==============================] - 1s 188ms/step - loss: 1.7243 - accuracy: 0.5117 - val_loss: 1.6832 - val_accuracy: 0.5463\n",
            "Epoch 17/500\n",
            "4/4 [==============================] - 1s 182ms/step - loss: 1.6401 - accuracy: 0.5405 - val_loss: 1.6071 - val_accuracy: 0.5815\n",
            "Epoch 18/500\n",
            "4/4 [==============================] - 1s 184ms/step - loss: 1.5425 - accuracy: 0.5734 - val_loss: 1.5162 - val_accuracy: 0.6134\n",
            "Epoch 19/500\n",
            "4/4 [==============================] - 1s 191ms/step - loss: 1.4392 - accuracy: 0.6118 - val_loss: 1.4149 - val_accuracy: 0.6166\n",
            "Epoch 20/500\n",
            "4/4 [==============================] - 1s 191ms/step - loss: 1.3328 - accuracy: 0.6296 - val_loss: 1.3246 - val_accuracy: 0.6486\n",
            "Epoch 21/500\n",
            "4/4 [==============================] - 1s 185ms/step - loss: 1.2122 - accuracy: 0.6543 - val_loss: 1.2167 - val_accuracy: 0.6581\n",
            "Epoch 22/500\n",
            "4/4 [==============================] - 1s 183ms/step - loss: 1.0953 - accuracy: 0.6982 - val_loss: 1.1079 - val_accuracy: 0.6613\n",
            "Epoch 23/500\n",
            "4/4 [==============================] - 1s 191ms/step - loss: 0.9855 - accuracy: 0.6941 - val_loss: 1.0176 - val_accuracy: 0.6901\n",
            "Epoch 24/500\n",
            "4/4 [==============================] - 1s 186ms/step - loss: 0.8901 - accuracy: 0.7325 - val_loss: 0.9569 - val_accuracy: 0.7188\n",
            "Epoch 25/500\n",
            "4/4 [==============================] - 1s 184ms/step - loss: 0.8288 - accuracy: 0.7531 - val_loss: 0.9621 - val_accuracy: 0.7029\n",
            "Epoch 26/500\n",
            "4/4 [==============================] - 1s 188ms/step - loss: 0.7842 - accuracy: 0.7572 - val_loss: 0.9152 - val_accuracy: 0.7284\n",
            "Epoch 27/500\n",
            "4/4 [==============================] - 1s 188ms/step - loss: 0.7683 - accuracy: 0.7599 - val_loss: 0.8480 - val_accuracy: 0.7444\n",
            "Epoch 28/500\n",
            "4/4 [==============================] - 1s 185ms/step - loss: 0.6985 - accuracy: 0.7764 - val_loss: 0.8110 - val_accuracy: 0.7540\n",
            "Epoch 29/500\n",
            "4/4 [==============================] - 1s 187ms/step - loss: 0.6419 - accuracy: 0.8080 - val_loss: 0.7346 - val_accuracy: 0.7732\n",
            "Epoch 30/500\n",
            "4/4 [==============================] - 1s 194ms/step - loss: 0.5857 - accuracy: 0.8176 - val_loss: 0.7410 - val_accuracy: 0.7572\n",
            "Epoch 31/500\n",
            "4/4 [==============================] - 1s 185ms/step - loss: 0.5635 - accuracy: 0.8203 - val_loss: 0.7528 - val_accuracy: 0.7859\n",
            "Epoch 32/500\n",
            "4/4 [==============================] - 1s 180ms/step - loss: 0.5338 - accuracy: 0.8368 - val_loss: 0.6926 - val_accuracy: 0.7923\n",
            "Epoch 33/500\n",
            "4/4 [==============================] - 1s 185ms/step - loss: 0.5092 - accuracy: 0.8354 - val_loss: 0.6988 - val_accuracy: 0.8051\n",
            "Epoch 34/500\n",
            "4/4 [==============================] - 1s 187ms/step - loss: 0.4698 - accuracy: 0.8285 - val_loss: 0.6814 - val_accuracy: 0.7923\n",
            "Epoch 35/500\n",
            "4/4 [==============================] - 1s 178ms/step - loss: 0.4717 - accuracy: 0.8519 - val_loss: 0.6518 - val_accuracy: 0.8019\n",
            "Epoch 36/500\n",
            "4/4 [==============================] - 1s 187ms/step - loss: 0.4345 - accuracy: 0.8601 - val_loss: 0.6517 - val_accuracy: 0.8051\n",
            "Epoch 37/500\n",
            "4/4 [==============================] - 1s 183ms/step - loss: 0.4127 - accuracy: 0.8807 - val_loss: 0.6081 - val_accuracy: 0.8211\n",
            "Epoch 38/500\n",
            "4/4 [==============================] - 1s 186ms/step - loss: 0.3529 - accuracy: 0.8944 - val_loss: 0.6043 - val_accuracy: 0.8115\n",
            "Epoch 39/500\n",
            "4/4 [==============================] - 1s 181ms/step - loss: 0.3762 - accuracy: 0.8820 - val_loss: 0.6403 - val_accuracy: 0.8147\n",
            "Epoch 40/500\n",
            "4/4 [==============================] - 1s 185ms/step - loss: 0.3461 - accuracy: 0.8999 - val_loss: 0.6116 - val_accuracy: 0.8083\n",
            "Epoch 41/500\n",
            "4/4 [==============================] - 1s 183ms/step - loss: 0.3477 - accuracy: 0.8944 - val_loss: 0.6007 - val_accuracy: 0.8179\n",
            "Epoch 42/500\n",
            "4/4 [==============================] - 1s 179ms/step - loss: 0.2988 - accuracy: 0.9053 - val_loss: 0.5559 - val_accuracy: 0.8371\n",
            "Epoch 43/500\n",
            "4/4 [==============================] - 1s 181ms/step - loss: 0.3034 - accuracy: 0.9026 - val_loss: 0.5610 - val_accuracy: 0.8275\n",
            "Epoch 44/500\n",
            "4/4 [==============================] - 1s 181ms/step - loss: 0.2469 - accuracy: 0.9218 - val_loss: 0.5783 - val_accuracy: 0.8147\n",
            "Epoch 45/500\n",
            "4/4 [==============================] - 1s 186ms/step - loss: 0.2668 - accuracy: 0.9108 - val_loss: 0.5143 - val_accuracy: 0.8339\n",
            "Epoch 46/500\n",
            "4/4 [==============================] - 1s 180ms/step - loss: 0.2597 - accuracy: 0.9218 - val_loss: 0.5162 - val_accuracy: 0.8339\n",
            "Epoch 47/500\n",
            "4/4 [==============================] - 1s 181ms/step - loss: 0.2443 - accuracy: 0.9246 - val_loss: 0.5752 - val_accuracy: 0.8275\n",
            "Epoch 48/500\n",
            "4/4 [==============================] - 1s 175ms/step - loss: 0.2399 - accuracy: 0.9218 - val_loss: 0.5506 - val_accuracy: 0.8371\n",
            "Epoch 49/500\n",
            "4/4 [==============================] - 1s 178ms/step - loss: 0.2165 - accuracy: 0.9355 - val_loss: 0.5283 - val_accuracy: 0.8179\n",
            "Epoch 50/500\n",
            "4/4 [==============================] - 1s 188ms/step - loss: 0.2012 - accuracy: 0.9424 - val_loss: 0.4934 - val_accuracy: 0.8403\n",
            "Epoch 51/500\n",
            "4/4 [==============================] - 1s 179ms/step - loss: 0.1957 - accuracy: 0.9438 - val_loss: 0.5171 - val_accuracy: 0.8435\n",
            "Epoch 52/500\n",
            "4/4 [==============================] - 1s 178ms/step - loss: 0.2126 - accuracy: 0.9328 - val_loss: 0.5101 - val_accuracy: 0.8530\n",
            "Epoch 53/500\n",
            "4/4 [==============================] - 1s 182ms/step - loss: 0.1977 - accuracy: 0.9369 - val_loss: 0.5258 - val_accuracy: 0.8371\n",
            "Epoch 54/500\n",
            "4/4 [==============================] - 1s 176ms/step - loss: 0.1869 - accuracy: 0.9451 - val_loss: 0.5163 - val_accuracy: 0.8466\n",
            "Epoch 55/500\n",
            "4/4 [==============================] - 1s 177ms/step - loss: 0.1621 - accuracy: 0.9547 - val_loss: 0.5220 - val_accuracy: 0.8339\n",
            "Epoch 56/500\n",
            "4/4 [==============================] - 1s 180ms/step - loss: 0.1583 - accuracy: 0.9492 - val_loss: 0.5603 - val_accuracy: 0.8562\n",
            "Epoch 57/500\n",
            "4/4 [==============================] - 1s 176ms/step - loss: 0.1560 - accuracy: 0.9575 - val_loss: 0.5057 - val_accuracy: 0.8530\n",
            "Epoch 58/500\n",
            "4/4 [==============================] - 1s 174ms/step - loss: 0.1494 - accuracy: 0.9602 - val_loss: 0.5052 - val_accuracy: 0.8403\n",
            "Epoch 59/500\n",
            "4/4 [==============================] - 1s 177ms/step - loss: 0.1467 - accuracy: 0.9616 - val_loss: 0.5163 - val_accuracy: 0.8562\n",
            "Epoch 60/500\n",
            "4/4 [==============================] - 1s 185ms/step - loss: 0.1632 - accuracy: 0.9506 - val_loss: 0.5270 - val_accuracy: 0.8339\n",
            "Epoch 61/500\n",
            "4/4 [==============================] - 1s 175ms/step - loss: 0.1317 - accuracy: 0.9671 - val_loss: 0.4980 - val_accuracy: 0.8626\n",
            "Epoch 62/500\n",
            "4/4 [==============================] - 1s 176ms/step - loss: 0.1215 - accuracy: 0.9698 - val_loss: 0.4907 - val_accuracy: 0.8466\n",
            "Epoch 63/500\n",
            "4/4 [==============================] - 1s 179ms/step - loss: 0.1349 - accuracy: 0.9588 - val_loss: 0.4942 - val_accuracy: 0.8403\n",
            "Epoch 64/500\n",
            "4/4 [==============================] - 1s 176ms/step - loss: 0.1153 - accuracy: 0.9712 - val_loss: 0.4650 - val_accuracy: 0.8435\n",
            "Epoch 65/500\n",
            "4/4 [==============================] - 1s 179ms/step - loss: 0.1371 - accuracy: 0.9602 - val_loss: 0.4951 - val_accuracy: 0.8530\n",
            "Epoch 66/500\n",
            "4/4 [==============================] - 1s 180ms/step - loss: 0.1269 - accuracy: 0.9561 - val_loss: 0.5483 - val_accuracy: 0.8498\n",
            "Epoch 67/500\n",
            "4/4 [==============================] - 1s 177ms/step - loss: 0.1153 - accuracy: 0.9671 - val_loss: 0.4568 - val_accuracy: 0.8562\n",
            "Epoch 68/500\n",
            "4/4 [==============================] - 1s 175ms/step - loss: 0.1008 - accuracy: 0.9726 - val_loss: 0.4825 - val_accuracy: 0.8562\n",
            "Epoch 69/500\n",
            "4/4 [==============================] - 1s 180ms/step - loss: 0.0820 - accuracy: 0.9822 - val_loss: 0.4970 - val_accuracy: 0.8498\n",
            "Epoch 70/500\n",
            "4/4 [==============================] - 1s 185ms/step - loss: 0.0996 - accuracy: 0.9739 - val_loss: 0.4795 - val_accuracy: 0.8594\n",
            "Epoch 71/500\n",
            "4/4 [==============================] - 1s 178ms/step - loss: 0.0938 - accuracy: 0.9794 - val_loss: 0.5146 - val_accuracy: 0.8403\n",
            "Epoch 72/500\n",
            "4/4 [==============================] - 1s 182ms/step - loss: 0.0977 - accuracy: 0.9684 - val_loss: 0.4746 - val_accuracy: 0.8818\n",
            "Epoch 73/500\n",
            "4/4 [==============================] - 1s 185ms/step - loss: 0.0898 - accuracy: 0.9794 - val_loss: 0.4445 - val_accuracy: 0.8658\n",
            "Epoch 74/500\n",
            "4/4 [==============================] - 1s 179ms/step - loss: 0.0678 - accuracy: 0.9835 - val_loss: 0.4707 - val_accuracy: 0.8594\n",
            "Epoch 75/500\n",
            "4/4 [==============================] - 1s 188ms/step - loss: 0.0782 - accuracy: 0.9767 - val_loss: 0.4879 - val_accuracy: 0.8722\n",
            "Epoch 76/500\n",
            "4/4 [==============================] - 1s 181ms/step - loss: 0.0764 - accuracy: 0.9808 - val_loss: 0.4456 - val_accuracy: 0.8626\n",
            "Epoch 77/500\n",
            "4/4 [==============================] - 1s 181ms/step - loss: 0.0706 - accuracy: 0.9849 - val_loss: 0.4557 - val_accuracy: 0.8818\n",
            "Epoch 78/500\n",
            "4/4 [==============================] - 1s 186ms/step - loss: 0.0702 - accuracy: 0.9808 - val_loss: 0.4621 - val_accuracy: 0.8626\n",
            "Epoch 79/500\n",
            "4/4 [==============================] - 1s 186ms/step - loss: 0.0755 - accuracy: 0.9794 - val_loss: 0.4577 - val_accuracy: 0.8658\n",
            "Epoch 80/500\n",
            "4/4 [==============================] - 1s 184ms/step - loss: 0.0750 - accuracy: 0.9767 - val_loss: 0.4473 - val_accuracy: 0.8626\n",
            "Epoch 81/500\n",
            "4/4 [==============================] - 1s 184ms/step - loss: 0.0666 - accuracy: 0.9822 - val_loss: 0.4784 - val_accuracy: 0.8530\n",
            "Epoch 82/500\n",
            "4/4 [==============================] - 1s 185ms/step - loss: 0.0638 - accuracy: 0.9849 - val_loss: 0.4707 - val_accuracy: 0.8626\n",
            "Epoch 83/500\n",
            "4/4 [==============================] - 1s 184ms/step - loss: 0.0647 - accuracy: 0.9808 - val_loss: 0.5135 - val_accuracy: 0.8562\n",
            "Epoch 84/500\n",
            "4/4 [==============================] - 1s 182ms/step - loss: 0.0640 - accuracy: 0.9835 - val_loss: 0.5209 - val_accuracy: 0.8594\n",
            "Epoch 85/500\n",
            "4/4 [==============================] - 1s 180ms/step - loss: 0.0760 - accuracy: 0.9726 - val_loss: 0.4936 - val_accuracy: 0.8530\n",
            "Epoch 86/500\n",
            "4/4 [==============================] - 1s 183ms/step - loss: 0.0687 - accuracy: 0.9781 - val_loss: 0.4296 - val_accuracy: 0.8658\n",
            "Epoch 87/500\n",
            "4/4 [==============================] - 1s 182ms/step - loss: 0.0677 - accuracy: 0.9808 - val_loss: 0.4766 - val_accuracy: 0.8690\n",
            "Epoch 88/500\n",
            "4/4 [==============================] - 1s 181ms/step - loss: 0.0542 - accuracy: 0.9863 - val_loss: 0.5209 - val_accuracy: 0.8594\n",
            "Epoch 89/500\n",
            "4/4 [==============================] - 1s 186ms/step - loss: 0.0621 - accuracy: 0.9849 - val_loss: 0.4902 - val_accuracy: 0.8722\n",
            "Epoch 90/500\n",
            "4/4 [==============================] - 1s 185ms/step - loss: 0.0545 - accuracy: 0.9849 - val_loss: 0.4555 - val_accuracy: 0.8690\n",
            "Epoch 91/500\n",
            "4/4 [==============================] - 1s 181ms/step - loss: 0.0458 - accuracy: 0.9849 - val_loss: 0.4947 - val_accuracy: 0.8530\n",
            "Epoch 92/500\n",
            "4/4 [==============================] - 1s 189ms/step - loss: 0.0591 - accuracy: 0.9808 - val_loss: 0.4998 - val_accuracy: 0.8658\n",
            "Epoch 93/500\n",
            "4/4 [==============================] - 1s 191ms/step - loss: 0.0404 - accuracy: 0.9931 - val_loss: 0.4784 - val_accuracy: 0.8594\n",
            "Epoch 94/500\n",
            "4/4 [==============================] - 1s 180ms/step - loss: 0.0431 - accuracy: 0.9918 - val_loss: 0.4330 - val_accuracy: 0.8690\n",
            "Epoch 95/500\n",
            "4/4 [==============================] - 1s 183ms/step - loss: 0.0430 - accuracy: 0.9904 - val_loss: 0.4806 - val_accuracy: 0.8658\n",
            "Epoch 96/500\n",
            "4/4 [==============================] - 1s 184ms/step - loss: 0.0399 - accuracy: 0.9904 - val_loss: 0.5089 - val_accuracy: 0.8626\n",
            "Epoch 97/500\n",
            "4/4 [==============================] - 1s 181ms/step - loss: 0.0347 - accuracy: 0.9918 - val_loss: 0.4937 - val_accuracy: 0.8722\n",
            "Epoch 98/500\n",
            "4/4 [==============================] - 1s 180ms/step - loss: 0.0324 - accuracy: 0.9931 - val_loss: 0.4782 - val_accuracy: 0.8658\n",
            "Epoch 99/500\n",
            "4/4 [==============================] - 1s 190ms/step - loss: 0.0376 - accuracy: 0.9904 - val_loss: 0.4786 - val_accuracy: 0.8690\n",
            "Epoch 100/500\n",
            "4/4 [==============================] - 1s 188ms/step - loss: 0.0293 - accuracy: 0.9904 - val_loss: 0.4993 - val_accuracy: 0.8626\n",
            "Epoch 101/500\n",
            "4/4 [==============================] - 1s 184ms/step - loss: 0.0393 - accuracy: 0.9877 - val_loss: 0.4909 - val_accuracy: 0.8690\n",
            "Epoch 102/500\n",
            "4/4 [==============================] - 1s 181ms/step - loss: 0.0416 - accuracy: 0.9890 - val_loss: 0.4705 - val_accuracy: 0.8562\n",
            "Epoch 103/500\n",
            "4/4 [==============================] - 1s 185ms/step - loss: 0.0282 - accuracy: 0.9890 - val_loss: 0.4532 - val_accuracy: 0.8850\n",
            "Epoch 104/500\n",
            "4/4 [==============================] - 1s 184ms/step - loss: 0.0317 - accuracy: 0.9945 - val_loss: 0.4525 - val_accuracy: 0.8914\n",
            "Epoch 105/500\n",
            "4/4 [==============================] - 1s 184ms/step - loss: 0.0285 - accuracy: 0.9945 - val_loss: 0.5283 - val_accuracy: 0.8626\n",
            "Epoch 106/500\n",
            "4/4 [==============================] - 1s 186ms/step - loss: 0.0314 - accuracy: 0.9918 - val_loss: 0.5335 - val_accuracy: 0.8498\n",
            "Epoch 107/500\n",
            "4/4 [==============================] - 1s 188ms/step - loss: 0.0376 - accuracy: 0.9863 - val_loss: 0.4834 - val_accuracy: 0.8754\n",
            "Epoch 108/500\n",
            "4/4 [==============================] - 1s 183ms/step - loss: 0.0278 - accuracy: 0.9918 - val_loss: 0.4519 - val_accuracy: 0.8754\n",
            "Epoch 109/500\n",
            "4/4 [==============================] - 1s 185ms/step - loss: 0.0307 - accuracy: 0.9890 - val_loss: 0.4520 - val_accuracy: 0.8594\n",
            "Epoch 110/500\n",
            "4/4 [==============================] - 1s 185ms/step - loss: 0.0265 - accuracy: 0.9931 - val_loss: 0.4607 - val_accuracy: 0.8754\n",
            "Epoch 111/500\n",
            "4/4 [==============================] - 1s 183ms/step - loss: 0.0216 - accuracy: 0.9973 - val_loss: 0.5005 - val_accuracy: 0.8754\n",
            "Epoch 112/500\n",
            "4/4 [==============================] - 1s 182ms/step - loss: 0.0256 - accuracy: 0.9918 - val_loss: 0.4717 - val_accuracy: 0.8914\n",
            "Epoch 113/500\n",
            "4/4 [==============================] - 1s 183ms/step - loss: 0.0276 - accuracy: 0.9959 - val_loss: 0.4827 - val_accuracy: 0.8754\n",
            "Epoch 114/500\n",
            "4/4 [==============================] - 1s 189ms/step - loss: 0.0264 - accuracy: 0.9945 - val_loss: 0.4968 - val_accuracy: 0.8786\n",
            "Epoch 115/500\n",
            "4/4 [==============================] - 1s 185ms/step - loss: 0.0249 - accuracy: 0.9931 - val_loss: 0.4935 - val_accuracy: 0.8626\n",
            "Epoch 116/500\n",
            "4/4 [==============================] - 1s 188ms/step - loss: 0.0274 - accuracy: 0.9945 - val_loss: 0.5016 - val_accuracy: 0.8690\n",
            "Epoch 117/500\n",
            "4/4 [==============================] - 1s 188ms/step - loss: 0.0248 - accuracy: 0.9973 - val_loss: 0.4991 - val_accuracy: 0.8754\n",
            "Epoch 118/500\n",
            "4/4 [==============================] - 1s 184ms/step - loss: 0.0313 - accuracy: 0.9918 - val_loss: 0.5004 - val_accuracy: 0.8626\n",
            "Epoch 119/500\n",
            "4/4 [==============================] - 1s 188ms/step - loss: 0.0277 - accuracy: 0.9890 - val_loss: 0.4637 - val_accuracy: 0.8754\n",
            "Epoch 120/500\n",
            "4/4 [==============================] - 1s 187ms/step - loss: 0.0363 - accuracy: 0.9890 - val_loss: 0.4290 - val_accuracy: 0.8754\n",
            "Epoch 121/500\n",
            "4/4 [==============================] - 1s 189ms/step - loss: 0.0230 - accuracy: 0.9918 - val_loss: 0.4464 - val_accuracy: 0.8722\n",
            "Epoch 122/500\n",
            "4/4 [==============================] - 1s 183ms/step - loss: 0.0255 - accuracy: 0.9931 - val_loss: 0.5039 - val_accuracy: 0.8754\n",
            "Epoch 123/500\n",
            "4/4 [==============================] - 1s 191ms/step - loss: 0.0292 - accuracy: 0.9918 - val_loss: 0.5034 - val_accuracy: 0.8722\n",
            "Epoch 124/500\n",
            "4/4 [==============================] - 1s 186ms/step - loss: 0.0200 - accuracy: 0.9986 - val_loss: 0.5226 - val_accuracy: 0.8626\n",
            "Epoch 125/500\n",
            "4/4 [==============================] - 1s 185ms/step - loss: 0.0175 - accuracy: 0.9973 - val_loss: 0.5683 - val_accuracy: 0.8498\n",
            "Epoch 126/500\n",
            "4/4 [==============================] - 1s 186ms/step - loss: 0.0209 - accuracy: 0.9945 - val_loss: 0.5133 - val_accuracy: 0.8818\n",
            "Epoch 127/500\n",
            "4/4 [==============================] - 1s 188ms/step - loss: 0.0160 - accuracy: 0.9959 - val_loss: 0.4995 - val_accuracy: 0.8850\n",
            "Epoch 128/500\n",
            "4/4 [==============================] - 1s 187ms/step - loss: 0.0237 - accuracy: 0.9973 - val_loss: 0.4820 - val_accuracy: 0.8722\n",
            "Epoch 129/500\n",
            "4/4 [==============================] - 1s 181ms/step - loss: 0.0159 - accuracy: 0.9986 - val_loss: 0.4740 - val_accuracy: 0.8786\n",
            "Epoch 130/500\n",
            "4/4 [==============================] - 1s 187ms/step - loss: 0.0197 - accuracy: 0.9945 - val_loss: 0.4490 - val_accuracy: 0.8722\n",
            "Epoch 131/500\n",
            "4/4 [==============================] - 1s 187ms/step - loss: 0.0277 - accuracy: 0.9959 - val_loss: 0.4743 - val_accuracy: 0.8658\n",
            "Epoch 132/500\n",
            "4/4 [==============================] - 1s 182ms/step - loss: 0.0170 - accuracy: 0.9959 - val_loss: 0.5069 - val_accuracy: 0.8562\n",
            "Epoch 133/500\n",
            "4/4 [==============================] - 1s 182ms/step - loss: 0.0289 - accuracy: 0.9931 - val_loss: 0.4870 - val_accuracy: 0.8850\n",
            "Epoch 134/500\n",
            "4/4 [==============================] - 1s 188ms/step - loss: 0.0224 - accuracy: 0.9931 - val_loss: 0.4648 - val_accuracy: 0.8850\n",
            "Epoch 135/500\n",
            "4/4 [==============================] - 1s 186ms/step - loss: 0.0147 - accuracy: 0.9986 - val_loss: 0.4641 - val_accuracy: 0.8786\n",
            "Epoch 136/500\n",
            "4/4 [==============================] - 1s 181ms/step - loss: 0.0109 - accuracy: 1.0000 - val_loss: 0.4716 - val_accuracy: 0.8882\n",
            "Epoch 137/500\n",
            "4/4 [==============================] - 1s 186ms/step - loss: 0.0169 - accuracy: 0.9973 - val_loss: 0.4726 - val_accuracy: 0.8850\n",
            "Epoch 138/500\n",
            "4/4 [==============================] - 1s 186ms/step - loss: 0.0197 - accuracy: 0.9931 - val_loss: 0.4591 - val_accuracy: 0.8914\n",
            "Epoch 139/500\n",
            "4/4 [==============================] - 1s 180ms/step - loss: 0.0123 - accuracy: 0.9973 - val_loss: 0.4872 - val_accuracy: 0.8818\n",
            "Epoch 140/500\n",
            "4/4 [==============================] - 1s 182ms/step - loss: 0.0202 - accuracy: 0.9973 - val_loss: 0.5040 - val_accuracy: 0.8818\n",
            "Epoch 141/500\n",
            "4/4 [==============================] - 1s 188ms/step - loss: 0.0159 - accuracy: 0.9945 - val_loss: 0.4800 - val_accuracy: 0.8722\n",
            "Epoch 142/500\n",
            "4/4 [==============================] - 1s 183ms/step - loss: 0.0127 - accuracy: 1.0000 - val_loss: 0.4869 - val_accuracy: 0.8722\n",
            "Epoch 143/500\n",
            "4/4 [==============================] - 1s 182ms/step - loss: 0.0155 - accuracy: 0.9959 - val_loss: 0.5027 - val_accuracy: 0.8850\n",
            "Epoch 144/500\n",
            "4/4 [==============================] - 1s 186ms/step - loss: 0.0153 - accuracy: 0.9986 - val_loss: 0.4827 - val_accuracy: 0.8818\n",
            "Epoch 145/500\n",
            "4/4 [==============================] - 1s 187ms/step - loss: 0.0116 - accuracy: 0.9986 - val_loss: 0.4571 - val_accuracy: 0.8786\n",
            "Epoch 146/500\n",
            "4/4 [==============================] - 1s 187ms/step - loss: 0.0140 - accuracy: 0.9945 - val_loss: 0.4627 - val_accuracy: 0.8818\n",
            "Epoch 147/500\n",
            "4/4 [==============================] - 1s 190ms/step - loss: 0.0193 - accuracy: 0.9959 - val_loss: 0.5109 - val_accuracy: 0.8786\n",
            "Epoch 148/500\n",
            "4/4 [==============================] - 1s 190ms/step - loss: 0.0148 - accuracy: 0.9959 - val_loss: 0.5164 - val_accuracy: 0.8882\n",
            "Epoch 149/500\n",
            "4/4 [==============================] - 1s 185ms/step - loss: 0.0143 - accuracy: 0.9945 - val_loss: 0.4708 - val_accuracy: 0.8818\n",
            "Epoch 150/500\n",
            "4/4 [==============================] - 1s 184ms/step - loss: 0.0164 - accuracy: 0.9959 - val_loss: 0.4568 - val_accuracy: 0.8850\n",
            "Epoch 151/500\n",
            "4/4 [==============================] - 1s 188ms/step - loss: 0.0120 - accuracy: 0.9973 - val_loss: 0.4617 - val_accuracy: 0.8850\n",
            "Epoch 152/500\n",
            "4/4 [==============================] - 1s 186ms/step - loss: 0.0145 - accuracy: 0.9945 - val_loss: 0.4822 - val_accuracy: 0.8882\n",
            "Epoch 153/500\n",
            "4/4 [==============================] - 1s 184ms/step - loss: 0.0068 - accuracy: 1.0000 - val_loss: 0.5079 - val_accuracy: 0.8818\n",
            "Epoch 154/500\n",
            "4/4 [==============================] - 1s 186ms/step - loss: 0.0116 - accuracy: 0.9986 - val_loss: 0.4991 - val_accuracy: 0.8850\n",
            "Epoch 155/500\n",
            "4/4 [==============================] - 1s 189ms/step - loss: 0.0114 - accuracy: 0.9959 - val_loss: 0.4691 - val_accuracy: 0.8882\n",
            "Epoch 156/500\n",
            "4/4 [==============================] - 1s 186ms/step - loss: 0.0097 - accuracy: 0.9986 - val_loss: 0.4845 - val_accuracy: 0.8882\n",
            "Epoch 157/500\n",
            "4/4 [==============================] - 1s 180ms/step - loss: 0.0153 - accuracy: 0.9986 - val_loss: 0.5032 - val_accuracy: 0.8786\n",
            "Epoch 158/500\n",
            "4/4 [==============================] - 1s 190ms/step - loss: 0.0081 - accuracy: 1.0000 - val_loss: 0.5497 - val_accuracy: 0.8690\n",
            "Epoch 159/500\n",
            "4/4 [==============================] - 1s 189ms/step - loss: 0.0111 - accuracy: 0.9973 - val_loss: 0.5424 - val_accuracy: 0.8722\n",
            "Epoch 160/500\n",
            "4/4 [==============================] - 1s 186ms/step - loss: 0.0048 - accuracy: 1.0000 - val_loss: 0.5477 - val_accuracy: 0.8786\n",
            "Epoch 161/500\n",
            "4/4 [==============================] - 1s 184ms/step - loss: 0.0063 - accuracy: 1.0000 - val_loss: 0.5564 - val_accuracy: 0.8850\n",
            "Epoch 162/500\n",
            "4/4 [==============================] - 1s 190ms/step - loss: 0.0104 - accuracy: 0.9973 - val_loss: 0.5373 - val_accuracy: 0.8882\n",
            "Epoch 163/500\n",
            "4/4 [==============================] - 1s 183ms/step - loss: 0.0105 - accuracy: 0.9973 - val_loss: 0.5273 - val_accuracy: 0.8882\n",
            "Epoch 164/500\n",
            "4/4 [==============================] - 1s 184ms/step - loss: 0.0123 - accuracy: 0.9973 - val_loss: 0.5000 - val_accuracy: 0.8786\n",
            "Epoch 165/500\n",
            "4/4 [==============================] - 1s 186ms/step - loss: 0.0103 - accuracy: 0.9973 - val_loss: 0.5055 - val_accuracy: 0.8722\n",
            "Epoch 166/500\n",
            "4/4 [==============================] - 1s 184ms/step - loss: 0.0098 - accuracy: 0.9986 - val_loss: 0.4957 - val_accuracy: 0.8946\n",
            "Epoch 167/500\n",
            "4/4 [==============================] - 1s 181ms/step - loss: 0.0098 - accuracy: 0.9986 - val_loss: 0.5318 - val_accuracy: 0.8882\n",
            "Epoch 168/500\n",
            "4/4 [==============================] - 1s 182ms/step - loss: 0.0201 - accuracy: 0.9931 - val_loss: 0.4936 - val_accuracy: 0.8914\n",
            "Epoch 169/500\n",
            "4/4 [==============================] - 1s 186ms/step - loss: 0.0102 - accuracy: 0.9959 - val_loss: 0.5563 - val_accuracy: 0.8530\n",
            "Epoch 170/500\n",
            "4/4 [==============================] - 1s 183ms/step - loss: 0.0312 - accuracy: 0.9959 - val_loss: 0.5779 - val_accuracy: 0.8818\n",
            "Epoch 171/500\n",
            "4/4 [==============================] - 1s 186ms/step - loss: 0.0111 - accuracy: 0.9959 - val_loss: 0.5355 - val_accuracy: 0.8914\n",
            "Epoch 172/500\n",
            "4/4 [==============================] - 1s 191ms/step - loss: 0.0171 - accuracy: 0.9959 - val_loss: 0.5106 - val_accuracy: 0.8626\n",
            "Epoch 173/500\n",
            "4/4 [==============================] - 1s 187ms/step - loss: 0.0107 - accuracy: 0.9986 - val_loss: 0.4942 - val_accuracy: 0.8658\n",
            "Epoch 174/500\n",
            "4/4 [==============================] - 1s 185ms/step - loss: 0.0084 - accuracy: 0.9973 - val_loss: 0.4790 - val_accuracy: 0.8946\n",
            "Epoch 175/500\n",
            "4/4 [==============================] - 1s 187ms/step - loss: 0.0096 - accuracy: 0.9973 - val_loss: 0.4785 - val_accuracy: 0.8754\n",
            "Epoch 176/500\n",
            "4/4 [==============================] - 1s 185ms/step - loss: 0.0085 - accuracy: 1.0000 - val_loss: 0.5236 - val_accuracy: 0.8498\n",
            "Epoch 177/500\n",
            "4/4 [==============================] - 1s 185ms/step - loss: 0.0090 - accuracy: 1.0000 - val_loss: 0.5116 - val_accuracy: 0.8786\n",
            "Epoch 178/500\n",
            "4/4 [==============================] - 1s 270ms/step - loss: 0.0072 - accuracy: 1.0000 - val_loss: 0.5037 - val_accuracy: 0.8882\n",
            "Epoch 179/500\n",
            "4/4 [==============================] - 1s 314ms/step - loss: 0.0116 - accuracy: 0.9959 - val_loss: 0.4679 - val_accuracy: 0.8786\n",
            "Epoch 180/500\n",
            "4/4 [==============================] - 1s 346ms/step - loss: 0.0069 - accuracy: 0.9973 - val_loss: 0.4882 - val_accuracy: 0.8594\n",
            "Epoch 181/500\n",
            "4/4 [==============================] - 1s 187ms/step - loss: 0.0089 - accuracy: 0.9986 - val_loss: 0.4705 - val_accuracy: 0.8818\n",
            "Epoch 182/500\n",
            "4/4 [==============================] - 1s 187ms/step - loss: 0.0081 - accuracy: 1.0000 - val_loss: 0.4968 - val_accuracy: 0.8850\n",
            "Epoch 183/500\n",
            "4/4 [==============================] - 1s 182ms/step - loss: 0.0103 - accuracy: 0.9945 - val_loss: 0.5051 - val_accuracy: 0.8786\n",
            "Epoch 184/500\n",
            "4/4 [==============================] - 1s 186ms/step - loss: 0.0068 - accuracy: 1.0000 - val_loss: 0.4873 - val_accuracy: 0.8818\n",
            "Epoch 185/500\n",
            "4/4 [==============================] - 1s 186ms/step - loss: 0.0084 - accuracy: 0.9986 - val_loss: 0.4595 - val_accuracy: 0.8722\n",
            "Epoch 186/500\n",
            "4/4 [==============================] - 1s 182ms/step - loss: 0.0041 - accuracy: 1.0000 - val_loss: 0.4394 - val_accuracy: 0.8786\n",
            "Epoch 187/500\n",
            "4/4 [==============================] - 1s 185ms/step - loss: 0.0123 - accuracy: 0.9973 - val_loss: 0.4835 - val_accuracy: 0.8786\n",
            "Epoch 188/500\n",
            "4/4 [==============================] - 1s 185ms/step - loss: 0.0069 - accuracy: 0.9986 - val_loss: 0.5274 - val_accuracy: 0.8722\n",
            "Epoch 189/500\n",
            "4/4 [==============================] - 1s 183ms/step - loss: 0.0110 - accuracy: 0.9959 - val_loss: 0.5372 - val_accuracy: 0.8818\n",
            "Epoch 190/500\n",
            "4/4 [==============================] - 1s 181ms/step - loss: 0.0043 - accuracy: 1.0000 - val_loss: 0.5386 - val_accuracy: 0.8818\n",
            "Epoch 191/500\n",
            "4/4 [==============================] - 1s 187ms/step - loss: 0.0070 - accuracy: 0.9973 - val_loss: 0.5528 - val_accuracy: 0.8850\n",
            "Epoch 192/500\n",
            "4/4 [==============================] - 1s 181ms/step - loss: 0.0097 - accuracy: 0.9973 - val_loss: 0.5382 - val_accuracy: 0.8850\n",
            "Epoch 193/500\n",
            "4/4 [==============================] - 1s 178ms/step - loss: 0.0097 - accuracy: 0.9986 - val_loss: 0.4814 - val_accuracy: 0.8882\n",
            "Epoch 194/500\n",
            "4/4 [==============================] - 1s 188ms/step - loss: 0.0046 - accuracy: 1.0000 - val_loss: 0.4551 - val_accuracy: 0.8882\n",
            "Epoch 195/500\n",
            "4/4 [==============================] - 1s 184ms/step - loss: 0.0066 - accuracy: 1.0000 - val_loss: 0.4743 - val_accuracy: 0.8882\n",
            "Epoch 196/500\n",
            "4/4 [==============================] - 1s 182ms/step - loss: 0.0055 - accuracy: 0.9986 - val_loss: 0.5020 - val_accuracy: 0.8850\n",
            "Epoch 197/500\n",
            "4/4 [==============================] - 1s 186ms/step - loss: 0.0036 - accuracy: 1.0000 - val_loss: 0.5350 - val_accuracy: 0.8850\n",
            "Epoch 198/500\n",
            "4/4 [==============================] - 1s 183ms/step - loss: 0.0110 - accuracy: 0.9973 - val_loss: 0.5014 - val_accuracy: 0.8882\n",
            "Epoch 199/500\n",
            "4/4 [==============================] - 1s 181ms/step - loss: 0.0053 - accuracy: 1.0000 - val_loss: 0.4593 - val_accuracy: 0.8850\n",
            "Epoch 200/500\n",
            "4/4 [==============================] - 1s 182ms/step - loss: 0.0048 - accuracy: 1.0000 - val_loss: 0.4691 - val_accuracy: 0.8882\n",
            "Epoch 201/500\n",
            "4/4 [==============================] - 1s 189ms/step - loss: 0.0066 - accuracy: 1.0000 - val_loss: 0.5113 - val_accuracy: 0.8914\n",
            "Epoch 202/500\n",
            "4/4 [==============================] - 1s 191ms/step - loss: 0.0119 - accuracy: 0.9973 - val_loss: 0.5098 - val_accuracy: 0.8882\n",
            "Epoch 203/500\n",
            "4/4 [==============================] - 1s 182ms/step - loss: 0.0067 - accuracy: 0.9986 - val_loss: 0.5004 - val_accuracy: 0.8722\n",
            "Epoch 204/500\n",
            "4/4 [==============================] - 1s 184ms/step - loss: 0.0089 - accuracy: 0.9959 - val_loss: 0.4772 - val_accuracy: 0.8882\n",
            "Epoch 205/500\n",
            "4/4 [==============================] - 1s 186ms/step - loss: 0.0151 - accuracy: 0.9945 - val_loss: 0.4961 - val_accuracy: 0.8914\n",
            "Epoch 206/500\n",
            "4/4 [==============================] - 1s 179ms/step - loss: 0.0070 - accuracy: 0.9973 - val_loss: 0.5130 - val_accuracy: 0.8882\n",
            "Epoch 207/500\n",
            "4/4 [==============================] - 1s 183ms/step - loss: 0.0096 - accuracy: 0.9973 - val_loss: 0.5354 - val_accuracy: 0.8722\n",
            "Epoch 208/500\n",
            "4/4 [==============================] - 1s 189ms/step - loss: 0.0109 - accuracy: 0.9973 - val_loss: 0.5555 - val_accuracy: 0.8818\n",
            "Epoch 209/500\n",
            "4/4 [==============================] - 1s 185ms/step - loss: 0.0042 - accuracy: 1.0000 - val_loss: 0.5732 - val_accuracy: 0.8818\n",
            "Epoch 210/500\n",
            "4/4 [==============================] - 1s 182ms/step - loss: 0.0072 - accuracy: 0.9986 - val_loss: 0.5629 - val_accuracy: 0.8722\n",
            "Epoch 211/500\n",
            "4/4 [==============================] - 1s 186ms/step - loss: 0.0076 - accuracy: 1.0000 - val_loss: 0.5274 - val_accuracy: 0.8914\n",
            "Epoch 212/500\n",
            "4/4 [==============================] - 1s 183ms/step - loss: 0.0041 - accuracy: 1.0000 - val_loss: 0.4866 - val_accuracy: 0.8946\n",
            "Epoch 213/500\n",
            "4/4 [==============================] - 1s 185ms/step - loss: 0.0069 - accuracy: 0.9986 - val_loss: 0.4835 - val_accuracy: 0.8786\n",
            "Epoch 214/500\n",
            "4/4 [==============================] - 1s 187ms/step - loss: 0.0102 - accuracy: 0.9959 - val_loss: 0.4867 - val_accuracy: 0.9010\n",
            "Epoch 215/500\n",
            "4/4 [==============================] - 1s 186ms/step - loss: 0.0092 - accuracy: 0.9959 - val_loss: 0.5038 - val_accuracy: 0.8914\n",
            "Epoch 216/500\n",
            "4/4 [==============================] - 1s 183ms/step - loss: 0.0080 - accuracy: 1.0000 - val_loss: 0.4727 - val_accuracy: 0.8946\n",
            "Epoch 217/500\n",
            "4/4 [==============================] - 1s 182ms/step - loss: 0.0094 - accuracy: 0.9973 - val_loss: 0.4739 - val_accuracy: 0.8786\n",
            "Epoch 218/500\n",
            "4/4 [==============================] - 1s 186ms/step - loss: 0.0086 - accuracy: 0.9973 - val_loss: 0.4976 - val_accuracy: 0.8946\n",
            "Epoch 219/500\n",
            "4/4 [==============================] - 1s 182ms/step - loss: 0.0123 - accuracy: 0.9973 - val_loss: 0.4994 - val_accuracy: 0.8818\n",
            "Epoch 220/500\n",
            "4/4 [==============================] - 1s 179ms/step - loss: 0.0053 - accuracy: 0.9986 - val_loss: 0.5811 - val_accuracy: 0.8498\n",
            "Epoch 221/500\n",
            "4/4 [==============================] - 1s 182ms/step - loss: 0.0102 - accuracy: 0.9959 - val_loss: 0.5677 - val_accuracy: 0.8658\n",
            "Epoch 222/500\n",
            "4/4 [==============================] - 1s 184ms/step - loss: 0.0051 - accuracy: 0.9986 - val_loss: 0.5620 - val_accuracy: 0.8946\n",
            "Epoch 223/500\n",
            "4/4 [==============================] - 1s 183ms/step - loss: 0.0063 - accuracy: 0.9986 - val_loss: 0.5414 - val_accuracy: 0.8946\n",
            "Epoch 224/500\n",
            "4/4 [==============================] - 1s 179ms/step - loss: 0.0101 - accuracy: 0.9973 - val_loss: 0.4946 - val_accuracy: 0.9010\n",
            "Epoch 225/500\n",
            "4/4 [==============================] - 1s 185ms/step - loss: 0.0041 - accuracy: 1.0000 - val_loss: 0.4894 - val_accuracy: 0.8818\n",
            "Epoch 226/500\n",
            "4/4 [==============================] - 1s 179ms/step - loss: 0.0046 - accuracy: 0.9986 - val_loss: 0.4915 - val_accuracy: 0.8850\n",
            "Epoch 227/500\n",
            "4/4 [==============================] - 1s 181ms/step - loss: 0.0115 - accuracy: 0.9986 - val_loss: 0.5262 - val_accuracy: 0.8786\n",
            "Epoch 228/500\n",
            "4/4 [==============================] - 1s 185ms/step - loss: 0.0124 - accuracy: 0.9973 - val_loss: 0.5541 - val_accuracy: 0.8722\n",
            "Epoch 229/500\n",
            "4/4 [==============================] - 1s 184ms/step - loss: 0.0096 - accuracy: 0.9973 - val_loss: 0.5774 - val_accuracy: 0.8658\n",
            "Epoch 230/500\n",
            "4/4 [==============================] - 1s 183ms/step - loss: 0.0082 - accuracy: 0.9986 - val_loss: 0.5384 - val_accuracy: 0.8818\n",
            "Epoch 231/500\n",
            "4/4 [==============================] - 1s 185ms/step - loss: 0.0095 - accuracy: 0.9973 - val_loss: 0.5081 - val_accuracy: 0.8946\n",
            "Epoch 232/500\n",
            "4/4 [==============================] - 1s 183ms/step - loss: 0.0052 - accuracy: 1.0000 - val_loss: 0.4590 - val_accuracy: 0.8818\n",
            "Epoch 233/500\n",
            "4/4 [==============================] - 1s 184ms/step - loss: 0.0071 - accuracy: 0.9986 - val_loss: 0.4769 - val_accuracy: 0.8786\n",
            "Epoch 234/500\n",
            "4/4 [==============================] - 1s 183ms/step - loss: 0.0069 - accuracy: 0.9986 - val_loss: 0.4299 - val_accuracy: 0.8946\n",
            "Epoch 235/500\n",
            "4/4 [==============================] - 1s 185ms/step - loss: 0.0037 - accuracy: 1.0000 - val_loss: 0.4417 - val_accuracy: 0.9010\n",
            "Epoch 236/500\n",
            "4/4 [==============================] - 1s 185ms/step - loss: 0.0075 - accuracy: 0.9959 - val_loss: 0.4352 - val_accuracy: 0.8946\n",
            "Epoch 237/500\n",
            "4/4 [==============================] - 1s 180ms/step - loss: 0.0026 - accuracy: 1.0000 - val_loss: 0.4707 - val_accuracy: 0.8978\n",
            "Epoch 238/500\n",
            "4/4 [==============================] - 1s 185ms/step - loss: 0.0088 - accuracy: 0.9986 - val_loss: 0.4776 - val_accuracy: 0.9042\n",
            "Epoch 239/500\n",
            "4/4 [==============================] - 1s 186ms/step - loss: 0.0046 - accuracy: 1.0000 - val_loss: 0.5124 - val_accuracy: 0.8978\n",
            "Epoch 240/500\n",
            "4/4 [==============================] - 1s 185ms/step - loss: 0.0049 - accuracy: 1.0000 - val_loss: 0.5223 - val_accuracy: 0.8850\n",
            "Epoch 241/500\n",
            "4/4 [==============================] - 1s 183ms/step - loss: 0.0058 - accuracy: 0.9986 - val_loss: 0.4815 - val_accuracy: 0.8818\n",
            "Epoch 242/500\n",
            "4/4 [==============================] - 1s 184ms/step - loss: 0.0070 - accuracy: 0.9986 - val_loss: 0.4537 - val_accuracy: 0.8850\n",
            "Epoch 243/500\n",
            "4/4 [==============================] - 1s 182ms/step - loss: 0.0087 - accuracy: 0.9986 - val_loss: 0.4519 - val_accuracy: 0.8946\n",
            "Epoch 244/500\n",
            "4/4 [==============================] - 1s 179ms/step - loss: 0.0098 - accuracy: 0.9986 - val_loss: 0.4536 - val_accuracy: 0.8946\n",
            "Epoch 245/500\n",
            "4/4 [==============================] - 1s 185ms/step - loss: 0.0050 - accuracy: 0.9986 - val_loss: 0.4583 - val_accuracy: 0.8882\n",
            "Epoch 246/500\n",
            "4/4 [==============================] - 1s 183ms/step - loss: 0.0107 - accuracy: 0.9973 - val_loss: 0.4583 - val_accuracy: 0.8914\n",
            "Epoch 247/500\n",
            "4/4 [==============================] - 1s 188ms/step - loss: 0.0086 - accuracy: 0.9959 - val_loss: 0.4885 - val_accuracy: 0.8786\n",
            "Epoch 248/500\n",
            "4/4 [==============================] - 1s 184ms/step - loss: 0.0043 - accuracy: 1.0000 - val_loss: 0.4971 - val_accuracy: 0.8882\n",
            "Epoch 249/500\n",
            "4/4 [==============================] - 1s 187ms/step - loss: 0.0063 - accuracy: 0.9986 - val_loss: 0.4939 - val_accuracy: 0.8882\n",
            "Epoch 250/500\n",
            "4/4 [==============================] - 1s 186ms/step - loss: 0.0069 - accuracy: 0.9973 - val_loss: 0.5091 - val_accuracy: 0.8818\n",
            "Epoch 251/500\n",
            "4/4 [==============================] - 1s 186ms/step - loss: 0.0041 - accuracy: 0.9986 - val_loss: 0.5495 - val_accuracy: 0.8882\n",
            "Epoch 252/500\n",
            "4/4 [==============================] - 1s 190ms/step - loss: 0.0044 - accuracy: 0.9986 - val_loss: 0.5856 - val_accuracy: 0.9010\n",
            "Epoch 253/500\n",
            "4/4 [==============================] - 1s 185ms/step - loss: 0.0049 - accuracy: 0.9986 - val_loss: 0.5334 - val_accuracy: 0.9010\n",
            "Epoch 254/500\n",
            "4/4 [==============================] - 1s 184ms/step - loss: 0.0059 - accuracy: 0.9973 - val_loss: 0.4882 - val_accuracy: 0.8914\n",
            "Epoch 255/500\n",
            "4/4 [==============================] - 1s 188ms/step - loss: 0.0040 - accuracy: 0.9986 - val_loss: 0.5014 - val_accuracy: 0.8850\n",
            "Epoch 256/500\n",
            "4/4 [==============================] - 1s 190ms/step - loss: 0.0025 - accuracy: 1.0000 - val_loss: 0.4990 - val_accuracy: 0.8850\n",
            "Epoch 257/500\n",
            "4/4 [==============================] - 1s 184ms/step - loss: 0.0075 - accuracy: 0.9973 - val_loss: 0.5258 - val_accuracy: 0.8850\n",
            "Epoch 258/500\n",
            "4/4 [==============================] - 1s 185ms/step - loss: 0.0040 - accuracy: 0.9986 - val_loss: 0.5913 - val_accuracy: 0.8818\n",
            "Epoch 259/500\n",
            "4/4 [==============================] - 1s 184ms/step - loss: 0.0041 - accuracy: 0.9986 - val_loss: 0.5705 - val_accuracy: 0.8786\n",
            "Epoch 260/500\n",
            "4/4 [==============================] - 1s 188ms/step - loss: 0.0031 - accuracy: 1.0000 - val_loss: 0.5581 - val_accuracy: 0.8786\n",
            "Epoch 261/500\n",
            "4/4 [==============================] - 1s 185ms/step - loss: 0.0052 - accuracy: 0.9973 - val_loss: 0.5392 - val_accuracy: 0.8786\n",
            "Epoch 262/500\n",
            "4/4 [==============================] - 1s 192ms/step - loss: 0.0033 - accuracy: 1.0000 - val_loss: 0.5254 - val_accuracy: 0.8690\n",
            "Epoch 263/500\n",
            "4/4 [==============================] - 1s 188ms/step - loss: 0.0066 - accuracy: 0.9986 - val_loss: 0.5328 - val_accuracy: 0.8722\n",
            "Epoch 264/500\n",
            "4/4 [==============================] - 1s 181ms/step - loss: 0.0069 - accuracy: 0.9973 - val_loss: 0.5915 - val_accuracy: 0.8850\n",
            "Epoch 265/500\n",
            "4/4 [==============================] - 1s 187ms/step - loss: 0.0035 - accuracy: 1.0000 - val_loss: 0.5705 - val_accuracy: 0.9010\n",
            "Epoch 266/500\n",
            "4/4 [==============================] - 1s 191ms/step - loss: 0.0050 - accuracy: 1.0000 - val_loss: 0.4976 - val_accuracy: 0.8946\n",
            "Epoch 267/500\n",
            "4/4 [==============================] - 1s 189ms/step - loss: 0.0047 - accuracy: 0.9986 - val_loss: 0.4848 - val_accuracy: 0.8786\n",
            "Epoch 268/500\n",
            "4/4 [==============================] - 1s 187ms/step - loss: 0.0074 - accuracy: 0.9973 - val_loss: 0.5219 - val_accuracy: 0.8946\n",
            "Epoch 269/500\n",
            "4/4 [==============================] - 1s 188ms/step - loss: 0.0031 - accuracy: 0.9986 - val_loss: 0.5640 - val_accuracy: 0.8850\n",
            "Epoch 270/500\n",
            "4/4 [==============================] - 1s 188ms/step - loss: 0.0029 - accuracy: 1.0000 - val_loss: 0.5783 - val_accuracy: 0.8850\n",
            "Epoch 271/500\n",
            "4/4 [==============================] - 1s 187ms/step - loss: 0.0041 - accuracy: 0.9986 - val_loss: 0.5746 - val_accuracy: 0.8882\n",
            "Epoch 272/500\n",
            "4/4 [==============================] - 1s 188ms/step - loss: 0.0084 - accuracy: 0.9986 - val_loss: 0.5396 - val_accuracy: 0.8914\n",
            "Epoch 273/500\n",
            "4/4 [==============================] - 1s 188ms/step - loss: 0.0047 - accuracy: 0.9986 - val_loss: 0.5043 - val_accuracy: 0.9042\n",
            "Epoch 274/500\n",
            "4/4 [==============================] - 1s 188ms/step - loss: 0.0086 - accuracy: 0.9973 - val_loss: 0.5061 - val_accuracy: 0.9042\n",
            "Epoch 275/500\n",
            "4/4 [==============================] - 1s 187ms/step - loss: 0.0034 - accuracy: 1.0000 - val_loss: 0.5086 - val_accuracy: 0.8978\n",
            "Epoch 276/500\n",
            "4/4 [==============================] - 1s 193ms/step - loss: 0.0023 - accuracy: 1.0000 - val_loss: 0.5176 - val_accuracy: 0.8946\n",
            "Epoch 277/500\n",
            "4/4 [==============================] - 1s 193ms/step - loss: 0.0033 - accuracy: 0.9986 - val_loss: 0.5074 - val_accuracy: 0.8850\n",
            "Epoch 278/500\n",
            "4/4 [==============================] - 1s 188ms/step - loss: 0.0023 - accuracy: 1.0000 - val_loss: 0.4939 - val_accuracy: 0.8818\n",
            "Epoch 279/500\n",
            "4/4 [==============================] - 1s 186ms/step - loss: 0.0029 - accuracy: 1.0000 - val_loss: 0.4833 - val_accuracy: 0.8978\n",
            "Epoch 280/500\n",
            "4/4 [==============================] - 1s 190ms/step - loss: 0.0066 - accuracy: 0.9986 - val_loss: 0.5313 - val_accuracy: 0.9010\n",
            "Epoch 281/500\n",
            "4/4 [==============================] - 1s 188ms/step - loss: 0.0071 - accuracy: 0.9986 - val_loss: 0.5452 - val_accuracy: 0.8978\n",
            "Epoch 282/500\n",
            "4/4 [==============================] - 1s 185ms/step - loss: 0.0028 - accuracy: 1.0000 - val_loss: 0.5459 - val_accuracy: 0.8914\n",
            "Epoch 283/500\n",
            "4/4 [==============================] - 1s 186ms/step - loss: 0.0051 - accuracy: 0.9986 - val_loss: 0.5247 - val_accuracy: 0.8882\n",
            "Epoch 284/500\n",
            "4/4 [==============================] - 1s 187ms/step - loss: 0.0032 - accuracy: 0.9986 - val_loss: 0.4979 - val_accuracy: 0.9010\n",
            "Epoch 285/500\n",
            "4/4 [==============================] - 1s 189ms/step - loss: 0.0031 - accuracy: 1.0000 - val_loss: 0.4714 - val_accuracy: 0.8978\n",
            "Epoch 286/500\n",
            "4/4 [==============================] - 1s 185ms/step - loss: 0.0064 - accuracy: 0.9986 - val_loss: 0.4822 - val_accuracy: 0.8786\n",
            "Epoch 287/500\n",
            "4/4 [==============================] - 1s 191ms/step - loss: 0.0043 - accuracy: 0.9986 - val_loss: 0.5032 - val_accuracy: 0.8786\n",
            "Epoch 288/500\n",
            "4/4 [==============================] - 1s 189ms/step - loss: 0.0020 - accuracy: 1.0000 - val_loss: 0.5259 - val_accuracy: 0.8914\n",
            "Epoch 289/500\n",
            "4/4 [==============================] - 1s 184ms/step - loss: 0.0062 - accuracy: 0.9986 - val_loss: 0.5716 - val_accuracy: 0.8978\n",
            "Epoch 290/500\n",
            "4/4 [==============================] - 1s 195ms/step - loss: 0.0056 - accuracy: 0.9986 - val_loss: 0.5645 - val_accuracy: 0.8978\n",
            "Epoch 291/500\n",
            "4/4 [==============================] - 1s 193ms/step - loss: 0.0066 - accuracy: 0.9986 - val_loss: 0.5140 - val_accuracy: 0.8786\n",
            "Epoch 292/500\n",
            "4/4 [==============================] - 1s 194ms/step - loss: 0.0059 - accuracy: 1.0000 - val_loss: 0.4631 - val_accuracy: 0.8978\n",
            "Epoch 293/500\n",
            "4/4 [==============================] - 1s 185ms/step - loss: 0.0068 - accuracy: 0.9973 - val_loss: 0.5024 - val_accuracy: 0.9105\n",
            "Epoch 294/500\n",
            "4/4 [==============================] - 1s 190ms/step - loss: 0.0073 - accuracy: 0.9973 - val_loss: 0.5220 - val_accuracy: 0.9042\n",
            "Epoch 295/500\n",
            "4/4 [==============================] - 1s 188ms/step - loss: 0.0019 - accuracy: 1.0000 - val_loss: 0.5629 - val_accuracy: 0.8754\n",
            "Epoch 296/500\n",
            "4/4 [==============================] - 1s 190ms/step - loss: 0.0027 - accuracy: 1.0000 - val_loss: 0.5984 - val_accuracy: 0.8722\n",
            "Epoch 297/500\n",
            "4/4 [==============================] - 1s 186ms/step - loss: 0.0031 - accuracy: 0.9986 - val_loss: 0.5471 - val_accuracy: 0.8754\n",
            "Epoch 298/500\n",
            "4/4 [==============================] - 1s 190ms/step - loss: 0.0054 - accuracy: 0.9986 - val_loss: 0.5235 - val_accuracy: 0.8850\n",
            "Epoch 299/500\n",
            "4/4 [==============================] - 1s 193ms/step - loss: 0.0030 - accuracy: 1.0000 - val_loss: 0.5108 - val_accuracy: 0.8914\n",
            "Epoch 300/500\n",
            "4/4 [==============================] - 1s 189ms/step - loss: 0.0021 - accuracy: 1.0000 - val_loss: 0.5106 - val_accuracy: 0.8946\n",
            "Epoch 301/500\n",
            "4/4 [==============================] - 1s 187ms/step - loss: 0.0025 - accuracy: 0.9986 - val_loss: 0.4956 - val_accuracy: 0.8914\n",
            "Epoch 302/500\n",
            "4/4 [==============================] - 1s 191ms/step - loss: 0.0029 - accuracy: 1.0000 - val_loss: 0.4623 - val_accuracy: 0.8914\n",
            "Epoch 303/500\n",
            "4/4 [==============================] - 1s 191ms/step - loss: 0.0020 - accuracy: 1.0000 - val_loss: 0.4327 - val_accuracy: 0.8946\n",
            "Epoch 304/500\n",
            "4/4 [==============================] - 1s 191ms/step - loss: 0.0014 - accuracy: 1.0000 - val_loss: 0.4295 - val_accuracy: 0.9042\n",
            "Epoch 305/500\n",
            "4/4 [==============================] - 1s 190ms/step - loss: 0.0033 - accuracy: 1.0000 - val_loss: 0.4359 - val_accuracy: 0.9073\n",
            "Epoch 306/500\n",
            "4/4 [==============================] - 1s 194ms/step - loss: 0.0025 - accuracy: 1.0000 - val_loss: 0.4456 - val_accuracy: 0.9042\n",
            "Epoch 307/500\n",
            "4/4 [==============================] - 1s 196ms/step - loss: 0.0041 - accuracy: 0.9973 - val_loss: 0.4672 - val_accuracy: 0.8946\n",
            "Epoch 308/500\n",
            "4/4 [==============================] - 1s 189ms/step - loss: 0.0020 - accuracy: 1.0000 - val_loss: 0.5107 - val_accuracy: 0.8850\n",
            "Epoch 309/500\n",
            "4/4 [==============================] - 1s 186ms/step - loss: 0.0032 - accuracy: 1.0000 - val_loss: 0.5278 - val_accuracy: 0.9010\n",
            "Epoch 310/500\n",
            "4/4 [==============================] - 1s 188ms/step - loss: 0.0045 - accuracy: 0.9986 - val_loss: 0.5114 - val_accuracy: 0.9010\n",
            "Epoch 311/500\n",
            "4/4 [==============================] - 1s 188ms/step - loss: 0.0025 - accuracy: 0.9986 - val_loss: 0.5079 - val_accuracy: 0.8946\n",
            "Epoch 312/500\n",
            "4/4 [==============================] - 1s 187ms/step - loss: 0.0072 - accuracy: 0.9986 - val_loss: 0.4765 - val_accuracy: 0.9010\n",
            "Epoch 313/500\n",
            "4/4 [==============================] - 1s 190ms/step - loss: 0.0028 - accuracy: 0.9986 - val_loss: 0.4492 - val_accuracy: 0.9042\n",
            "Epoch 314/500\n",
            "4/4 [==============================] - 1s 189ms/step - loss: 0.0016 - accuracy: 1.0000 - val_loss: 0.4809 - val_accuracy: 0.8914\n",
            "Epoch 315/500\n",
            "4/4 [==============================] - 1s 184ms/step - loss: 0.0062 - accuracy: 0.9973 - val_loss: 0.4900 - val_accuracy: 0.8946\n",
            "Epoch 316/500\n",
            "4/4 [==============================] - 1s 192ms/step - loss: 0.0027 - accuracy: 1.0000 - val_loss: 0.4956 - val_accuracy: 0.8914\n",
            "Epoch 317/500\n",
            "4/4 [==============================] - 1s 189ms/step - loss: 0.0026 - accuracy: 1.0000 - val_loss: 0.4914 - val_accuracy: 0.8914\n",
            "Epoch 318/500\n",
            "4/4 [==============================] - 1s 188ms/step - loss: 0.0027 - accuracy: 0.9986 - val_loss: 0.4972 - val_accuracy: 0.8882\n",
            "Epoch 319/500\n",
            "4/4 [==============================] - 1s 195ms/step - loss: 0.0030 - accuracy: 0.9986 - val_loss: 0.4741 - val_accuracy: 0.8978\n",
            "Epoch 320/500\n",
            "4/4 [==============================] - 1s 191ms/step - loss: 0.0031 - accuracy: 1.0000 - val_loss: 0.4927 - val_accuracy: 0.9137\n",
            "Epoch 321/500\n",
            "4/4 [==============================] - 1s 188ms/step - loss: 0.0037 - accuracy: 0.9986 - val_loss: 0.4732 - val_accuracy: 0.9073\n",
            "Epoch 322/500\n",
            "4/4 [==============================] - 1s 187ms/step - loss: 0.0043 - accuracy: 1.0000 - val_loss: 0.4558 - val_accuracy: 0.9010\n",
            "Epoch 323/500\n",
            "4/4 [==============================] - 1s 187ms/step - loss: 0.0095 - accuracy: 0.9973 - val_loss: 0.4470 - val_accuracy: 0.8946\n",
            "Epoch 324/500\n",
            "4/4 [==============================] - 1s 190ms/step - loss: 0.0034 - accuracy: 0.9986 - val_loss: 0.4384 - val_accuracy: 0.8914\n",
            "Epoch 325/500\n",
            "4/4 [==============================] - 1s 191ms/step - loss: 0.0025 - accuracy: 1.0000 - val_loss: 0.4669 - val_accuracy: 0.9073\n",
            "Epoch 326/500\n",
            "4/4 [==============================] - 1s 187ms/step - loss: 0.0037 - accuracy: 1.0000 - val_loss: 0.4767 - val_accuracy: 0.9010\n",
            "Epoch 327/500\n",
            "4/4 [==============================] - 1s 192ms/step - loss: 0.0035 - accuracy: 0.9986 - val_loss: 0.4913 - val_accuracy: 0.8786\n",
            "Epoch 328/500\n",
            "4/4 [==============================] - 1s 187ms/step - loss: 0.0036 - accuracy: 0.9973 - val_loss: 0.4846 - val_accuracy: 0.8786\n",
            "Epoch 329/500\n",
            "4/4 [==============================] - 1s 186ms/step - loss: 0.0048 - accuracy: 0.9986 - val_loss: 0.5021 - val_accuracy: 0.9042\n",
            "Epoch 330/500\n",
            "4/4 [==============================] - 1s 187ms/step - loss: 0.0043 - accuracy: 0.9973 - val_loss: 0.5802 - val_accuracy: 0.8914\n",
            "Epoch 331/500\n",
            "4/4 [==============================] - 1s 190ms/step - loss: 0.0048 - accuracy: 0.9986 - val_loss: 0.4990 - val_accuracy: 0.8882\n",
            "Epoch 332/500\n",
            "4/4 [==============================] - 1s 192ms/step - loss: 0.0026 - accuracy: 1.0000 - val_loss: 0.6122 - val_accuracy: 0.8594\n",
            "Epoch 333/500\n",
            "4/4 [==============================] - 1s 194ms/step - loss: 0.0025 - accuracy: 1.0000 - val_loss: 0.5890 - val_accuracy: 0.8690\n",
            "Epoch 334/500\n",
            "4/4 [==============================] - 1s 190ms/step - loss: 0.0050 - accuracy: 0.9973 - val_loss: 0.5247 - val_accuracy: 0.9010\n",
            "Epoch 335/500\n",
            "4/4 [==============================] - 1s 193ms/step - loss: 0.0043 - accuracy: 0.9986 - val_loss: 0.5466 - val_accuracy: 0.9010\n",
            "Epoch 336/500\n",
            "4/4 [==============================] - 1s 192ms/step - loss: 0.0022 - accuracy: 1.0000 - val_loss: 0.5463 - val_accuracy: 0.8946\n",
            "Epoch 337/500\n",
            "4/4 [==============================] - 1s 189ms/step - loss: 0.0017 - accuracy: 1.0000 - val_loss: 0.5509 - val_accuracy: 0.8850\n",
            "Epoch 338/500\n",
            "4/4 [==============================] - 1s 190ms/step - loss: 0.0086 - accuracy: 0.9986 - val_loss: 0.4934 - val_accuracy: 0.8946\n",
            "Epoch 339/500\n",
            "4/4 [==============================] - 1s 190ms/step - loss: 0.0014 - accuracy: 1.0000 - val_loss: 0.4897 - val_accuracy: 0.8946\n",
            "Epoch 340/500\n",
            "4/4 [==============================] - 1s 189ms/step - loss: 0.0025 - accuracy: 1.0000 - val_loss: 0.4993 - val_accuracy: 0.8946\n",
            "Epoch 341/500\n",
            "4/4 [==============================] - 1s 189ms/step - loss: 0.0083 - accuracy: 0.9973 - val_loss: 0.5271 - val_accuracy: 0.8722\n",
            "Epoch 342/500\n",
            "4/4 [==============================] - 1s 192ms/step - loss: 0.0018 - accuracy: 1.0000 - val_loss: 0.5470 - val_accuracy: 0.8818\n",
            "Epoch 343/500\n",
            "4/4 [==============================] - 1s 189ms/step - loss: 0.0026 - accuracy: 0.9986 - val_loss: 0.5584 - val_accuracy: 0.8914\n",
            "Epoch 344/500\n",
            "4/4 [==============================] - 1s 186ms/step - loss: 0.0026 - accuracy: 1.0000 - val_loss: 0.5371 - val_accuracy: 0.8882\n",
            "Epoch 345/500\n",
            "4/4 [==============================] - 1s 194ms/step - loss: 0.0022 - accuracy: 1.0000 - val_loss: 0.4952 - val_accuracy: 0.8882\n",
            "Epoch 346/500\n",
            "4/4 [==============================] - 1s 194ms/step - loss: 0.0045 - accuracy: 0.9986 - val_loss: 0.4523 - val_accuracy: 0.9042\n",
            "Epoch 347/500\n",
            "4/4 [==============================] - 1s 201ms/step - loss: 0.0018 - accuracy: 1.0000 - val_loss: 0.4900 - val_accuracy: 0.9073\n",
            "Epoch 348/500\n",
            "4/4 [==============================] - 1s 194ms/step - loss: 0.0085 - accuracy: 0.9973 - val_loss: 0.4727 - val_accuracy: 0.8946\n",
            "Epoch 349/500\n",
            "4/4 [==============================] - 1s 190ms/step - loss: 0.0156 - accuracy: 0.9973 - val_loss: 0.4729 - val_accuracy: 0.9010\n",
            "Epoch 350/500\n",
            "4/4 [==============================] - 1s 188ms/step - loss: 0.0162 - accuracy: 0.9959 - val_loss: 0.5540 - val_accuracy: 0.8978\n",
            "Epoch 351/500\n",
            "4/4 [==============================] - 1s 191ms/step - loss: 0.0031 - accuracy: 1.0000 - val_loss: 0.5609 - val_accuracy: 0.8594\n",
            "Epoch 352/500\n",
            "4/4 [==============================] - 1s 188ms/step - loss: 0.0156 - accuracy: 0.9959 - val_loss: 0.5125 - val_accuracy: 0.8978\n",
            "Epoch 353/500\n",
            "4/4 [==============================] - 1s 188ms/step - loss: 0.0044 - accuracy: 0.9986 - val_loss: 0.8074 - val_accuracy: 0.8594\n",
            "Epoch 354/500\n",
            "4/4 [==============================] - 1s 188ms/step - loss: 0.0203 - accuracy: 0.9931 - val_loss: 0.6881 - val_accuracy: 0.8786\n",
            "Epoch 355/500\n",
            "4/4 [==============================] - 1s 185ms/step - loss: 0.0098 - accuracy: 0.9959 - val_loss: 0.6822 - val_accuracy: 0.8690\n",
            "Epoch 356/500\n",
            "4/4 [==============================] - 1s 189ms/step - loss: 0.0090 - accuracy: 0.9959 - val_loss: 0.5386 - val_accuracy: 0.8754\n",
            "Epoch 357/500\n",
            "4/4 [==============================] - 1s 191ms/step - loss: 0.0066 - accuracy: 0.9986 - val_loss: 0.5414 - val_accuracy: 0.8786\n",
            "Epoch 358/500\n",
            "4/4 [==============================] - 1s 194ms/step - loss: 0.0038 - accuracy: 0.9986 - val_loss: 0.5155 - val_accuracy: 0.8914\n",
            "Epoch 359/500\n",
            "4/4 [==============================] - 1s 190ms/step - loss: 0.0107 - accuracy: 0.9973 - val_loss: 0.5390 - val_accuracy: 0.8914\n",
            "Epoch 360/500\n",
            "4/4 [==============================] - 1s 192ms/step - loss: 0.0053 - accuracy: 0.9986 - val_loss: 0.6096 - val_accuracy: 0.8754\n",
            "Epoch 361/500\n",
            "4/4 [==============================] - 1s 199ms/step - loss: 0.0042 - accuracy: 0.9986 - val_loss: 0.6263 - val_accuracy: 0.8850\n",
            "Epoch 362/500\n",
            "4/4 [==============================] - 1s 189ms/step - loss: 0.0033 - accuracy: 0.9986 - val_loss: 0.6283 - val_accuracy: 0.8786\n",
            "Epoch 363/500\n",
            "4/4 [==============================] - 1s 189ms/step - loss: 0.0045 - accuracy: 0.9986 - val_loss: 0.6224 - val_accuracy: 0.8850\n",
            "Epoch 364/500\n",
            "4/4 [==============================] - 1s 191ms/step - loss: 0.0060 - accuracy: 0.9986 - val_loss: 0.6262 - val_accuracy: 0.8786\n",
            "Epoch 365/500\n",
            "4/4 [==============================] - 1s 192ms/step - loss: 0.0035 - accuracy: 1.0000 - val_loss: 0.6113 - val_accuracy: 0.8818\n",
            "Epoch 366/500\n",
            "4/4 [==============================] - 1s 186ms/step - loss: 0.0036 - accuracy: 0.9986 - val_loss: 0.5531 - val_accuracy: 0.8946\n",
            "Epoch 367/500\n",
            "4/4 [==============================] - 1s 186ms/step - loss: 0.0071 - accuracy: 0.9959 - val_loss: 0.5159 - val_accuracy: 0.8882\n",
            "Epoch 368/500\n",
            "4/4 [==============================] - 1s 193ms/step - loss: 0.0058 - accuracy: 0.9986 - val_loss: 0.5570 - val_accuracy: 0.8914\n",
            "Epoch 369/500\n",
            "4/4 [==============================] - 1s 194ms/step - loss: 0.0121 - accuracy: 0.9959 - val_loss: 0.5127 - val_accuracy: 0.9105\n",
            "Epoch 370/500\n",
            "4/4 [==============================] - 1s 187ms/step - loss: 0.0071 - accuracy: 0.9986 - val_loss: 0.5141 - val_accuracy: 0.9042\n",
            "Epoch 371/500\n",
            "4/4 [==============================] - 1s 188ms/step - loss: 0.0092 - accuracy: 0.9973 - val_loss: 0.5042 - val_accuracy: 0.9105\n",
            "Epoch 372/500\n",
            "4/4 [==============================] - 1s 192ms/step - loss: 0.0034 - accuracy: 1.0000 - val_loss: 0.5045 - val_accuracy: 0.9042\n",
            "Epoch 373/500\n",
            "4/4 [==============================] - 1s 190ms/step - loss: 0.0020 - accuracy: 1.0000 - val_loss: 0.5918 - val_accuracy: 0.8754\n",
            "Epoch 374/500\n",
            "4/4 [==============================] - 1s 191ms/step - loss: 0.0071 - accuracy: 0.9986 - val_loss: 0.6287 - val_accuracy: 0.8658\n",
            "Epoch 375/500\n",
            "4/4 [==============================] - 1s 201ms/step - loss: 0.0094 - accuracy: 0.9959 - val_loss: 0.5374 - val_accuracy: 0.8946\n",
            "Epoch 376/500\n",
            "4/4 [==============================] - 1s 197ms/step - loss: 0.0050 - accuracy: 0.9986 - val_loss: 0.4853 - val_accuracy: 0.9073\n",
            "Epoch 377/500\n",
            "4/4 [==============================] - 1s 191ms/step - loss: 0.0014 - accuracy: 1.0000 - val_loss: 0.4747 - val_accuracy: 0.9137\n",
            "Epoch 378/500\n",
            "4/4 [==============================] - 1s 186ms/step - loss: 0.0013 - accuracy: 1.0000 - val_loss: 0.4918 - val_accuracy: 0.9105\n",
            "Epoch 379/500\n",
            "4/4 [==============================] - 1s 193ms/step - loss: 0.0045 - accuracy: 1.0000 - val_loss: 0.4795 - val_accuracy: 0.9105\n",
            "Epoch 380/500\n",
            "4/4 [==============================] - 1s 192ms/step - loss: 0.0053 - accuracy: 0.9973 - val_loss: 0.4914 - val_accuracy: 0.8946\n",
            "Epoch 381/500\n",
            "4/4 [==============================] - 1s 189ms/step - loss: 0.0025 - accuracy: 1.0000 - val_loss: 0.5386 - val_accuracy: 0.9010\n",
            "Epoch 382/500\n",
            "4/4 [==============================] - 1s 186ms/step - loss: 0.0021 - accuracy: 1.0000 - val_loss: 0.5549 - val_accuracy: 0.8978\n",
            "Epoch 383/500\n",
            "4/4 [==============================] - 1s 190ms/step - loss: 0.0048 - accuracy: 0.9973 - val_loss: 0.5415 - val_accuracy: 0.9010\n",
            "Epoch 384/500\n",
            "4/4 [==============================] - 1s 191ms/step - loss: 0.0080 - accuracy: 0.9959 - val_loss: 0.5262 - val_accuracy: 0.8978\n",
            "Epoch 385/500\n",
            "4/4 [==============================] - 1s 185ms/step - loss: 0.0031 - accuracy: 0.9986 - val_loss: 0.5796 - val_accuracy: 0.8786\n",
            "Epoch 386/500\n",
            "4/4 [==============================] - 1s 187ms/step - loss: 0.0059 - accuracy: 0.9973 - val_loss: 0.5707 - val_accuracy: 0.8818\n",
            "Epoch 387/500\n",
            "4/4 [==============================] - 1s 192ms/step - loss: 0.0070 - accuracy: 0.9986 - val_loss: 0.5033 - val_accuracy: 0.8914\n",
            "Epoch 388/500\n",
            "4/4 [==============================] - 1s 185ms/step - loss: 0.0051 - accuracy: 0.9986 - val_loss: 0.5172 - val_accuracy: 0.9010\n",
            "Epoch 389/500\n",
            "4/4 [==============================] - 1s 189ms/step - loss: 0.0080 - accuracy: 0.9973 - val_loss: 0.5455 - val_accuracy: 0.9010\n",
            "Epoch 390/500\n",
            "4/4 [==============================] - 1s 192ms/step - loss: 0.0033 - accuracy: 1.0000 - val_loss: 0.5425 - val_accuracy: 0.8946\n",
            "Epoch 391/500\n",
            "4/4 [==============================] - 1s 192ms/step - loss: 0.0019 - accuracy: 0.9986 - val_loss: 0.5416 - val_accuracy: 0.8914\n",
            "Epoch 392/500\n",
            "4/4 [==============================] - 1s 188ms/step - loss: 8.9834e-04 - accuracy: 1.0000 - val_loss: 0.5729 - val_accuracy: 0.8946\n",
            "Epoch 393/500\n",
            "4/4 [==============================] - 1s 184ms/step - loss: 0.0020 - accuracy: 1.0000 - val_loss: 0.5942 - val_accuracy: 0.8850\n",
            "Epoch 394/500\n",
            "4/4 [==============================] - 1s 192ms/step - loss: 0.0011 - accuracy: 1.0000 - val_loss: 0.5884 - val_accuracy: 0.8882\n",
            "Epoch 395/500\n",
            "4/4 [==============================] - 1s 192ms/step - loss: 0.0012 - accuracy: 1.0000 - val_loss: 0.5720 - val_accuracy: 0.9010\n",
            "Epoch 396/500\n",
            "4/4 [==============================] - 1s 186ms/step - loss: 0.0012 - accuracy: 1.0000 - val_loss: 0.5521 - val_accuracy: 0.9105\n",
            "Epoch 397/500\n",
            "4/4 [==============================] - 1s 194ms/step - loss: 5.7440e-04 - accuracy: 1.0000 - val_loss: 0.5441 - val_accuracy: 0.9233\n",
            "Epoch 398/500\n",
            "4/4 [==============================] - 1s 191ms/step - loss: 4.7839e-04 - accuracy: 1.0000 - val_loss: 0.5453 - val_accuracy: 0.9233\n",
            "Epoch 399/500\n",
            "4/4 [==============================] - 1s 191ms/step - loss: 0.0013 - accuracy: 1.0000 - val_loss: 0.5316 - val_accuracy: 0.9201\n",
            "Epoch 400/500\n",
            "4/4 [==============================] - 1s 188ms/step - loss: 6.1440e-04 - accuracy: 1.0000 - val_loss: 0.5213 - val_accuracy: 0.9137\n",
            "Epoch 401/500\n",
            "4/4 [==============================] - 1s 191ms/step - loss: 6.8777e-04 - accuracy: 1.0000 - val_loss: 0.5102 - val_accuracy: 0.9105\n",
            "Epoch 402/500\n",
            "4/4 [==============================] - 1s 190ms/step - loss: 4.5087e-04 - accuracy: 1.0000 - val_loss: 0.5009 - val_accuracy: 0.9105\n",
            "Epoch 403/500\n",
            "4/4 [==============================] - 1s 189ms/step - loss: 0.0013 - accuracy: 1.0000 - val_loss: 0.4959 - val_accuracy: 0.9042\n",
            "Epoch 404/500\n",
            "4/4 [==============================] - 1s 186ms/step - loss: 0.0014 - accuracy: 1.0000 - val_loss: 0.4929 - val_accuracy: 0.9042\n",
            "Epoch 405/500\n",
            "4/4 [==============================] - 1s 188ms/step - loss: 3.5440e-04 - accuracy: 1.0000 - val_loss: 0.4989 - val_accuracy: 0.9073\n",
            "Epoch 406/500\n",
            "4/4 [==============================] - 1s 193ms/step - loss: 9.6729e-04 - accuracy: 1.0000 - val_loss: 0.5053 - val_accuracy: 0.9073\n",
            "Epoch 407/500\n",
            "4/4 [==============================] - 1s 183ms/step - loss: 5.7553e-04 - accuracy: 1.0000 - val_loss: 0.5128 - val_accuracy: 0.9042\n",
            "Epoch 408/500\n",
            "4/4 [==============================] - 1s 195ms/step - loss: 7.6726e-04 - accuracy: 1.0000 - val_loss: 0.5176 - val_accuracy: 0.9042\n",
            "Epoch 409/500\n",
            "4/4 [==============================] - 1s 193ms/step - loss: 0.0015 - accuracy: 1.0000 - val_loss: 0.5232 - val_accuracy: 0.9042\n",
            "Epoch 410/500\n",
            "4/4 [==============================] - 1s 190ms/step - loss: 5.3118e-04 - accuracy: 1.0000 - val_loss: 0.5351 - val_accuracy: 0.9042\n",
            "Epoch 411/500\n",
            "4/4 [==============================] - 1s 189ms/step - loss: 0.0011 - accuracy: 1.0000 - val_loss: 0.5214 - val_accuracy: 0.9105\n",
            "Epoch 412/500\n",
            "4/4 [==============================] - 1s 196ms/step - loss: 5.8922e-04 - accuracy: 1.0000 - val_loss: 0.5098 - val_accuracy: 0.9137\n",
            "Epoch 413/500\n",
            "4/4 [==============================] - 1s 198ms/step - loss: 5.7474e-04 - accuracy: 1.0000 - val_loss: 0.4986 - val_accuracy: 0.9201\n",
            "Epoch 414/500\n",
            "4/4 [==============================] - 1s 191ms/step - loss: 4.2160e-04 - accuracy: 1.0000 - val_loss: 0.4929 - val_accuracy: 0.9169\n",
            "Epoch 415/500\n",
            "4/4 [==============================] - 1s 191ms/step - loss: 3.7024e-04 - accuracy: 1.0000 - val_loss: 0.4910 - val_accuracy: 0.9169\n",
            "Epoch 416/500\n",
            "4/4 [==============================] - 1s 196ms/step - loss: 4.1016e-04 - accuracy: 1.0000 - val_loss: 0.4915 - val_accuracy: 0.9169\n",
            "Epoch 417/500\n",
            "4/4 [==============================] - 1s 198ms/step - loss: 3.2264e-04 - accuracy: 1.0000 - val_loss: 0.4936 - val_accuracy: 0.9169\n",
            "Epoch 418/500\n",
            "4/4 [==============================] - 1s 192ms/step - loss: 3.2821e-04 - accuracy: 1.0000 - val_loss: 0.4955 - val_accuracy: 0.9169\n",
            "Epoch 419/500\n",
            "4/4 [==============================] - 1s 193ms/step - loss: 5.7017e-04 - accuracy: 1.0000 - val_loss: 0.5006 - val_accuracy: 0.9169\n",
            "Epoch 420/500\n",
            "4/4 [==============================] - 1s 197ms/step - loss: 4.0299e-04 - accuracy: 1.0000 - val_loss: 0.5069 - val_accuracy: 0.9201\n",
            "Epoch 421/500\n",
            "4/4 [==============================] - 1s 194ms/step - loss: 5.3992e-04 - accuracy: 1.0000 - val_loss: 0.5082 - val_accuracy: 0.9201\n",
            "Epoch 422/500\n",
            "4/4 [==============================] - 1s 194ms/step - loss: 4.9704e-04 - accuracy: 1.0000 - val_loss: 0.5114 - val_accuracy: 0.9201\n",
            "Epoch 423/500\n",
            "4/4 [==============================] - 1s 192ms/step - loss: 3.5255e-04 - accuracy: 1.0000 - val_loss: 0.5175 - val_accuracy: 0.9201\n",
            "Epoch 424/500\n",
            "4/4 [==============================] - 1s 194ms/step - loss: 2.4133e-04 - accuracy: 1.0000 - val_loss: 0.5257 - val_accuracy: 0.9169\n",
            "Epoch 425/500\n",
            "4/4 [==============================] - 1s 196ms/step - loss: 2.6765e-04 - accuracy: 1.0000 - val_loss: 0.5325 - val_accuracy: 0.9169\n",
            "Epoch 426/500\n",
            "4/4 [==============================] - 1s 192ms/step - loss: 0.0019 - accuracy: 1.0000 - val_loss: 0.5234 - val_accuracy: 0.9201\n",
            "Epoch 427/500\n",
            "4/4 [==============================] - 1s 192ms/step - loss: 8.3293e-04 - accuracy: 1.0000 - val_loss: 0.5169 - val_accuracy: 0.9201\n",
            "Epoch 428/500\n",
            "4/4 [==============================] - 1s 194ms/step - loss: 5.7694e-04 - accuracy: 1.0000 - val_loss: 0.5156 - val_accuracy: 0.9137\n",
            "Epoch 429/500\n",
            "4/4 [==============================] - 1s 195ms/step - loss: 0.0021 - accuracy: 0.9986 - val_loss: 0.5596 - val_accuracy: 0.9010\n",
            "Epoch 430/500\n",
            "4/4 [==============================] - 1s 193ms/step - loss: 6.5571e-04 - accuracy: 1.0000 - val_loss: 0.6237 - val_accuracy: 0.8882\n",
            "Epoch 431/500\n",
            "4/4 [==============================] - 1s 191ms/step - loss: 0.0029 - accuracy: 0.9986 - val_loss: 0.6011 - val_accuracy: 0.8978\n",
            "Epoch 432/500\n",
            "4/4 [==============================] - 1s 196ms/step - loss: 0.0078 - accuracy: 0.9986 - val_loss: 0.5790 - val_accuracy: 0.9010\n",
            "Epoch 433/500\n",
            "4/4 [==============================] - 1s 197ms/step - loss: 0.0023 - accuracy: 0.9986 - val_loss: 0.5935 - val_accuracy: 0.9073\n",
            "Epoch 434/500\n",
            "4/4 [==============================] - 1s 194ms/step - loss: 0.0061 - accuracy: 0.9973 - val_loss: 0.5510 - val_accuracy: 0.9073\n",
            "Epoch 435/500\n",
            "4/4 [==============================] - 1s 197ms/step - loss: 0.0015 - accuracy: 1.0000 - val_loss: 0.5412 - val_accuracy: 0.9105\n",
            "Epoch 436/500\n",
            "4/4 [==============================] - 1s 196ms/step - loss: 0.0036 - accuracy: 0.9986 - val_loss: 0.5855 - val_accuracy: 0.9042\n",
            "Epoch 437/500\n",
            "4/4 [==============================] - 1s 198ms/step - loss: 0.0047 - accuracy: 0.9986 - val_loss: 0.6213 - val_accuracy: 0.9010\n",
            "Epoch 438/500\n",
            "4/4 [==============================] - 1s 192ms/step - loss: 0.0017 - accuracy: 1.0000 - val_loss: 0.6745 - val_accuracy: 0.8978\n",
            "Epoch 439/500\n",
            "4/4 [==============================] - 1s 195ms/step - loss: 0.0085 - accuracy: 0.9986 - val_loss: 0.6129 - val_accuracy: 0.9010\n",
            "Epoch 440/500\n",
            "4/4 [==============================] - 1s 199ms/step - loss: 0.0210 - accuracy: 0.9959 - val_loss: 0.5645 - val_accuracy: 0.9105\n",
            "Epoch 441/500\n",
            "4/4 [==============================] - 1s 194ms/step - loss: 0.0017 - accuracy: 1.0000 - val_loss: 0.5860 - val_accuracy: 0.9042\n",
            "Epoch 442/500\n",
            "4/4 [==============================] - 1s 322ms/step - loss: 0.0039 - accuracy: 0.9986 - val_loss: 0.6008 - val_accuracy: 0.8914\n",
            "Epoch 443/500\n",
            "4/4 [==============================] - 1s 355ms/step - loss: 0.0067 - accuracy: 0.9973 - val_loss: 0.6025 - val_accuracy: 0.8818\n",
            "Epoch 444/500\n",
            "4/4 [==============================] - 1s 331ms/step - loss: 0.0036 - accuracy: 0.9986 - val_loss: 0.6114 - val_accuracy: 0.8658\n",
            "Epoch 445/500\n",
            "4/4 [==============================] - 1s 194ms/step - loss: 0.0035 - accuracy: 0.9986 - val_loss: 0.5652 - val_accuracy: 0.8978\n",
            "Epoch 446/500\n",
            "4/4 [==============================] - 1s 196ms/step - loss: 0.0091 - accuracy: 0.9973 - val_loss: 0.6680 - val_accuracy: 0.9010\n",
            "Epoch 447/500\n",
            "4/4 [==============================] - 1s 197ms/step - loss: 0.0055 - accuracy: 0.9986 - val_loss: 0.7858 - val_accuracy: 0.8594\n",
            "Epoch 448/500\n",
            "4/4 [==============================] - 1s 195ms/step - loss: 0.0245 - accuracy: 0.9945 - val_loss: 0.6157 - val_accuracy: 0.8978\n",
            "Epoch 449/500\n",
            "4/4 [==============================] - 1s 194ms/step - loss: 0.0071 - accuracy: 0.9973 - val_loss: 0.5341 - val_accuracy: 0.8914\n",
            "Epoch 450/500\n",
            "4/4 [==============================] - 1s 193ms/step - loss: 0.0044 - accuracy: 1.0000 - val_loss: 0.5394 - val_accuracy: 0.8690\n",
            "Epoch 451/500\n",
            "4/4 [==============================] - 1s 192ms/step - loss: 0.0027 - accuracy: 1.0000 - val_loss: 0.5977 - val_accuracy: 0.8658\n",
            "Epoch 452/500\n",
            "4/4 [==============================] - 1s 189ms/step - loss: 0.0120 - accuracy: 0.9959 - val_loss: 0.5383 - val_accuracy: 0.9042\n",
            "Epoch 453/500\n",
            "4/4 [==============================] - 1s 196ms/step - loss: 0.0028 - accuracy: 1.0000 - val_loss: 0.5865 - val_accuracy: 0.8914\n",
            "Epoch 454/500\n",
            "4/4 [==============================] - 1s 197ms/step - loss: 0.0051 - accuracy: 0.9986 - val_loss: 0.5524 - val_accuracy: 0.8978\n",
            "Epoch 455/500\n",
            "4/4 [==============================] - 1s 194ms/step - loss: 0.0052 - accuracy: 0.9986 - val_loss: 0.5253 - val_accuracy: 0.8850\n",
            "Epoch 456/500\n",
            "4/4 [==============================] - 1s 189ms/step - loss: 0.0018 - accuracy: 1.0000 - val_loss: 0.5567 - val_accuracy: 0.8786\n",
            "Epoch 457/500\n",
            "4/4 [==============================] - 1s 195ms/step - loss: 0.0040 - accuracy: 0.9986 - val_loss: 0.6203 - val_accuracy: 0.8754\n",
            "Epoch 458/500\n",
            "4/4 [==============================] - 1s 199ms/step - loss: 0.0020 - accuracy: 1.0000 - val_loss: 0.6333 - val_accuracy: 0.8818\n",
            "Epoch 459/500\n",
            "4/4 [==============================] - 1s 193ms/step - loss: 0.0020 - accuracy: 1.0000 - val_loss: 0.6173 - val_accuracy: 0.8978\n",
            "Epoch 460/500\n",
            "4/4 [==============================] - 1s 189ms/step - loss: 0.0011 - accuracy: 1.0000 - val_loss: 0.6627 - val_accuracy: 0.8978\n",
            "Epoch 461/500\n",
            "4/4 [==============================] - 1s 195ms/step - loss: 0.0077 - accuracy: 0.9986 - val_loss: 0.6234 - val_accuracy: 0.8978\n",
            "Epoch 462/500\n",
            "4/4 [==============================] - 1s 194ms/step - loss: 0.0020 - accuracy: 1.0000 - val_loss: 0.5717 - val_accuracy: 0.8754\n",
            "Epoch 463/500\n",
            "4/4 [==============================] - 1s 192ms/step - loss: 0.0062 - accuracy: 0.9973 - val_loss: 0.5423 - val_accuracy: 0.8722\n",
            "Epoch 464/500\n",
            "4/4 [==============================] - 1s 190ms/step - loss: 0.0071 - accuracy: 0.9973 - val_loss: 0.5085 - val_accuracy: 0.9042\n",
            "Epoch 465/500\n",
            "4/4 [==============================] - 1s 196ms/step - loss: 0.0020 - accuracy: 1.0000 - val_loss: 0.5578 - val_accuracy: 0.9010\n",
            "Epoch 466/500\n",
            "4/4 [==============================] - 1s 196ms/step - loss: 0.0034 - accuracy: 1.0000 - val_loss: 0.5867 - val_accuracy: 0.8978\n",
            "Epoch 467/500\n",
            "4/4 [==============================] - 1s 191ms/step - loss: 0.0055 - accuracy: 0.9986 - val_loss: 0.5938 - val_accuracy: 0.8850\n",
            "Epoch 468/500\n",
            "4/4 [==============================] - 1s 188ms/step - loss: 9.2224e-04 - accuracy: 1.0000 - val_loss: 0.6601 - val_accuracy: 0.8626\n",
            "Epoch 469/500\n",
            "4/4 [==============================] - 1s 193ms/step - loss: 0.0039 - accuracy: 0.9986 - val_loss: 0.6232 - val_accuracy: 0.8722\n",
            "Epoch 470/500\n",
            "4/4 [==============================] - 1s 194ms/step - loss: 0.0022 - accuracy: 1.0000 - val_loss: 0.5683 - val_accuracy: 0.8818\n",
            "Epoch 471/500\n",
            "4/4 [==============================] - 1s 191ms/step - loss: 0.0037 - accuracy: 0.9986 - val_loss: 0.5244 - val_accuracy: 0.9010\n",
            "Epoch 472/500\n",
            "4/4 [==============================] - 1s 197ms/step - loss: 0.0059 - accuracy: 0.9986 - val_loss: 0.5289 - val_accuracy: 0.9073\n",
            "Epoch 473/500\n",
            "4/4 [==============================] - 1s 195ms/step - loss: 0.0015 - accuracy: 1.0000 - val_loss: 0.5461 - val_accuracy: 0.9073\n",
            "Epoch 474/500\n",
            "4/4 [==============================] - 1s 195ms/step - loss: 7.8344e-04 - accuracy: 1.0000 - val_loss: 0.5899 - val_accuracy: 0.8978\n",
            "Epoch 475/500\n",
            "4/4 [==============================] - 1s 193ms/step - loss: 0.0029 - accuracy: 1.0000 - val_loss: 0.5779 - val_accuracy: 0.8978\n",
            "Epoch 476/500\n",
            "4/4 [==============================] - 1s 198ms/step - loss: 0.0016 - accuracy: 1.0000 - val_loss: 0.5035 - val_accuracy: 0.9169\n",
            "Epoch 477/500\n",
            "4/4 [==============================] - 1s 194ms/step - loss: 0.0023 - accuracy: 0.9986 - val_loss: 0.4938 - val_accuracy: 0.9201\n",
            "Epoch 478/500\n",
            "4/4 [==============================] - 1s 194ms/step - loss: 0.0011 - accuracy: 1.0000 - val_loss: 0.4915 - val_accuracy: 0.9169\n",
            "Epoch 479/500\n",
            "4/4 [==============================] - 1s 190ms/step - loss: 0.0026 - accuracy: 1.0000 - val_loss: 0.4876 - val_accuracy: 0.9042\n",
            "Epoch 480/500\n",
            "4/4 [==============================] - 1s 197ms/step - loss: 7.8378e-04 - accuracy: 1.0000 - val_loss: 0.4904 - val_accuracy: 0.8978\n",
            "Epoch 481/500\n",
            "4/4 [==============================] - 1s 193ms/step - loss: 5.6528e-04 - accuracy: 1.0000 - val_loss: 0.5013 - val_accuracy: 0.8978\n",
            "Epoch 482/500\n",
            "4/4 [==============================] - 1s 192ms/step - loss: 6.5777e-04 - accuracy: 1.0000 - val_loss: 0.5025 - val_accuracy: 0.8978\n",
            "Epoch 483/500\n",
            "4/4 [==============================] - 1s 192ms/step - loss: 6.6958e-04 - accuracy: 1.0000 - val_loss: 0.4980 - val_accuracy: 0.9042\n",
            "Epoch 484/500\n",
            "4/4 [==============================] - 1s 195ms/step - loss: 8.2496e-04 - accuracy: 1.0000 - val_loss: 0.4881 - val_accuracy: 0.9010\n",
            "Epoch 485/500\n",
            "4/4 [==============================] - 1s 196ms/step - loss: 3.5510e-04 - accuracy: 1.0000 - val_loss: 0.4752 - val_accuracy: 0.9042\n",
            "Epoch 486/500\n",
            "4/4 [==============================] - 1s 192ms/step - loss: 5.9105e-04 - accuracy: 1.0000 - val_loss: 0.4714 - val_accuracy: 0.9073\n",
            "Epoch 487/500\n",
            "4/4 [==============================] - 1s 189ms/step - loss: 5.2610e-04 - accuracy: 1.0000 - val_loss: 0.4683 - val_accuracy: 0.9169\n",
            "Epoch 488/500\n",
            "4/4 [==============================] - 1s 198ms/step - loss: 2.9424e-04 - accuracy: 1.0000 - val_loss: 0.4639 - val_accuracy: 0.9201\n",
            "Epoch 489/500\n",
            "4/4 [==============================] - 1s 204ms/step - loss: 4.5233e-04 - accuracy: 1.0000 - val_loss: 0.4614 - val_accuracy: 0.9233\n",
            "Epoch 490/500\n",
            "4/4 [==============================] - 1s 191ms/step - loss: 3.8641e-04 - accuracy: 1.0000 - val_loss: 0.4582 - val_accuracy: 0.9233\n",
            "Epoch 491/500\n",
            "4/4 [==============================] - 1s 189ms/step - loss: 6.8988e-04 - accuracy: 1.0000 - val_loss: 0.4603 - val_accuracy: 0.9233\n",
            "Epoch 492/500\n",
            "4/4 [==============================] - 1s 195ms/step - loss: 0.0010 - accuracy: 1.0000 - val_loss: 0.4632 - val_accuracy: 0.9233\n",
            "Epoch 493/500\n",
            "4/4 [==============================] - 1s 197ms/step - loss: 5.0713e-04 - accuracy: 1.0000 - val_loss: 0.4647 - val_accuracy: 0.9201\n",
            "Epoch 494/500\n",
            "4/4 [==============================] - 1s 196ms/step - loss: 7.3724e-04 - accuracy: 1.0000 - val_loss: 0.4737 - val_accuracy: 0.9169\n",
            "Epoch 495/500\n",
            "4/4 [==============================] - 1s 190ms/step - loss: 2.0349e-04 - accuracy: 1.0000 - val_loss: 0.4865 - val_accuracy: 0.9137\n",
            "Epoch 496/500\n",
            "4/4 [==============================] - 1s 196ms/step - loss: 0.0011 - accuracy: 1.0000 - val_loss: 0.5002 - val_accuracy: 0.9137\n",
            "Epoch 497/500\n",
            "4/4 [==============================] - 1s 196ms/step - loss: 4.6667e-04 - accuracy: 1.0000 - val_loss: 0.5102 - val_accuracy: 0.9137\n",
            "Epoch 498/500\n",
            "4/4 [==============================] - 1s 195ms/step - loss: 5.0316e-04 - accuracy: 1.0000 - val_loss: 0.5149 - val_accuracy: 0.9105\n",
            "Epoch 499/500\n",
            "4/4 [==============================] - 1s 192ms/step - loss: 0.0026 - accuracy: 0.9986 - val_loss: 0.4950 - val_accuracy: 0.9169\n",
            "Epoch 500/500\n",
            "4/4 [==============================] - 1s 194ms/step - loss: 4.3773e-04 - accuracy: 1.0000 - val_loss: 0.5106 - val_accuracy: 0.9105\n",
            "Large CNN Error: 8.95%\n"
          ]
        }
      ]
    },
    {
      "cell_type": "code",
      "source": [
        "acc = history.history['accuracy']\n",
        "val_acc = history.history['val_accuracy']\n",
        "loss = history.history['loss']\n",
        "val_loss = history.history['val_loss']\n",
        "\n",
        "epochs_range = range(500)\n",
        "\n",
        "plt.figure(figsize=(15, 15))\n",
        "plt.subplot(2, 2, 1)\n",
        "plt.plot(epochs_range, acc, label='Training Accuracy')\n",
        "plt.plot(epochs_range, val_acc, label='Validation Accuracy')\n",
        "plt.legend(loc='lower right')\n",
        "plt.title('Training and Validation Accuracy')\n",
        "\n",
        "plt.subplot(2, 2, 2)\n",
        "plt.plot(epochs_range, loss, label='Training Loss')\n",
        "plt.plot(epochs_range, val_loss, label='Validation Loss')\n",
        "plt.legend(loc='upper right')\n",
        "plt.title('Training and Validation Loss')\n",
        "plt.show()"
      ],
      "metadata": {
        "colab": {
          "base_uri": "https://localhost:8080/"
        },
        "id": "uxqa_vu_kcf_",
        "outputId": "85290f4c-a9b4-4779-e5b3-570f3683fa28"
      },
      "execution_count": null,
      "outputs": [
        {
          "output_type": "display_data",
          "data": {
            "text/plain": [
              "<Figure size 1080x1080 with 2 Axes>"
            ],
            "image/png": "[encoded data removed]"
          },
          "metadata": {
            "needs_background": "light"
          }
        }
      ]
    },
    {
      "cell_type": "code",
      "source": [
        "predicts = model.predict(x_test)"
      ],
      "metadata": {
        "colab": {
          "base_uri": "https://localhost:8080/"
        },
        "id": "EsIij1TYreeB",
        "outputId": "10dcd9f8-5874-4077-f7c2-c6eb7c4a07be"
      },
      "execution_count": null,
      "outputs": [
        {
          "output_type": "stream",
          "name": "stdout",
          "text": [
            "10/10 [==============================] - 0s 11ms/step\n"
          ]
        }
      ]
    },
    {
      "cell_type": "code",
      "source": [
        "type(predicts)"
      ],
      "metadata": {
        "id": "NxWCLQARr8Ak",
        "colab": {
          "base_uri": "https://localhost:8080/"
        },
        "outputId": "8e0f966e-f1d8-4456-cf07-c535e2d55cfb"
      },
      "execution_count": null,
      "outputs": [
        {
          "output_type": "execute_result",
          "data": {
            "text/plain": [
              "numpy.ndarray"
            ]
          },
          "metadata": {},
          "execution_count": 78
        }
      ]
    },
    {
      "cell_type": "code",
      "source": [
        "predicts_labels = []\n",
        "for i in predicts:\n",
        "  predicts_labels.append(np.argmax(i))\n",
        "predicts_labels = np.array(predicts_labels)"
      ],
      "metadata": {
        "id": "416AW1i9rghq"
      },
      "execution_count": null,
      "outputs": []
    },
    {
      "cell_type": "code",
      "source": [
        "y_test_df = np.array(y_test_df)\n",
        "y_test_df"
      ],
      "metadata": {
        "id": "U37uURt4sOI7",
        "colab": {
          "base_uri": "https://localhost:8080/"
        },
        "outputId": "62091ddf-6818-416e-d523-a2fc149dca52"
      },
      "execution_count": null,
      "outputs": [
        {
          "output_type": "execute_result",
          "data": {
            "text/plain": [
              "array([26, 12,  1,  8, 10, 26,  0, 26, 26, 26, 26,  9,  9, 26, 26,  9,  0,\n",
              "       20, 26,  2, 16, 17,  8, 17, 26, 26, 11, 25,  1, 26, 26, 26, 23, 26,\n",
              "       11, 16, 25,  5,  0, 26, 26,  8, 22, 15, 17, 26,  0, 26, 26,  0, 12,\n",
              "        8,  3, 26, 26, 26, 25, 24,  4, 26, 26, 26,  3, 22, 24, 26, 24,  1,\n",
              "       26, 25, 26, 10,  4, 21, 20, 26, 26, 17, 19, 26, 26, 26, 26, 26, 26,\n",
              "       26,  0, 26, 26,  4, 18, 26, 26, 26, 22,  9, 26, 26, 21,  9, 20, 26,\n",
              "       20, 26, 26,  8, 26, 26, 17, 26,  0, 26,  4,  9, 14, 26, 26, 26, 26,\n",
              "       26, 10, 26, 26, 24,  0, 26,  5, 26,  2, 11, 26,  5, 26, 14, 17, 26,\n",
              "       26, 21, 16, 26, 24, 12, 26, 26, 16, 26, 26, 26, 22,  2, 26, 15, 26,\n",
              "       15, 19, 26, 26, 26, 11, 26, 17, 26,  3, 13, 26,  3, 16,  1, 15, 26,\n",
              "       26, 22, 26, 26, 26, 20, 26, 26, 26, 26, 10, 26, 26, 26,  6, 26, 14,\n",
              "       26, 26, 26, 25, 26, 14, 12, 26, 23, 26, 25, 26, 26, 26, 13, 26, 26,\n",
              "       26, 26, 26, 23,  6, 26, 15, 20, 26, 26,  0, 20, 26, 26,  7, 26, 26,\n",
              "       20, 24, 22, 23, 26, 25, 26, 26, 26, 26, 18,  6, 26, 26, 26, 26, 26,\n",
              "       19, 26, 19, 26, 26, 26, 26,  2, 16, 11, 26, 26, 26, 24, 26, 26, 26,\n",
              "       21,  1, 26,  7,  9, 26, 26, 24,  5, 26,  7, 21, 26, 26, 26, 10, 26,\n",
              "       26,  6, 21, 26, 26, 23, 26, 26, 25, 26, 15,  3, 13, 26, 26, 26, 20,\n",
              "       19,  1, 10, 26, 26, 26,  9, 26, 26, 26, 26, 26, 26,  8, 26, 26, 18,\n",
              "       26, 19,  7, 11,  7,  2, 11])"
            ]
          },
          "metadata": {},
          "execution_count": 80
        }
      ]
    },
    {
      "cell_type": "code",
      "source": [
        "len(y_test_df)"
      ],
      "metadata": {
        "id": "0NNpSSyOtEI4",
        "colab": {
          "base_uri": "https://localhost:8080/"
        },
        "outputId": "e896e241-523e-4165-fc5d-25882833a8d9"
      },
      "execution_count": null,
      "outputs": [
        {
          "output_type": "execute_result",
          "data": {
            "text/plain": [
              "313"
            ]
          },
          "metadata": {},
          "execution_count": 81
        }
      ]
    },
    {
      "cell_type": "code",
      "source": [
        "predicts_labels"
      ],
      "metadata": {
        "id": "YDWvM4_jrinW",
        "colab": {
          "base_uri": "https://localhost:8080/"
        },
        "outputId": "6e43e4cc-cd7e-481e-a776-94926c7563c7"
      },
      "execution_count": null,
      "outputs": [
        {
          "output_type": "execute_result",
          "data": {
            "text/plain": [
              "array([26, 12,  1,  8, 23, 26,  0, 26, 26, 26, 26,  9,  8, 26, 26,  9, 26,\n",
              "       21, 26,  2, 16, 17,  8, 17, 26, 26, 11, 25,  1, 26, 26, 26, 23, 26,\n",
              "        2, 16, 25,  5, 16, 26, 26,  8, 22, 15,  1, 26,  0, 26, 26, 23, 12,\n",
              "        8,  3, 26, 26, 26, 25, 24,  4, 26, 26, 26, 14, 22, 26, 26, 24,  1,\n",
              "       26, 25, 26, 10,  4, 21, 20, 26, 26, 17, 19, 26, 26, 26, 26, 26, 26,\n",
              "       26, 17, 26, 26,  4,  9, 26, 26, 26, 22,  9, 26, 26, 21,  3, 20, 26,\n",
              "       20, 26, 26,  8, 26, 26, 17, 26, 17, 26,  4,  9, 14, 26, 26, 26, 26,\n",
              "       26, 23, 26, 26, 24,  0, 26,  5, 26,  2, 11, 26,  5, 26, 14, 16,  1,\n",
              "       26, 21, 16, 26, 24, 12, 26, 26, 16, 26, 26, 26, 22,  2, 26, 15, 26,\n",
              "        5, 19, 26, 26, 26, 11, 26, 17, 26,  3, 13, 26,  3, 16,  1, 15, 26,\n",
              "       26, 22, 26, 26, 26, 20, 26, 26, 26, 26, 10, 26, 26, 26,  6, 26, 14,\n",
              "       26, 26, 26, 25, 26, 14, 12, 26, 23, 26, 25, 26, 26, 26, 12, 26, 26,\n",
              "       26, 26, 26, 23,  6, 26, 15, 20, 26, 26, 25, 20, 26, 26,  4, 26, 26,\n",
              "       20, 19, 22, 23, 26, 25, 26, 26, 26, 26, 18,  6, 26, 26, 26, 26, 26,\n",
              "       19, 26, 19, 26, 26, 26, 26,  2, 16, 11, 26, 26, 26, 24, 26, 26, 26,\n",
              "       21,  1, 26,  7, 22, 26, 26, 24,  5, 26,  7, 21, 26, 26, 26, 10, 26,\n",
              "       26,  6, 21, 26, 26, 23, 26, 26,  2, 26, 15,  3, 13, 26, 18, 26, 25,\n",
              "       19,  1, 10, 26, 26, 26,  9, 26, 26, 26, 26, 26, 18,  8, 26, 26, 18,\n",
              "       26, 19, 26, 11,  7,  2, 11])"
            ]
          },
          "metadata": {},
          "execution_count": 82
        }
      ]
    },
    {
      "cell_type": "code",
      "source": [
        "len(predicts_labels)"
      ],
      "metadata": {
        "id": "aB-HB11GtHFf",
        "colab": {
          "base_uri": "https://localhost:8080/"
        },
        "outputId": "eed19979-0416-49dd-9def-8c12e1ecc184"
      },
      "execution_count": null,
      "outputs": [
        {
          "output_type": "execute_result",
          "data": {
            "text/plain": [
              "313"
            ]
          },
          "metadata": {},
          "execution_count": 83
        }
      ]
    },
    {
      "cell_type": "code",
      "source": [
        "k = 0\n",
        "for i in range(len(y_test_df)):\n",
        "  if(y_test_df[i] == predicts_labels[i]):\n",
        "    k += 1\n",
        "print(k)\n",
        "print((k/len(y_test_df))*100)"
      ],
      "metadata": {
        "id": "9h5Gn4Jws6cp",
        "colab": {
          "base_uri": "https://localhost:8080/"
        },
        "outputId": "7ad370d6-9c80-49e0-b800-d37a66cd6c1b"
      },
      "execution_count": null,
      "outputs": [
        {
          "output_type": "stream",
          "name": "stdout",
          "text": [
            "285\n",
            "91.05431309904152\n"
          ]
        }
      ]
    },
    {
      "cell_type": "code",
      "source": [
        "from sklearn.metrics import precision_score,recall_score,accuracy_score,f1_score\n",
        "print('Precision: %.3f' % precision_score(y_test_df,predicts_labels,average='micro'))\n",
        "print('Recall: %.3f' % recall_score(y_test_df, predicts_labels,average='micro'))\n",
        "print('Accuracy: %.3f' % accuracy_score(y_test_df, predicts_labels))\n",
        "print('F1-Score: %.3f' % f1_score(y_test_df, predicts_labels,average='micro'))"
      ],
      "metadata": {
        "id": "wum2k8U2rj5S",
        "colab": {
          "base_uri": "https://localhost:8080/"
        },
        "outputId": "533f5845-929c-427e-fde2-b624c53b77ea"
      },
      "execution_count": null,
      "outputs": [
        {
          "output_type": "stream",
          "name": "stdout",
          "text": [
            "Precision: 0.911\n",
            "Recall: 0.911\n",
            "Accuracy: 0.911\n",
            "F1-Score: 0.911\n"
          ]
        }
      ]
    }
  ]
}