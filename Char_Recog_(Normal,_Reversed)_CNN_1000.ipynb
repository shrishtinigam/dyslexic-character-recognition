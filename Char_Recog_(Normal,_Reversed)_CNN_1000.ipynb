{
  "nbformat": 4,
  "nbformat_minor": 0,
  "metadata": {
    "colab": {
      "provenance": [],
      "authorship_tag": "ABX9TyM7Rrs+Ht+dQzvg1qyTVPy3",
      "include_colab_link": true
    },
    "kernelspec": {
      "name": "python3",
      "display_name": "Python 3"
    },
    "language_info": {
      "name": "python"
    }
  },
  "cells": [
    {
      "cell_type": "markdown",
      "metadata": {
        "id": "view-in-github",
        "colab_type": "text"
      },
      "source": [
        "<a href=\"https://colab.research.google.com/github/shrishtinigam/dyslexic-character-recognition/blob/main/Char_Recog_(Normal%2C_Reversed)_CNN_1000.ipynb\" target=\"_parent\"><img src=\"https://colab.research.google.com/assets/colab-badge.svg\" alt=\"Open In Colab\"/></a>"
      ]
    },
    {
      "cell_type": "markdown",
      "metadata": {
        "id": "bduJ6YKLU-2s"
      },
      "source": [
        "# Building the dataset\n",
        "### Getting the images from the drive folder"
      ]
    },
    {
      "cell_type": "code",
      "execution_count": null,
      "metadata": {
        "colab": {
          "base_uri": "https://localhost:8080/"
        },
        "id": "YEY8R22hmA7H",
        "outputId": "78aa4b27-0dd9-4916-f14d-44b809b49c40"
      },
      "outputs": [
        {
          "output_type": "stream",
          "name": "stdout",
          "text": [
            "Drive already mounted at /content/drive; to attempt to forcibly remount, call drive.mount(\"/content/drive\", force_remount=True).\n"
          ]
        }
      ],
      "source": [
        "from google.colab import drive\n",
        "drive.mount('/content/drive')"
      ]
    },
    {
      "cell_type": "code",
      "execution_count": null,
      "metadata": {
        "colab": {
          "base_uri": "https://localhost:8080/"
        },
        "id": "dQqBqDLEmaWa",
        "outputId": "f6884f03-fdd1-437d-ce10-689770b9e855"
      },
      "outputs": [
        {
          "output_type": "stream",
          "name": "stdout",
          "text": [
            " Books\t\t\t\t\t  'Normal Old'\n",
            " calibrate\t\t\t\t  'Photogrammetry '\n",
            " character-bot\t\t\t\t   Reversal\n",
            "'Colab Notebooks'\t\t\t  'rrf-zqdw-vtb - Nov 7, 2022 (1).gjam'\n",
            " constraint_Hindi_Train.csv\t\t  'rrf-zqdw-vtb - Nov 7, 2022 (2).gjam'\n",
            " Constraint_Hindi_Valid.csv\t\t  'rrf-zqdw-vtb - Nov 7, 2022.gjam'\n",
            " d4\t\t\t\t\t  'sem 3'\n",
            "'DocScanner Mar 31, 2022 1-32 AM.pdf'\t   TrainDyslexic100\n",
            "'Document from Meher Shrishti Nigam.pdf'   TrainDyslexic20\n",
            " hindicorpus\t\t\t\t  'train normal 100'\n",
            " img2\t\t\t\t\t   TrainNormal100\n",
            " img3\t\t\t\t\t   TrainNormal20\n",
            "'INTERVIEW PREP'\t\t\t   TrainNormal20Old\n",
            " MNER.gdoc\t\t\t\t   vocab.txt\n",
            " Normal\n"
          ]
        }
      ],
      "source": [
        "!ls \"/content/drive/My Drive\""
      ]
    },
    {
      "cell_type": "code",
      "execution_count": null,
      "metadata": {
        "id": "4kYJqzIRkUy4"
      },
      "outputs": [],
      "source": [
        "import os\n",
        "import glob\n",
        "import string"
      ]
    },
    {
      "cell_type": "code",
      "execution_count": null,
      "metadata": {
        "id": "ek4KuEzWoPrz"
      },
      "outputs": [],
      "source": [
        "import cv2 as cv2\n",
        "from google.colab.patches import cv2_imshow"
      ]
    },
    {
      "cell_type": "markdown",
      "metadata": {
        "id": "u1X8erXDjmU0"
      },
      "source": [
        "## TARGET: Given a single image of a letter, the model is able to classify it as \"Normal\" or \"Dyslexic\" and able to tell character it is, as well as what it is supposed to be."
      ]
    },
    {
      "cell_type": "code",
      "execution_count": null,
      "metadata": {
        "id": "6kGiuOU-m4hB"
      },
      "outputs": [],
      "source": [
        "alphabets = []\n",
        "for letter in string.ascii_uppercase:\n",
        "  alphabets.append(letter)"
      ]
    },
    {
      "cell_type": "code",
      "execution_count": null,
      "metadata": {
        "id": "8pU2NvSQnysk"
      },
      "outputs": [],
      "source": [
        "images = []\n",
        "x = 0\n",
        "for letter in alphabets:\n",
        "  image_paths = glob.glob(f\"/content/drive/My Drive/TrainNormal20/\" + letter + \"*.png\")\n",
        "  for i in image_paths:\n",
        "    image = cv2.imread(i)\n",
        "    image = cv2.cvtColor(image, cv2.COLOR_BGR2GRAY)\n",
        "    images.append([image, x])\n",
        "  x += 1"
      ]
    },
    {
      "cell_type": "code",
      "source": [
        "\"\"\"for letter in alphabets:\n",
        "  image_paths_dyx = glob.glob(f\"/content/drive/My Drive/TrainDyslexic20/\" + letter + \"*.png\")\n",
        "  for i in image_paths_dyx:\n",
        "    image = cv2.imread(i)\n",
        "    # image = cv2.cvtColor(image, cv2.COLOR_BGR2GRAY)\n",
        "    images.append([image, x])\n",
        "  x += 1\"\"\""
      ],
      "metadata": {
        "colab": {
          "base_uri": "https://localhost:8080/",
          "height": 74
        },
        "id": "iP2uAPtfZCMA",
        "outputId": "b04b93ad-2378-4b32-c2de-f05ab653bd37"
      },
      "execution_count": null,
      "outputs": [
        {
          "output_type": "execute_result",
          "data": {
            "text/plain": [
              "'for letter in alphabets:\\n  image_paths_dyx = glob.glob(f\"/content/drive/My Drive/TrainDyslexic20/\" + letter + \"*.png\")\\n  for i in image_paths_dyx:\\n    image = cv2.imread(i)\\n    # image = cv2.cvtColor(image, cv2.COLOR_BGR2GRAY)\\n    images.append([image, x])\\n  x += 1'"
            ],
            "application/vnd.google.colaboratory.intrinsic+json": {
              "type": "string"
            }
          },
          "metadata": {},
          "execution_count": 50
        }
      ]
    },
    {
      "cell_type": "code",
      "execution_count": null,
      "metadata": {
        "id": "12RcCSINCmqE"
      },
      "outputs": [],
      "source": [
        "x = 26\n",
        "image_paths_dyx = glob.glob(f\"/content/drive/My Drive/TrainDyslexic20/*.png\")\n",
        "for i in image_paths_dyx:\n",
        "  image = cv2.imread(i)\n",
        "  image = cv2.cvtColor(image, cv2.COLOR_BGR2GRAY)\n",
        "  images.append([image, x])"
      ]
    },
    {
      "cell_type": "code",
      "execution_count": null,
      "metadata": {
        "id": "Lo3DywB9w-ey"
      },
      "outputs": [],
      "source": [
        "import pandas as pd\n",
        "import numpy as np"
      ]
    },
    {
      "cell_type": "code",
      "execution_count": null,
      "metadata": {
        "id": "seaDU1v1xDEX"
      },
      "outputs": [],
      "source": [
        "df = pd.DataFrame(images)"
      ]
    },
    {
      "cell_type": "code",
      "execution_count": null,
      "metadata": {
        "colab": {
          "base_uri": "https://localhost:8080/"
        },
        "id": "eu0VLLQr2asn",
        "outputId": "e9a85baa-753c-4baf-f594-035e823618ba"
      },
      "outputs": [
        {
          "output_type": "stream",
          "name": "stdout",
          "text": [
            "<class 'pandas.core.frame.DataFrame'>\n",
            "RangeIndex: 1042 entries, 0 to 1041\n",
            "Data columns (total 2 columns):\n",
            " #   Column  Non-Null Count  Dtype \n",
            "---  ------  --------------  ----- \n",
            " 0   0       1042 non-null   object\n",
            " 1   1       1042 non-null   int64 \n",
            "dtypes: int64(1), object(1)\n",
            "memory usage: 16.4+ KB\n"
          ]
        }
      ],
      "source": [
        "df.info()"
      ]
    },
    {
      "cell_type": "code",
      "execution_count": null,
      "metadata": {
        "colab": {
          "base_uri": "https://localhost:8080/"
        },
        "id": "KYPfZrQY2g5o",
        "outputId": "cc24ffff-c506-403f-8555-2173c8dff37d"
      },
      "outputs": [
        {
          "output_type": "execute_result",
          "data": {
            "text/plain": [
              "(1042, 2)"
            ]
          },
          "metadata": {},
          "execution_count": 55
        }
      ],
      "source": [
        "df.shape"
      ]
    },
    {
      "cell_type": "code",
      "execution_count": null,
      "metadata": {
        "colab": {
          "base_uri": "https://localhost:8080/",
          "height": 423
        },
        "id": "7ZNCo91hA47s",
        "outputId": "b3d95583-2600-4c2a-b61d-f288652d34bd"
      },
      "outputs": [
        {
          "output_type": "execute_result",
          "data": {
            "text/plain": [
              "                                                      0   1\n",
              "0     [[0, 0, 0, 0, 0, 0, 0, 0, 0, 0, 0, 0, 0, 0, 0,...   0\n",
              "1     [[0, 0, 0, 0, 0, 0, 0, 0, 0, 0, 0, 0, 0, 0, 0,...   0\n",
              "2     [[0, 0, 0, 0, 0, 0, 0, 0, 0, 0, 0, 0, 0, 0, 0,...   0\n",
              "3     [[0, 0, 0, 0, 0, 0, 0, 0, 0, 0, 0, 0, 0, 0, 0,...   0\n",
              "4     [[0, 0, 0, 0, 0, 0, 0, 0, 0, 0, 0, 0, 0, 0, 0,...   0\n",
              "...                                                 ...  ..\n",
              "1037  [[0, 0, 0, 0, 0, 0, 0, 0, 0, 0, 0, 0, 0, 0, 0,...  26\n",
              "1038  [[0, 0, 0, 0, 0, 0, 0, 0, 0, 0, 0, 0, 0, 0, 0,...  26\n",
              "1039  [[0, 0, 0, 0, 0, 0, 0, 0, 0, 0, 0, 0, 0, 0, 0,...  26\n",
              "1040  [[0, 0, 0, 0, 0, 0, 0, 0, 0, 0, 0, 0, 0, 0, 0,...  26\n",
              "1041  [[0, 0, 0, 0, 0, 0, 0, 0, 0, 0, 0, 0, 0, 0, 0,...  26\n",
              "\n",
              "[1042 rows x 2 columns]"
            ],
            "text/html": [
              "\n",
              "  <div id=\"df-fba6be5d-c975-468b-9560-8393ebb42a69\">\n",
              "    <div class=\"colab-df-container\">\n",
              "      <div>\n",
              "<style scoped>\n",
              "    .dataframe tbody tr th:only-of-type {\n",
              "        vertical-align: middle;\n",
              "    }\n",
              "\n",
              "    .dataframe tbody tr th {\n",
              "        vertical-align: top;\n",
              "    }\n",
              "\n",
              "    .dataframe thead th {\n",
              "        text-align: right;\n",
              "    }\n",
              "</style>\n",
              "<table border=\"1\" class=\"dataframe\">\n",
              "  <thead>\n",
              "    <tr style=\"text-align: right;\">\n",
              "      <th></th>\n",
              "      <th>0</th>\n",
              "      <th>1</th>\n",
              "    </tr>\n",
              "  </thead>\n",
              "  <tbody>\n",
              "    <tr>\n",
              "      <th>0</th>\n",
              "      <td>[[0, 0, 0, 0, 0, 0, 0, 0, 0, 0, 0, 0, 0, 0, 0,...</td>\n",
              "      <td>0</td>\n",
              "    </tr>\n",
              "    <tr>\n",
              "      <th>1</th>\n",
              "      <td>[[0, 0, 0, 0, 0, 0, 0, 0, 0, 0, 0, 0, 0, 0, 0,...</td>\n",
              "      <td>0</td>\n",
              "    </tr>\n",
              "    <tr>\n",
              "      <th>2</th>\n",
              "      <td>[[0, 0, 0, 0, 0, 0, 0, 0, 0, 0, 0, 0, 0, 0, 0,...</td>\n",
              "      <td>0</td>\n",
              "    </tr>\n",
              "    <tr>\n",
              "      <th>3</th>\n",
              "      <td>[[0, 0, 0, 0, 0, 0, 0, 0, 0, 0, 0, 0, 0, 0, 0,...</td>\n",
              "      <td>0</td>\n",
              "    </tr>\n",
              "    <tr>\n",
              "      <th>4</th>\n",
              "      <td>[[0, 0, 0, 0, 0, 0, 0, 0, 0, 0, 0, 0, 0, 0, 0,...</td>\n",
              "      <td>0</td>\n",
              "    </tr>\n",
              "    <tr>\n",
              "      <th>...</th>\n",
              "      <td>...</td>\n",
              "      <td>...</td>\n",
              "    </tr>\n",
              "    <tr>\n",
              "      <th>1037</th>\n",
              "      <td>[[0, 0, 0, 0, 0, 0, 0, 0, 0, 0, 0, 0, 0, 0, 0,...</td>\n",
              "      <td>26</td>\n",
              "    </tr>\n",
              "    <tr>\n",
              "      <th>1038</th>\n",
              "      <td>[[0, 0, 0, 0, 0, 0, 0, 0, 0, 0, 0, 0, 0, 0, 0,...</td>\n",
              "      <td>26</td>\n",
              "    </tr>\n",
              "    <tr>\n",
              "      <th>1039</th>\n",
              "      <td>[[0, 0, 0, 0, 0, 0, 0, 0, 0, 0, 0, 0, 0, 0, 0,...</td>\n",
              "      <td>26</td>\n",
              "    </tr>\n",
              "    <tr>\n",
              "      <th>1040</th>\n",
              "      <td>[[0, 0, 0, 0, 0, 0, 0, 0, 0, 0, 0, 0, 0, 0, 0,...</td>\n",
              "      <td>26</td>\n",
              "    </tr>\n",
              "    <tr>\n",
              "      <th>1041</th>\n",
              "      <td>[[0, 0, 0, 0, 0, 0, 0, 0, 0, 0, 0, 0, 0, 0, 0,...</td>\n",
              "      <td>26</td>\n",
              "    </tr>\n",
              "  </tbody>\n",
              "</table>\n",
              "<p>1042 rows × 2 columns</p>\n",
              "</div>\n",
              "      <button class=\"colab-df-convert\" onclick=\"convertToInteractive('df-fba6be5d-c975-468b-9560-8393ebb42a69')\"\n",
              "              title=\"Convert this dataframe to an interactive table.\"\n",
              "              style=\"display:none;\">\n",
              "        \n",
              "  <svg xmlns=\"http://www.w3.org/2000/svg\" height=\"24px\"viewBox=\"0 0 24 24\"\n",
              "       width=\"24px\">\n",
              "    <path d=\"M0 0h24v24H0V0z\" fill=\"none\"/>\n",
              "    <path d=\"M18.56 5.44l.94 2.06.94-2.06 2.06-.94-2.06-.94-.94-2.06-.94 2.06-2.06.94zm-11 1L8.5 8.5l.94-2.06 2.06-.94-2.06-.94L8.5 2.5l-.94 2.06-2.06.94zm10 10l.94 2.06.94-2.06 2.06-.94-2.06-.94-.94-2.06-.94 2.06-2.06.94z\"/><path d=\"M17.41 7.96l-1.37-1.37c-.4-.4-.92-.59-1.43-.59-.52 0-1.04.2-1.43.59L10.3 9.45l-7.72 7.72c-.78.78-.78 2.05 0 2.83L4 21.41c.39.39.9.59 1.41.59.51 0 1.02-.2 1.41-.59l7.78-7.78 2.81-2.81c.8-.78.8-2.07 0-2.86zM5.41 20L4 18.59l7.72-7.72 1.47 1.35L5.41 20z\"/>\n",
              "  </svg>\n",
              "      </button>\n",
              "      \n",
              "  <style>\n",
              "    .colab-df-container {\n",
              "      display:flex;\n",
              "      flex-wrap:wrap;\n",
              "      gap: 12px;\n",
              "    }\n",
              "\n",
              "    .colab-df-convert {\n",
              "      background-color: #E8F0FE;\n",
              "      border: none;\n",
              "      border-radius: 50%;\n",
              "      cursor: pointer;\n",
              "      display: none;\n",
              "      fill: #1967D2;\n",
              "      height: 32px;\n",
              "      padding: 0 0 0 0;\n",
              "      width: 32px;\n",
              "    }\n",
              "\n",
              "    .colab-df-convert:hover {\n",
              "      background-color: #E2EBFA;\n",
              "      box-shadow: 0px 1px 2px rgba(60, 64, 67, 0.3), 0px 1px 3px 1px rgba(60, 64, 67, 0.15);\n",
              "      fill: #174EA6;\n",
              "    }\n",
              "\n",
              "    [theme=dark] .colab-df-convert {\n",
              "      background-color: #3B4455;\n",
              "      fill: #D2E3FC;\n",
              "    }\n",
              "\n",
              "    [theme=dark] .colab-df-convert:hover {\n",
              "      background-color: #434B5C;\n",
              "      box-shadow: 0px 1px 3px 1px rgba(0, 0, 0, 0.15);\n",
              "      filter: drop-shadow(0px 1px 2px rgba(0, 0, 0, 0.3));\n",
              "      fill: #FFFFFF;\n",
              "    }\n",
              "  </style>\n",
              "\n",
              "      <script>\n",
              "        const buttonEl =\n",
              "          document.querySelector('#df-fba6be5d-c975-468b-9560-8393ebb42a69 button.colab-df-convert');\n",
              "        buttonEl.style.display =\n",
              "          google.colab.kernel.accessAllowed ? 'block' : 'none';\n",
              "\n",
              "        async function convertToInteractive(key) {\n",
              "          const element = document.querySelector('#df-fba6be5d-c975-468b-9560-8393ebb42a69');\n",
              "          const dataTable =\n",
              "            await google.colab.kernel.invokeFunction('convertToInteractive',\n",
              "                                                     [key], {});\n",
              "          if (!dataTable) return;\n",
              "\n",
              "          const docLinkHtml = 'Like what you see? Visit the ' +\n",
              "            '<a target=\"_blank\" href=https://colab.research.google.com/notebooks/data_table.ipynb>data table notebook</a>'\n",
              "            + ' to learn more about interactive tables.';\n",
              "          element.innerHTML = '';\n",
              "          dataTable['output_type'] = 'display_data';\n",
              "          await google.colab.output.renderOutput(dataTable, element);\n",
              "          const docLink = document.createElement('div');\n",
              "          docLink.innerHTML = docLinkHtml;\n",
              "          element.appendChild(docLink);\n",
              "        }\n",
              "      </script>\n",
              "    </div>\n",
              "  </div>\n",
              "  "
            ]
          },
          "metadata": {},
          "execution_count": 56
        }
      ],
      "source": [
        "df"
      ]
    },
    {
      "cell_type": "code",
      "execution_count": null,
      "metadata": {
        "id": "WwWOrYxPAxiM"
      },
      "outputs": [],
      "source": [
        "df.rename(columns = {0:'Character', 1:'Class'}, inplace = True)"
      ]
    },
    {
      "cell_type": "code",
      "execution_count": null,
      "metadata": {
        "colab": {
          "base_uri": "https://localhost:8080/"
        },
        "id": "eFTOyW3hA5Bw",
        "outputId": "c8553266-1341-4ad5-834f-7103e71df8aa"
      },
      "outputs": [
        {
          "output_type": "execute_result",
          "data": {
            "text/plain": [
              "Index(['Character', 'Class'], dtype='object')"
            ]
          },
          "metadata": {},
          "execution_count": 58
        }
      ],
      "source": [
        "df.columns"
      ]
    },
    {
      "cell_type": "code",
      "execution_count": null,
      "metadata": {
        "id": "M7uM1_xzBJgJ"
      },
      "outputs": [],
      "source": [
        "df = df.sample(frac=1)"
      ]
    },
    {
      "cell_type": "code",
      "execution_count": null,
      "metadata": {
        "id": "zeqb1rTuHlW3"
      },
      "outputs": [],
      "source": [
        "def zeroPadTill(image, r, c):\n",
        "  ri, ci = image.shape\n",
        "  # ri, ci, x = image.shape\n",
        "  pad_rows = r-ri\n",
        "  pad_cols = c-ci\n",
        "  image = cv2.copyMakeBorder(image, pad_rows, 0, pad_cols, 0, cv2.BORDER_CONSTANT)\n",
        "  return image"
      ]
    },
    {
      "cell_type": "code",
      "execution_count": null,
      "metadata": {
        "id": "26p_6se7HZ88"
      },
      "outputs": [],
      "source": [
        "data = []\n",
        "for image in df['Character']:\n",
        "  image = zeroPadTill(image, 32, 32)\n",
        "  data.append(image)\n",
        "data = np.array(data)"
      ]
    },
    {
      "cell_type": "code",
      "source": [
        "for i in range(data.shape[0]):\n",
        "  #print(data[i].shape)\n",
        "  if(data[i].shape[0] != 32 or data[i].shape[1] != 32):\n",
        "    print(i)"
      ],
      "metadata": {
        "id": "3G9rJXmQnUQr"
      },
      "execution_count": null,
      "outputs": []
    },
    {
      "cell_type": "code",
      "source": [
        "labels = df['Class'].to_numpy()"
      ],
      "metadata": {
        "id": "LqpQUGXynjT5"
      },
      "execution_count": null,
      "outputs": []
    },
    {
      "cell_type": "markdown",
      "source": [],
      "metadata": {
        "id": "f7Gp4_YiZW5A"
      }
    },
    {
      "cell_type": "code",
      "source": [
        "from tensorflow.keras.models import Sequential\n",
        "from tensorflow.keras.layers import Dense\n",
        "from tensorflow.keras.layers import Dropout\n",
        "from tensorflow.keras.utils import to_categorical\n",
        "from tensorflow.keras.layers import Flatten\n",
        "from tensorflow.keras.layers import Conv2D\n",
        "from tensorflow.keras.layers import MaxPooling2D\n",
        "import matplotlib.pyplot as plt\n",
        "import seaborn as sns\n",
        "from sklearn.model_selection import train_test_split\n",
        "\n",
        "import keras\n",
        "from keras.models import Sequential\n",
        "from keras.layers import Dense, Conv2D, MaxPool2D, Flatten , Dropout\n",
        "from keras.preprocessing.image import ImageDataGenerator\n",
        "from keras.optimizers import Adam\n",
        "\n",
        "from sklearn.metrics import classification_report,confusion_matrix\n",
        "\n",
        "import tensorflow as tf\n",
        "\n",
        "import cv2\n",
        "import os\n",
        "\n",
        "import numpy as np"
      ],
      "metadata": {
        "id": "vgeULZdDZXKh"
      },
      "execution_count": null,
      "outputs": []
    },
    {
      "cell_type": "code",
      "source": [
        "x_train, x_test, y_train, y_test = train_test_split(data, labels, test_size=0.3,random_state =42)"
      ],
      "metadata": {
        "id": "s5yVGHhXnjYN"
      },
      "execution_count": null,
      "outputs": []
    },
    {
      "cell_type": "code",
      "source": [
        "type(x_train)"
      ],
      "metadata": {
        "id": "qqefX54DiCrq",
        "colab": {
          "base_uri": "https://localhost:8080/"
        },
        "outputId": "26dceff5-ba83-4c46-b1bb-c33d112923c0"
      },
      "execution_count": null,
      "outputs": [
        {
          "output_type": "execute_result",
          "data": {
            "text/plain": [
              "numpy.ndarray"
            ]
          },
          "metadata": {},
          "execution_count": 66
        }
      ]
    },
    {
      "cell_type": "code",
      "source": [
        "x_train = x_train.reshape((x_train.shape[0], 32, 32, 1)).astype('float32')\n",
        "x_test = x_test.reshape((x_test.shape[0], 32, 32, 1)).astype('float32')"
      ],
      "metadata": {
        "id": "gzl6g3jKh7Or"
      },
      "execution_count": null,
      "outputs": []
    },
    {
      "cell_type": "code",
      "source": [
        "x_train = np.array(x_train) / 255\n",
        "x_test = np.array(x_test) / 255"
      ],
      "metadata": {
        "id": "6O_5wC5Kn1-4"
      },
      "execution_count": null,
      "outputs": []
    },
    {
      "cell_type": "code",
      "source": [
        "img_size = 32"
      ],
      "metadata": {
        "id": "RwW81Skwn2CB"
      },
      "execution_count": null,
      "outputs": []
    },
    {
      "cell_type": "code",
      "source": [
        "y_test_df = y_test.copy()"
      ],
      "metadata": {
        "id": "6KVL8A3gsVCP"
      },
      "execution_count": null,
      "outputs": []
    },
    {
      "cell_type": "code",
      "source": [
        "y_train = np.array(y_train)\n",
        "y_test = np.array(y_test)"
      ],
      "metadata": {
        "id": "MCLcaq80n2E6"
      },
      "execution_count": null,
      "outputs": []
    },
    {
      "cell_type": "code",
      "source": [
        "y_train = to_categorical(y_train)\n",
        "y_test = to_categorical(y_test)"
      ],
      "metadata": {
        "id": "LqT-SyTtotSa"
      },
      "execution_count": null,
      "outputs": []
    },
    {
      "cell_type": "code",
      "source": [
        "num_classes = df[\"Class\"].unique().size\n",
        "num_classes"
      ],
      "metadata": {
        "id": "lR4FYpvWpX_O",
        "colab": {
          "base_uri": "https://localhost:8080/"
        },
        "outputId": "2f324bd6-6130-4aa3-eb0c-b38566041161"
      },
      "execution_count": null,
      "outputs": [
        {
          "output_type": "execute_result",
          "data": {
            "text/plain": [
              "27"
            ]
          },
          "metadata": {},
          "execution_count": 73
        }
      ]
    },
    {
      "cell_type": "code",
      "source": [
        "df[\"Class\"].value_counts()"
      ],
      "metadata": {
        "colab": {
          "base_uri": "https://localhost:8080/"
        },
        "id": "BbA7jId_qgQx",
        "outputId": "f57df05a-5370-4d8a-ba29-11c6e1a47695"
      },
      "execution_count": null,
      "outputs": [
        {
          "output_type": "execute_result",
          "data": {
            "text/plain": [
              "26    522\n",
              "8      22\n",
              "13     20\n",
              "2      20\n",
              "5      20\n",
              "25     20\n",
              "17     20\n",
              "14     20\n",
              "24     20\n",
              "4      20\n",
              "3      20\n",
              "9      20\n",
              "22     20\n",
              "23     20\n",
              "1      20\n",
              "6      20\n",
              "7      20\n",
              "10     20\n",
              "18     20\n",
              "20     20\n",
              "21     20\n",
              "15     20\n",
              "19     20\n",
              "12     20\n",
              "16     20\n",
              "0      20\n",
              "11     18\n",
              "Name: Class, dtype: int64"
            ]
          },
          "metadata": {},
          "execution_count": 74
        }
      ]
    },
    {
      "cell_type": "code",
      "source": [
        "df"
      ],
      "metadata": {
        "colab": {
          "base_uri": "https://localhost:8080/",
          "height": 423
        },
        "id": "FZe0CV2Kqrt7",
        "outputId": "2b9ba8eb-b57b-4b6c-8ae9-74f5ba3c294f"
      },
      "execution_count": null,
      "outputs": [
        {
          "output_type": "execute_result",
          "data": {
            "text/plain": [
              "                                             Character  Class\n",
              "784  [[0, 0, 0, 0, 0, 0, 0, 0, 0, 0, 0, 0, 0, 0, 0,...     26\n",
              "563  [[0, 0, 0, 0, 0, 0, 0, 0, 0, 0, 0, 0, 0, 0, 0,...     26\n",
              "22   [[0, 0, 0, 0, 0, 0, 0, 0, 0, 0, 0, 0, 0, 0, 0,...      1\n",
              "842  [[0, 0, 0, 0, 0, 0, 0, 0, 0, 0, 0, 0, 0, 0, 0,...     26\n",
              "337  [[0, 0, 0, 0, 0, 0, 0, 0, 0, 0, 0, 0, 0, 0, 0,...     16\n",
              "..                                                 ...    ...\n",
              "10   [[0, 0, 0, 0, 0, 0, 0, 0, 0, 0, 0, 0, 0, 0, 0,...      0\n",
              "896  [[0, 0, 0, 0, 0, 0, 0, 0, 0, 0, 0, 0, 0, 0, 0,...     26\n",
              "975  [[0, 0, 0, 0, 0, 0, 0, 0, 0, 0, 0, 0, 0, 0, 0,...     26\n",
              "0    [[0, 0, 0, 0, 0, 0, 0, 0, 0, 0, 0, 0, 0, 0, 0,...      0\n",
              "172  [[0, 0, 0, 0, 0, 0, 0, 0, 0, 0, 0, 0, 0, 0, 0,...      8\n",
              "\n",
              "[1042 rows x 2 columns]"
            ],
            "text/html": [
              "\n",
              "  <div id=\"df-de6a4ace-a9b2-4a6a-bc50-a46b3bcdd9e7\">\n",
              "    <div class=\"colab-df-container\">\n",
              "      <div>\n",
              "<style scoped>\n",
              "    .dataframe tbody tr th:only-of-type {\n",
              "        vertical-align: middle;\n",
              "    }\n",
              "\n",
              "    .dataframe tbody tr th {\n",
              "        vertical-align: top;\n",
              "    }\n",
              "\n",
              "    .dataframe thead th {\n",
              "        text-align: right;\n",
              "    }\n",
              "</style>\n",
              "<table border=\"1\" class=\"dataframe\">\n",
              "  <thead>\n",
              "    <tr style=\"text-align: right;\">\n",
              "      <th></th>\n",
              "      <th>Character</th>\n",
              "      <th>Class</th>\n",
              "    </tr>\n",
              "  </thead>\n",
              "  <tbody>\n",
              "    <tr>\n",
              "      <th>784</th>\n",
              "      <td>[[0, 0, 0, 0, 0, 0, 0, 0, 0, 0, 0, 0, 0, 0, 0,...</td>\n",
              "      <td>26</td>\n",
              "    </tr>\n",
              "    <tr>\n",
              "      <th>563</th>\n",
              "      <td>[[0, 0, 0, 0, 0, 0, 0, 0, 0, 0, 0, 0, 0, 0, 0,...</td>\n",
              "      <td>26</td>\n",
              "    </tr>\n",
              "    <tr>\n",
              "      <th>22</th>\n",
              "      <td>[[0, 0, 0, 0, 0, 0, 0, 0, 0, 0, 0, 0, 0, 0, 0,...</td>\n",
              "      <td>1</td>\n",
              "    </tr>\n",
              "    <tr>\n",
              "      <th>842</th>\n",
              "      <td>[[0, 0, 0, 0, 0, 0, 0, 0, 0, 0, 0, 0, 0, 0, 0,...</td>\n",
              "      <td>26</td>\n",
              "    </tr>\n",
              "    <tr>\n",
              "      <th>337</th>\n",
              "      <td>[[0, 0, 0, 0, 0, 0, 0, 0, 0, 0, 0, 0, 0, 0, 0,...</td>\n",
              "      <td>16</td>\n",
              "    </tr>\n",
              "    <tr>\n",
              "      <th>...</th>\n",
              "      <td>...</td>\n",
              "      <td>...</td>\n",
              "    </tr>\n",
              "    <tr>\n",
              "      <th>10</th>\n",
              "      <td>[[0, 0, 0, 0, 0, 0, 0, 0, 0, 0, 0, 0, 0, 0, 0,...</td>\n",
              "      <td>0</td>\n",
              "    </tr>\n",
              "    <tr>\n",
              "      <th>896</th>\n",
              "      <td>[[0, 0, 0, 0, 0, 0, 0, 0, 0, 0, 0, 0, 0, 0, 0,...</td>\n",
              "      <td>26</td>\n",
              "    </tr>\n",
              "    <tr>\n",
              "      <th>975</th>\n",
              "      <td>[[0, 0, 0, 0, 0, 0, 0, 0, 0, 0, 0, 0, 0, 0, 0,...</td>\n",
              "      <td>26</td>\n",
              "    </tr>\n",
              "    <tr>\n",
              "      <th>0</th>\n",
              "      <td>[[0, 0, 0, 0, 0, 0, 0, 0, 0, 0, 0, 0, 0, 0, 0,...</td>\n",
              "      <td>0</td>\n",
              "    </tr>\n",
              "    <tr>\n",
              "      <th>172</th>\n",
              "      <td>[[0, 0, 0, 0, 0, 0, 0, 0, 0, 0, 0, 0, 0, 0, 0,...</td>\n",
              "      <td>8</td>\n",
              "    </tr>\n",
              "  </tbody>\n",
              "</table>\n",
              "<p>1042 rows × 2 columns</p>\n",
              "</div>\n",
              "      <button class=\"colab-df-convert\" onclick=\"convertToInteractive('df-de6a4ace-a9b2-4a6a-bc50-a46b3bcdd9e7')\"\n",
              "              title=\"Convert this dataframe to an interactive table.\"\n",
              "              style=\"display:none;\">\n",
              "        \n",
              "  <svg xmlns=\"http://www.w3.org/2000/svg\" height=\"24px\"viewBox=\"0 0 24 24\"\n",
              "       width=\"24px\">\n",
              "    <path d=\"M0 0h24v24H0V0z\" fill=\"none\"/>\n",
              "    <path d=\"M18.56 5.44l.94 2.06.94-2.06 2.06-.94-2.06-.94-.94-2.06-.94 2.06-2.06.94zm-11 1L8.5 8.5l.94-2.06 2.06-.94-2.06-.94L8.5 2.5l-.94 2.06-2.06.94zm10 10l.94 2.06.94-2.06 2.06-.94-2.06-.94-.94-2.06-.94 2.06-2.06.94z\"/><path d=\"M17.41 7.96l-1.37-1.37c-.4-.4-.92-.59-1.43-.59-.52 0-1.04.2-1.43.59L10.3 9.45l-7.72 7.72c-.78.78-.78 2.05 0 2.83L4 21.41c.39.39.9.59 1.41.59.51 0 1.02-.2 1.41-.59l7.78-7.78 2.81-2.81c.8-.78.8-2.07 0-2.86zM5.41 20L4 18.59l7.72-7.72 1.47 1.35L5.41 20z\"/>\n",
              "  </svg>\n",
              "      </button>\n",
              "      \n",
              "  <style>\n",
              "    .colab-df-container {\n",
              "      display:flex;\n",
              "      flex-wrap:wrap;\n",
              "      gap: 12px;\n",
              "    }\n",
              "\n",
              "    .colab-df-convert {\n",
              "      background-color: #E8F0FE;\n",
              "      border: none;\n",
              "      border-radius: 50%;\n",
              "      cursor: pointer;\n",
              "      display: none;\n",
              "      fill: #1967D2;\n",
              "      height: 32px;\n",
              "      padding: 0 0 0 0;\n",
              "      width: 32px;\n",
              "    }\n",
              "\n",
              "    .colab-df-convert:hover {\n",
              "      background-color: #E2EBFA;\n",
              "      box-shadow: 0px 1px 2px rgba(60, 64, 67, 0.3), 0px 1px 3px 1px rgba(60, 64, 67, 0.15);\n",
              "      fill: #174EA6;\n",
              "    }\n",
              "\n",
              "    [theme=dark] .colab-df-convert {\n",
              "      background-color: #3B4455;\n",
              "      fill: #D2E3FC;\n",
              "    }\n",
              "\n",
              "    [theme=dark] .colab-df-convert:hover {\n",
              "      background-color: #434B5C;\n",
              "      box-shadow: 0px 1px 3px 1px rgba(0, 0, 0, 0.15);\n",
              "      filter: drop-shadow(0px 1px 2px rgba(0, 0, 0, 0.3));\n",
              "      fill: #FFFFFF;\n",
              "    }\n",
              "  </style>\n",
              "\n",
              "      <script>\n",
              "        const buttonEl =\n",
              "          document.querySelector('#df-de6a4ace-a9b2-4a6a-bc50-a46b3bcdd9e7 button.colab-df-convert');\n",
              "        buttonEl.style.display =\n",
              "          google.colab.kernel.accessAllowed ? 'block' : 'none';\n",
              "\n",
              "        async function convertToInteractive(key) {\n",
              "          const element = document.querySelector('#df-de6a4ace-a9b2-4a6a-bc50-a46b3bcdd9e7');\n",
              "          const dataTable =\n",
              "            await google.colab.kernel.invokeFunction('convertToInteractive',\n",
              "                                                     [key], {});\n",
              "          if (!dataTable) return;\n",
              "\n",
              "          const docLinkHtml = 'Like what you see? Visit the ' +\n",
              "            '<a target=\"_blank\" href=https://colab.research.google.com/notebooks/data_table.ipynb>data table notebook</a>'\n",
              "            + ' to learn more about interactive tables.';\n",
              "          element.innerHTML = '';\n",
              "          dataTable['output_type'] = 'display_data';\n",
              "          await google.colab.output.renderOutput(dataTable, element);\n",
              "          const docLink = document.createElement('div');\n",
              "          docLink.innerHTML = docLinkHtml;\n",
              "          element.appendChild(docLink);\n",
              "        }\n",
              "      </script>\n",
              "    </div>\n",
              "  </div>\n",
              "  "
            ]
          },
          "metadata": {},
          "execution_count": 75
        }
      ]
    },
    {
      "cell_type": "code",
      "source": [
        "def baseline_model():\n",
        "\t# create model\n",
        "\tmodel = Sequential()\n",
        "\tmodel.add(Conv2D(32, (5, 5), input_shape=(32, 32, 1), activation='relu'))\n",
        "\tmodel.add(MaxPooling2D(pool_size=(2, 2)))\n",
        "\tmodel.add(Dropout(0.2))\n",
        "\tmodel.add(Flatten())\n",
        "\tmodel.add(Dense(128, activation='relu'))\n",
        "\tmodel.add(Dense(num_classes, activation='softmax'))\n",
        "\t# Compile model\n",
        "\tmodel.compile(loss='categorical_crossentropy', optimizer='adam', metrics=['accuracy'])\n",
        "\treturn model"
      ],
      "metadata": {
        "id": "_S449PmRhWvv"
      },
      "execution_count": null,
      "outputs": []
    },
    {
      "cell_type": "code",
      "source": [
        "# build the model\n",
        "model = baseline_model()\n",
        "print(model.summary())\n",
        "# Fit the model\n",
        "history = model.fit(x_train, y_train, validation_data=(x_test, y_test), epochs=500, batch_size=200, verbose=2)\n",
        "# Final evaluation of the model\n",
        "scores = model.evaluate(x_test, y_test, verbose=0)\n",
        "print(\"CNN Error: %.2f%%\" % (100-scores[1]*100))"
      ],
      "metadata": {
        "colab": {
          "base_uri": "https://localhost:8080/"
        },
        "id": "u9zdfN7qhYrr",
        "outputId": "a6ca0502-f642-472c-a76a-7a76c4c33891"
      },
      "execution_count": null,
      "outputs": [
        {
          "output_type": "stream",
          "name": "stdout",
          "text": [
            "Model: \"sequential_1\"\n",
            "_________________________________________________________________\n",
            " Layer (type)                Output Shape              Param #   \n",
            "=================================================================\n",
            " conv2d_1 (Conv2D)           (None, 28, 28, 32)        832       \n",
            "                                                                 \n",
            " max_pooling2d_1 (MaxPooling  (None, 14, 14, 32)       0         \n",
            " 2D)                                                             \n",
            "                                                                 \n",
            " dropout_1 (Dropout)         (None, 14, 14, 32)        0         \n",
            "                                                                 \n",
            " flatten_1 (Flatten)         (None, 6272)              0         \n",
            "                                                                 \n",
            " dense_2 (Dense)             (None, 128)               802944    \n",
            "                                                                 \n",
            " dense_3 (Dense)             (None, 27)                3483      \n",
            "                                                                 \n",
            "=================================================================\n",
            "Total params: 807,259\n",
            "Trainable params: 807,259\n",
            "Non-trainable params: 0\n",
            "_________________________________________________________________\n",
            "None\n",
            "Epoch 1/500\n",
            "4/4 - 1s - loss: 2.6360 - accuracy: 0.3800 - val_loss: 2.1967 - val_accuracy: 0.5240 - 1s/epoch - 339ms/step\n",
            "Epoch 2/500\n",
            "4/4 - 1s - loss: 2.1587 - accuracy: 0.4911 - val_loss: 1.9824 - val_accuracy: 0.5240 - 615ms/epoch - 154ms/step\n",
            "Epoch 3/500\n",
            "4/4 - 1s - loss: 1.9643 - accuracy: 0.4911 - val_loss: 1.7779 - val_accuracy: 0.5240 - 596ms/epoch - 149ms/step\n",
            "Epoch 4/500\n",
            "4/4 - 1s - loss: 1.7650 - accuracy: 0.4911 - val_loss: 1.6937 - val_accuracy: 0.5240 - 617ms/epoch - 154ms/step\n",
            "Epoch 5/500\n",
            "4/4 - 1s - loss: 1.6485 - accuracy: 0.4952 - val_loss: 1.5388 - val_accuracy: 0.5367 - 597ms/epoch - 149ms/step\n",
            "Epoch 6/500\n",
            "4/4 - 1s - loss: 1.4873 - accuracy: 0.5514 - val_loss: 1.4376 - val_accuracy: 0.6134 - 589ms/epoch - 147ms/step\n",
            "Epoch 7/500\n",
            "4/4 - 1s - loss: 1.3482 - accuracy: 0.6255 - val_loss: 1.3073 - val_accuracy: 0.6198 - 608ms/epoch - 152ms/step\n",
            "Epoch 8/500\n",
            "4/4 - 1s - loss: 1.1950 - accuracy: 0.6392 - val_loss: 1.1886 - val_accuracy: 0.6613 - 607ms/epoch - 152ms/step\n",
            "Epoch 9/500\n",
            "4/4 - 1s - loss: 1.0403 - accuracy: 0.7311 - val_loss: 1.0775 - val_accuracy: 0.6965 - 608ms/epoch - 152ms/step\n",
            "Epoch 10/500\n",
            "4/4 - 1s - loss: 0.8881 - accuracy: 0.7668 - val_loss: 0.9642 - val_accuracy: 0.7284 - 604ms/epoch - 151ms/step\n",
            "Epoch 11/500\n",
            "4/4 - 1s - loss: 0.7445 - accuracy: 0.8066 - val_loss: 0.8516 - val_accuracy: 0.7476 - 604ms/epoch - 151ms/step\n",
            "Epoch 12/500\n",
            "4/4 - 1s - loss: 0.6199 - accuracy: 0.8573 - val_loss: 0.7570 - val_accuracy: 0.7732 - 605ms/epoch - 151ms/step\n",
            "Epoch 13/500\n",
            "4/4 - 1s - loss: 0.5088 - accuracy: 0.8711 - val_loss: 0.6888 - val_accuracy: 0.7859 - 603ms/epoch - 151ms/step\n",
            "Epoch 14/500\n",
            "4/4 - 1s - loss: 0.4276 - accuracy: 0.9067 - val_loss: 0.6231 - val_accuracy: 0.8179 - 628ms/epoch - 157ms/step\n",
            "Epoch 15/500\n",
            "4/4 - 1s - loss: 0.3573 - accuracy: 0.9136 - val_loss: 0.5865 - val_accuracy: 0.8147 - 634ms/epoch - 158ms/step\n",
            "Epoch 16/500\n",
            "4/4 - 1s - loss: 0.3087 - accuracy: 0.9246 - val_loss: 0.5600 - val_accuracy: 0.8275 - 600ms/epoch - 150ms/step\n",
            "Epoch 17/500\n",
            "4/4 - 1s - loss: 0.2628 - accuracy: 0.9355 - val_loss: 0.5241 - val_accuracy: 0.8466 - 618ms/epoch - 154ms/step\n",
            "Epoch 18/500\n",
            "4/4 - 1s - loss: 0.2214 - accuracy: 0.9534 - val_loss: 0.5144 - val_accuracy: 0.8371 - 599ms/epoch - 150ms/step\n",
            "Epoch 19/500\n",
            "4/4 - 1s - loss: 0.1942 - accuracy: 0.9602 - val_loss: 0.4970 - val_accuracy: 0.8466 - 609ms/epoch - 152ms/step\n",
            "Epoch 20/500\n",
            "4/4 - 1s - loss: 0.1683 - accuracy: 0.9671 - val_loss: 0.4776 - val_accuracy: 0.8562 - 634ms/epoch - 158ms/step\n",
            "Epoch 21/500\n",
            "4/4 - 1s - loss: 0.1468 - accuracy: 0.9781 - val_loss: 0.4854 - val_accuracy: 0.8530 - 619ms/epoch - 155ms/step\n",
            "Epoch 22/500\n",
            "4/4 - 1s - loss: 0.1251 - accuracy: 0.9849 - val_loss: 0.4921 - val_accuracy: 0.8403 - 621ms/epoch - 155ms/step\n",
            "Epoch 23/500\n",
            "4/4 - 1s - loss: 0.1095 - accuracy: 0.9890 - val_loss: 0.4636 - val_accuracy: 0.8498 - 596ms/epoch - 149ms/step\n",
            "Epoch 24/500\n",
            "4/4 - 1s - loss: 0.0917 - accuracy: 0.9945 - val_loss: 0.4608 - val_accuracy: 0.8435 - 616ms/epoch - 154ms/step\n",
            "Epoch 25/500\n",
            "4/4 - 1s - loss: 0.0822 - accuracy: 0.9986 - val_loss: 0.4709 - val_accuracy: 0.8403 - 607ms/epoch - 152ms/step\n",
            "Epoch 26/500\n",
            "4/4 - 1s - loss: 0.0715 - accuracy: 0.9959 - val_loss: 0.4592 - val_accuracy: 0.8530 - 602ms/epoch - 151ms/step\n",
            "Epoch 27/500\n",
            "4/4 - 1s - loss: 0.0641 - accuracy: 0.9959 - val_loss: 0.4546 - val_accuracy: 0.8435 - 614ms/epoch - 154ms/step\n",
            "Epoch 28/500\n",
            "4/4 - 1s - loss: 0.0568 - accuracy: 0.9986 - val_loss: 0.4507 - val_accuracy: 0.8435 - 597ms/epoch - 149ms/step\n",
            "Epoch 29/500\n",
            "4/4 - 1s - loss: 0.0528 - accuracy: 0.9973 - val_loss: 0.4500 - val_accuracy: 0.8466 - 616ms/epoch - 154ms/step\n",
            "Epoch 30/500\n",
            "4/4 - 1s - loss: 0.0482 - accuracy: 0.9959 - val_loss: 0.4548 - val_accuracy: 0.8530 - 608ms/epoch - 152ms/step\n",
            "Epoch 31/500\n",
            "4/4 - 1s - loss: 0.0408 - accuracy: 0.9986 - val_loss: 0.4650 - val_accuracy: 0.8371 - 595ms/epoch - 149ms/step\n",
            "Epoch 32/500\n",
            "4/4 - 1s - loss: 0.0373 - accuracy: 1.0000 - val_loss: 0.4654 - val_accuracy: 0.8466 - 612ms/epoch - 153ms/step\n",
            "Epoch 33/500\n",
            "4/4 - 1s - loss: 0.0335 - accuracy: 0.9986 - val_loss: 0.4657 - val_accuracy: 0.8562 - 596ms/epoch - 149ms/step\n",
            "Epoch 34/500\n",
            "4/4 - 1s - loss: 0.0332 - accuracy: 1.0000 - val_loss: 0.4458 - val_accuracy: 0.8562 - 618ms/epoch - 154ms/step\n",
            "Epoch 35/500\n",
            "4/4 - 1s - loss: 0.0273 - accuracy: 1.0000 - val_loss: 0.4496 - val_accuracy: 0.8435 - 606ms/epoch - 152ms/step\n",
            "Epoch 36/500\n",
            "4/4 - 1s - loss: 0.0257 - accuracy: 1.0000 - val_loss: 0.4531 - val_accuracy: 0.8435 - 600ms/epoch - 150ms/step\n",
            "Epoch 37/500\n",
            "4/4 - 1s - loss: 0.0239 - accuracy: 1.0000 - val_loss: 0.4519 - val_accuracy: 0.8466 - 615ms/epoch - 154ms/step\n",
            "Epoch 38/500\n",
            "4/4 - 1s - loss: 0.0223 - accuracy: 1.0000 - val_loss: 0.4500 - val_accuracy: 0.8594 - 609ms/epoch - 152ms/step\n",
            "Epoch 39/500\n",
            "4/4 - 1s - loss: 0.0219 - accuracy: 1.0000 - val_loss: 0.4523 - val_accuracy: 0.8530 - 633ms/epoch - 158ms/step\n",
            "Epoch 40/500\n",
            "4/4 - 1s - loss: 0.0205 - accuracy: 1.0000 - val_loss: 0.4613 - val_accuracy: 0.8466 - 634ms/epoch - 158ms/step\n",
            "Epoch 41/500\n",
            "4/4 - 1s - loss: 0.0190 - accuracy: 1.0000 - val_loss: 0.4669 - val_accuracy: 0.8498 - 615ms/epoch - 154ms/step\n",
            "Epoch 42/500\n",
            "4/4 - 1s - loss: 0.0172 - accuracy: 1.0000 - val_loss: 0.4625 - val_accuracy: 0.8530 - 617ms/epoch - 154ms/step\n",
            "Epoch 43/500\n",
            "4/4 - 1s - loss: 0.0164 - accuracy: 1.0000 - val_loss: 0.4601 - val_accuracy: 0.8594 - 600ms/epoch - 150ms/step\n",
            "Epoch 44/500\n",
            "4/4 - 1s - loss: 0.0154 - accuracy: 1.0000 - val_loss: 0.4568 - val_accuracy: 0.8466 - 612ms/epoch - 153ms/step\n",
            "Epoch 45/500\n",
            "4/4 - 1s - loss: 0.0153 - accuracy: 1.0000 - val_loss: 0.4566 - val_accuracy: 0.8435 - 609ms/epoch - 152ms/step\n",
            "Epoch 46/500\n",
            "4/4 - 1s - loss: 0.0137 - accuracy: 1.0000 - val_loss: 0.4649 - val_accuracy: 0.8498 - 600ms/epoch - 150ms/step\n",
            "Epoch 47/500\n",
            "4/4 - 1s - loss: 0.0131 - accuracy: 1.0000 - val_loss: 0.4672 - val_accuracy: 0.8594 - 614ms/epoch - 154ms/step\n",
            "Epoch 48/500\n",
            "4/4 - 1s - loss: 0.0128 - accuracy: 1.0000 - val_loss: 0.4685 - val_accuracy: 0.8562 - 597ms/epoch - 149ms/step\n",
            "Epoch 49/500\n",
            "4/4 - 1s - loss: 0.0122 - accuracy: 1.0000 - val_loss: 0.4698 - val_accuracy: 0.8530 - 612ms/epoch - 153ms/step\n",
            "Epoch 50/500\n",
            "4/4 - 1s - loss: 0.0113 - accuracy: 1.0000 - val_loss: 0.4713 - val_accuracy: 0.8466 - 606ms/epoch - 151ms/step\n",
            "Epoch 51/500\n",
            "4/4 - 1s - loss: 0.0107 - accuracy: 1.0000 - val_loss: 0.4661 - val_accuracy: 0.8530 - 605ms/epoch - 151ms/step\n",
            "Epoch 52/500\n",
            "4/4 - 1s - loss: 0.0108 - accuracy: 1.0000 - val_loss: 0.4701 - val_accuracy: 0.8530 - 619ms/epoch - 155ms/step\n",
            "Epoch 53/500\n",
            "4/4 - 1s - loss: 0.0106 - accuracy: 1.0000 - val_loss: 0.4727 - val_accuracy: 0.8466 - 634ms/epoch - 159ms/step\n",
            "Epoch 54/500\n",
            "4/4 - 1s - loss: 0.0099 - accuracy: 1.0000 - val_loss: 0.4677 - val_accuracy: 0.8498 - 608ms/epoch - 152ms/step\n",
            "Epoch 55/500\n",
            "4/4 - 1s - loss: 0.0093 - accuracy: 1.0000 - val_loss: 0.4681 - val_accuracy: 0.8530 - 608ms/epoch - 152ms/step\n",
            "Epoch 56/500\n",
            "4/4 - 1s - loss: 0.0087 - accuracy: 1.0000 - val_loss: 0.4731 - val_accuracy: 0.8562 - 606ms/epoch - 151ms/step\n",
            "Epoch 57/500\n",
            "4/4 - 1s - loss: 0.0085 - accuracy: 1.0000 - val_loss: 0.4720 - val_accuracy: 0.8498 - 605ms/epoch - 151ms/step\n",
            "Epoch 58/500\n",
            "4/4 - 1s - loss: 0.0075 - accuracy: 1.0000 - val_loss: 0.4714 - val_accuracy: 0.8498 - 597ms/epoch - 149ms/step\n",
            "Epoch 59/500\n",
            "4/4 - 1s - loss: 0.0078 - accuracy: 1.0000 - val_loss: 0.4725 - val_accuracy: 0.8562 - 611ms/epoch - 153ms/step\n",
            "Epoch 60/500\n",
            "4/4 - 1s - loss: 0.0079 - accuracy: 1.0000 - val_loss: 0.4722 - val_accuracy: 0.8626 - 612ms/epoch - 153ms/step\n",
            "Epoch 61/500\n",
            "4/4 - 1s - loss: 0.0072 - accuracy: 1.0000 - val_loss: 0.4761 - val_accuracy: 0.8530 - 604ms/epoch - 151ms/step\n",
            "Epoch 62/500\n",
            "4/4 - 1s - loss: 0.0068 - accuracy: 1.0000 - val_loss: 0.4766 - val_accuracy: 0.8562 - 604ms/epoch - 151ms/step\n",
            "Epoch 63/500\n",
            "4/4 - 1s - loss: 0.0069 - accuracy: 1.0000 - val_loss: 0.4767 - val_accuracy: 0.8562 - 598ms/epoch - 150ms/step\n",
            "Epoch 64/500\n",
            "4/4 - 1s - loss: 0.0071 - accuracy: 1.0000 - val_loss: 0.4771 - val_accuracy: 0.8562 - 606ms/epoch - 152ms/step\n",
            "Epoch 65/500\n",
            "4/4 - 1s - loss: 0.0059 - accuracy: 1.0000 - val_loss: 0.4771 - val_accuracy: 0.8626 - 613ms/epoch - 153ms/step\n",
            "Epoch 66/500\n",
            "4/4 - 1s - loss: 0.0066 - accuracy: 1.0000 - val_loss: 0.4770 - val_accuracy: 0.8626 - 599ms/epoch - 150ms/step\n",
            "Epoch 67/500\n",
            "4/4 - 1s - loss: 0.0055 - accuracy: 1.0000 - val_loss: 0.4752 - val_accuracy: 0.8626 - 609ms/epoch - 152ms/step\n",
            "Epoch 68/500\n",
            "4/4 - 1s - loss: 0.0058 - accuracy: 1.0000 - val_loss: 0.4754 - val_accuracy: 0.8594 - 597ms/epoch - 149ms/step\n",
            "Epoch 69/500\n",
            "4/4 - 1s - loss: 0.0054 - accuracy: 1.0000 - val_loss: 0.4755 - val_accuracy: 0.8594 - 618ms/epoch - 154ms/step\n",
            "Epoch 70/500\n",
            "4/4 - 1s - loss: 0.0057 - accuracy: 1.0000 - val_loss: 0.4773 - val_accuracy: 0.8562 - 613ms/epoch - 153ms/step\n",
            "Epoch 71/500\n",
            "4/4 - 1s - loss: 0.0055 - accuracy: 1.0000 - val_loss: 0.4815 - val_accuracy: 0.8658 - 614ms/epoch - 154ms/step\n",
            "Epoch 72/500\n",
            "4/4 - 1s - loss: 0.0049 - accuracy: 1.0000 - val_loss: 0.4853 - val_accuracy: 0.8594 - 614ms/epoch - 154ms/step\n",
            "Epoch 73/500\n",
            "4/4 - 1s - loss: 0.0047 - accuracy: 1.0000 - val_loss: 0.4849 - val_accuracy: 0.8594 - 594ms/epoch - 149ms/step\n",
            "Epoch 74/500\n",
            "4/4 - 1s - loss: 0.0044 - accuracy: 1.0000 - val_loss: 0.4801 - val_accuracy: 0.8594 - 613ms/epoch - 153ms/step\n",
            "Epoch 75/500\n",
            "4/4 - 1s - loss: 0.0047 - accuracy: 1.0000 - val_loss: 0.4787 - val_accuracy: 0.8594 - 593ms/epoch - 148ms/step\n",
            "Epoch 76/500\n",
            "4/4 - 1s - loss: 0.0046 - accuracy: 1.0000 - val_loss: 0.4841 - val_accuracy: 0.8594 - 618ms/epoch - 155ms/step\n",
            "Epoch 77/500\n",
            "4/4 - 1s - loss: 0.0046 - accuracy: 1.0000 - val_loss: 0.4813 - val_accuracy: 0.8658 - 602ms/epoch - 150ms/step\n",
            "Epoch 78/500\n",
            "4/4 - 1s - loss: 0.0043 - accuracy: 1.0000 - val_loss: 0.4804 - val_accuracy: 0.8690 - 600ms/epoch - 150ms/step\n",
            "Epoch 79/500\n",
            "4/4 - 1s - loss: 0.0042 - accuracy: 1.0000 - val_loss: 0.4797 - val_accuracy: 0.8722 - 603ms/epoch - 151ms/step\n",
            "Epoch 80/500\n",
            "4/4 - 1s - loss: 0.0042 - accuracy: 1.0000 - val_loss: 0.4817 - val_accuracy: 0.8626 - 595ms/epoch - 149ms/step\n",
            "Epoch 81/500\n",
            "4/4 - 1s - loss: 0.0038 - accuracy: 1.0000 - val_loss: 0.4837 - val_accuracy: 0.8690 - 614ms/epoch - 153ms/step\n",
            "Epoch 82/500\n",
            "4/4 - 1s - loss: 0.0037 - accuracy: 1.0000 - val_loss: 0.4849 - val_accuracy: 0.8658 - 605ms/epoch - 151ms/step\n",
            "Epoch 83/500\n",
            "4/4 - 1s - loss: 0.0036 - accuracy: 1.0000 - val_loss: 0.4882 - val_accuracy: 0.8626 - 591ms/epoch - 148ms/step\n",
            "Epoch 84/500\n",
            "4/4 - 1s - loss: 0.0034 - accuracy: 1.0000 - val_loss: 0.4934 - val_accuracy: 0.8562 - 608ms/epoch - 152ms/step\n",
            "Epoch 85/500\n",
            "4/4 - 1s - loss: 0.0038 - accuracy: 1.0000 - val_loss: 0.4931 - val_accuracy: 0.8626 - 592ms/epoch - 148ms/step\n",
            "Epoch 86/500\n",
            "4/4 - 1s - loss: 0.0035 - accuracy: 1.0000 - val_loss: 0.4913 - val_accuracy: 0.8658 - 611ms/epoch - 153ms/step\n",
            "Epoch 87/500\n",
            "4/4 - 1s - loss: 0.0034 - accuracy: 1.0000 - val_loss: 0.4885 - val_accuracy: 0.8562 - 613ms/epoch - 153ms/step\n",
            "Epoch 88/500\n",
            "4/4 - 1s - loss: 0.0033 - accuracy: 1.0000 - val_loss: 0.4941 - val_accuracy: 0.8690 - 595ms/epoch - 149ms/step\n",
            "Epoch 89/500\n",
            "4/4 - 1s - loss: 0.0034 - accuracy: 1.0000 - val_loss: 0.4932 - val_accuracy: 0.8690 - 607ms/epoch - 152ms/step\n",
            "Epoch 90/500\n",
            "4/4 - 1s - loss: 0.0034 - accuracy: 1.0000 - val_loss: 0.4911 - val_accuracy: 0.8690 - 597ms/epoch - 149ms/step\n",
            "Epoch 91/500\n",
            "4/4 - 1s - loss: 0.0030 - accuracy: 1.0000 - val_loss: 0.4897 - val_accuracy: 0.8562 - 607ms/epoch - 152ms/step\n",
            "Epoch 92/500\n",
            "4/4 - 1s - loss: 0.0031 - accuracy: 1.0000 - val_loss: 0.4897 - val_accuracy: 0.8562 - 600ms/epoch - 150ms/step\n",
            "Epoch 93/500\n",
            "4/4 - 1s - loss: 0.0030 - accuracy: 1.0000 - val_loss: 0.4903 - val_accuracy: 0.8658 - 606ms/epoch - 152ms/step\n",
            "Epoch 94/500\n",
            "4/4 - 1s - loss: 0.0029 - accuracy: 1.0000 - val_loss: 0.4908 - val_accuracy: 0.8658 - 612ms/epoch - 153ms/step\n",
            "Epoch 95/500\n",
            "4/4 - 1s - loss: 0.0031 - accuracy: 1.0000 - val_loss: 0.4967 - val_accuracy: 0.8658 - 601ms/epoch - 150ms/step\n",
            "Epoch 96/500\n",
            "4/4 - 1s - loss: 0.0026 - accuracy: 1.0000 - val_loss: 0.5043 - val_accuracy: 0.8658 - 602ms/epoch - 150ms/step\n",
            "Epoch 97/500\n",
            "4/4 - 1s - loss: 0.0026 - accuracy: 1.0000 - val_loss: 0.5041 - val_accuracy: 0.8626 - 597ms/epoch - 149ms/step\n",
            "Epoch 98/500\n",
            "4/4 - 1s - loss: 0.0027 - accuracy: 1.0000 - val_loss: 0.5017 - val_accuracy: 0.8594 - 613ms/epoch - 153ms/step\n",
            "Epoch 99/500\n",
            "4/4 - 1s - loss: 0.0025 - accuracy: 1.0000 - val_loss: 0.4980 - val_accuracy: 0.8562 - 622ms/epoch - 156ms/step\n",
            "Epoch 100/500\n",
            "4/4 - 1s - loss: 0.0025 - accuracy: 1.0000 - val_loss: 0.4948 - val_accuracy: 0.8626 - 594ms/epoch - 149ms/step\n",
            "Epoch 101/500\n",
            "4/4 - 1s - loss: 0.0025 - accuracy: 1.0000 - val_loss: 0.4949 - val_accuracy: 0.8658 - 608ms/epoch - 152ms/step\n",
            "Epoch 102/500\n",
            "4/4 - 1s - loss: 0.0025 - accuracy: 1.0000 - val_loss: 0.4988 - val_accuracy: 0.8690 - 599ms/epoch - 150ms/step\n",
            "Epoch 103/500\n",
            "4/4 - 1s - loss: 0.0025 - accuracy: 1.0000 - val_loss: 0.5032 - val_accuracy: 0.8658 - 621ms/epoch - 155ms/step\n",
            "Epoch 104/500\n",
            "4/4 - 1s - loss: 0.0025 - accuracy: 1.0000 - val_loss: 0.5030 - val_accuracy: 0.8690 - 597ms/epoch - 149ms/step\n",
            "Epoch 105/500\n",
            "4/4 - 1s - loss: 0.0021 - accuracy: 1.0000 - val_loss: 0.4998 - val_accuracy: 0.8722 - 599ms/epoch - 150ms/step\n",
            "Epoch 106/500\n",
            "4/4 - 1s - loss: 0.0021 - accuracy: 1.0000 - val_loss: 0.4970 - val_accuracy: 0.8690 - 603ms/epoch - 151ms/step\n",
            "Epoch 107/500\n",
            "4/4 - 1s - loss: 0.0020 - accuracy: 1.0000 - val_loss: 0.4980 - val_accuracy: 0.8658 - 596ms/epoch - 149ms/step\n",
            "Epoch 108/500\n",
            "4/4 - 1s - loss: 0.0023 - accuracy: 1.0000 - val_loss: 0.5000 - val_accuracy: 0.8562 - 604ms/epoch - 151ms/step\n",
            "Epoch 109/500\n",
            "4/4 - 1s - loss: 0.0019 - accuracy: 1.0000 - val_loss: 0.5040 - val_accuracy: 0.8658 - 614ms/epoch - 154ms/step\n",
            "Epoch 110/500\n",
            "4/4 - 1s - loss: 0.0020 - accuracy: 1.0000 - val_loss: 0.5089 - val_accuracy: 0.8658 - 590ms/epoch - 148ms/step\n",
            "Epoch 111/500\n",
            "4/4 - 1s - loss: 0.0022 - accuracy: 1.0000 - val_loss: 0.5087 - val_accuracy: 0.8754 - 606ms/epoch - 152ms/step\n",
            "Epoch 112/500\n",
            "4/4 - 1s - loss: 0.0019 - accuracy: 1.0000 - val_loss: 0.5065 - val_accuracy: 0.8722 - 606ms/epoch - 151ms/step\n",
            "Epoch 113/500\n",
            "4/4 - 1s - loss: 0.0021 - accuracy: 1.0000 - val_loss: 0.5065 - val_accuracy: 0.8722 - 620ms/epoch - 155ms/step\n",
            "Epoch 114/500\n",
            "4/4 - 1s - loss: 0.0019 - accuracy: 1.0000 - val_loss: 0.5050 - val_accuracy: 0.8658 - 611ms/epoch - 153ms/step\n",
            "Epoch 115/500\n",
            "4/4 - 1s - loss: 0.0019 - accuracy: 1.0000 - val_loss: 0.5035 - val_accuracy: 0.8626 - 599ms/epoch - 150ms/step\n",
            "Epoch 116/500\n",
            "4/4 - 1s - loss: 0.0017 - accuracy: 1.0000 - val_loss: 0.5056 - val_accuracy: 0.8626 - 616ms/epoch - 154ms/step\n",
            "Epoch 117/500\n",
            "4/4 - 1s - loss: 0.0018 - accuracy: 1.0000 - val_loss: 0.5078 - val_accuracy: 0.8626 - 600ms/epoch - 150ms/step\n",
            "Epoch 118/500\n",
            "4/4 - 1s - loss: 0.0017 - accuracy: 1.0000 - val_loss: 0.5102 - val_accuracy: 0.8626 - 619ms/epoch - 155ms/step\n",
            "Epoch 119/500\n",
            "4/4 - 1s - loss: 0.0019 - accuracy: 1.0000 - val_loss: 0.5092 - val_accuracy: 0.8626 - 614ms/epoch - 153ms/step\n",
            "Epoch 120/500\n",
            "4/4 - 1s - loss: 0.0016 - accuracy: 1.0000 - val_loss: 0.5081 - val_accuracy: 0.8658 - 622ms/epoch - 155ms/step\n",
            "Epoch 121/500\n",
            "4/4 - 1s - loss: 0.0016 - accuracy: 1.0000 - val_loss: 0.5084 - val_accuracy: 0.8658 - 608ms/epoch - 152ms/step\n",
            "Epoch 122/500\n",
            "4/4 - 1s - loss: 0.0020 - accuracy: 1.0000 - val_loss: 0.5092 - val_accuracy: 0.8722 - 603ms/epoch - 151ms/step\n",
            "Epoch 123/500\n",
            "4/4 - 1s - loss: 0.0017 - accuracy: 1.0000 - val_loss: 0.5088 - val_accuracy: 0.8722 - 612ms/epoch - 153ms/step\n",
            "Epoch 124/500\n",
            "4/4 - 1s - loss: 0.0017 - accuracy: 1.0000 - val_loss: 0.5102 - val_accuracy: 0.8690 - 608ms/epoch - 152ms/step\n",
            "Epoch 125/500\n",
            "4/4 - 1s - loss: 0.0015 - accuracy: 1.0000 - val_loss: 0.5125 - val_accuracy: 0.8722 - 593ms/epoch - 148ms/step\n",
            "Epoch 126/500\n",
            "4/4 - 1s - loss: 0.0016 - accuracy: 1.0000 - val_loss: 0.5149 - val_accuracy: 0.8690 - 613ms/epoch - 153ms/step\n",
            "Epoch 127/500\n",
            "4/4 - 1s - loss: 0.0017 - accuracy: 1.0000 - val_loss: 0.5132 - val_accuracy: 0.8690 - 592ms/epoch - 148ms/step\n",
            "Epoch 128/500\n",
            "4/4 - 1s - loss: 0.0017 - accuracy: 1.0000 - val_loss: 0.5099 - val_accuracy: 0.8658 - 609ms/epoch - 152ms/step\n",
            "Epoch 129/500\n",
            "4/4 - 1s - loss: 0.0015 - accuracy: 1.0000 - val_loss: 0.5095 - val_accuracy: 0.8690 - 592ms/epoch - 148ms/step\n",
            "Epoch 130/500\n",
            "4/4 - 1s - loss: 0.0016 - accuracy: 1.0000 - val_loss: 0.5087 - val_accuracy: 0.8690 - 607ms/epoch - 152ms/step\n",
            "Epoch 131/500\n",
            "4/4 - 1s - loss: 0.0014 - accuracy: 1.0000 - val_loss: 0.5107 - val_accuracy: 0.8658 - 605ms/epoch - 151ms/step\n",
            "Epoch 132/500\n",
            "4/4 - 1s - loss: 0.0015 - accuracy: 1.0000 - val_loss: 0.5140 - val_accuracy: 0.8658 - 602ms/epoch - 150ms/step\n",
            "Epoch 133/500\n",
            "4/4 - 1s - loss: 0.0015 - accuracy: 1.0000 - val_loss: 0.5180 - val_accuracy: 0.8690 - 603ms/epoch - 151ms/step\n",
            "Epoch 134/500\n",
            "4/4 - 1s - loss: 0.0015 - accuracy: 1.0000 - val_loss: 0.5255 - val_accuracy: 0.8594 - 602ms/epoch - 150ms/step\n",
            "Epoch 135/500\n",
            "4/4 - 1s - loss: 0.0015 - accuracy: 1.0000 - val_loss: 0.5254 - val_accuracy: 0.8658 - 616ms/epoch - 154ms/step\n",
            "Epoch 136/500\n",
            "4/4 - 1s - loss: 0.0013 - accuracy: 1.0000 - val_loss: 0.5234 - val_accuracy: 0.8690 - 604ms/epoch - 151ms/step\n",
            "Epoch 137/500\n",
            "4/4 - 1s - loss: 0.0013 - accuracy: 1.0000 - val_loss: 0.5200 - val_accuracy: 0.8722 - 594ms/epoch - 148ms/step\n",
            "Epoch 138/500\n",
            "4/4 - 1s - loss: 0.0012 - accuracy: 1.0000 - val_loss: 0.5179 - val_accuracy: 0.8690 - 605ms/epoch - 151ms/step\n",
            "Epoch 139/500\n",
            "4/4 - 1s - loss: 0.0013 - accuracy: 1.0000 - val_loss: 0.5164 - val_accuracy: 0.8658 - 594ms/epoch - 149ms/step\n",
            "Epoch 140/500\n",
            "4/4 - 1s - loss: 0.0014 - accuracy: 1.0000 - val_loss: 0.5166 - val_accuracy: 0.8658 - 603ms/epoch - 151ms/step\n",
            "Epoch 141/500\n",
            "4/4 - 1s - loss: 0.0013 - accuracy: 1.0000 - val_loss: 0.5164 - val_accuracy: 0.8722 - 598ms/epoch - 150ms/step\n",
            "Epoch 142/500\n",
            "4/4 - 1s - loss: 0.0013 - accuracy: 1.0000 - val_loss: 0.5163 - val_accuracy: 0.8722 - 587ms/epoch - 147ms/step\n",
            "Epoch 143/500\n",
            "4/4 - 1s - loss: 0.0011 - accuracy: 1.0000 - val_loss: 0.5172 - val_accuracy: 0.8722 - 609ms/epoch - 152ms/step\n",
            "Epoch 144/500\n",
            "4/4 - 1s - loss: 0.0011 - accuracy: 1.0000 - val_loss: 0.5190 - val_accuracy: 0.8722 - 601ms/epoch - 150ms/step\n",
            "Epoch 145/500\n",
            "4/4 - 1s - loss: 0.0011 - accuracy: 1.0000 - val_loss: 0.5212 - val_accuracy: 0.8722 - 610ms/epoch - 152ms/step\n",
            "Epoch 146/500\n",
            "4/4 - 1s - loss: 0.0012 - accuracy: 1.0000 - val_loss: 0.5219 - val_accuracy: 0.8722 - 596ms/epoch - 149ms/step\n",
            "Epoch 147/500\n",
            "4/4 - 1s - loss: 0.0012 - accuracy: 1.0000 - val_loss: 0.5211 - val_accuracy: 0.8722 - 611ms/epoch - 153ms/step\n",
            "Epoch 148/500\n",
            "4/4 - 1s - loss: 0.0012 - accuracy: 1.0000 - val_loss: 0.5204 - val_accuracy: 0.8786 - 613ms/epoch - 153ms/step\n",
            "Epoch 149/500\n",
            "4/4 - 1s - loss: 0.0012 - accuracy: 1.0000 - val_loss: 0.5219 - val_accuracy: 0.8754 - 603ms/epoch - 151ms/step\n",
            "Epoch 150/500\n",
            "4/4 - 1s - loss: 0.0011 - accuracy: 1.0000 - val_loss: 0.5253 - val_accuracy: 0.8722 - 613ms/epoch - 153ms/step\n",
            "Epoch 151/500\n",
            "4/4 - 1s - loss: 0.0010 - accuracy: 1.0000 - val_loss: 0.5276 - val_accuracy: 0.8722 - 603ms/epoch - 151ms/step\n",
            "Epoch 152/500\n",
            "4/4 - 1s - loss: 0.0010 - accuracy: 1.0000 - val_loss: 0.5300 - val_accuracy: 0.8722 - 626ms/epoch - 156ms/step\n",
            "Epoch 153/500\n",
            "4/4 - 1s - loss: 0.0011 - accuracy: 1.0000 - val_loss: 0.5312 - val_accuracy: 0.8722 - 599ms/epoch - 150ms/step\n",
            "Epoch 154/500\n",
            "4/4 - 1s - loss: 0.0012 - accuracy: 1.0000 - val_loss: 0.5281 - val_accuracy: 0.8690 - 589ms/epoch - 147ms/step\n",
            "Epoch 155/500\n",
            "4/4 - 1s - loss: 0.0010 - accuracy: 1.0000 - val_loss: 0.5258 - val_accuracy: 0.8626 - 613ms/epoch - 153ms/step\n",
            "Epoch 156/500\n",
            "4/4 - 1s - loss: 9.5650e-04 - accuracy: 1.0000 - val_loss: 0.5250 - val_accuracy: 0.8658 - 591ms/epoch - 148ms/step\n",
            "Epoch 157/500\n",
            "4/4 - 1s - loss: 0.0010 - accuracy: 1.0000 - val_loss: 0.5247 - val_accuracy: 0.8658 - 602ms/epoch - 150ms/step\n",
            "Epoch 158/500\n",
            "4/4 - 1s - loss: 9.8285e-04 - accuracy: 1.0000 - val_loss: 0.5248 - val_accuracy: 0.8658 - 605ms/epoch - 151ms/step\n",
            "Epoch 159/500\n",
            "4/4 - 1s - loss: 9.5854e-04 - accuracy: 1.0000 - val_loss: 0.5259 - val_accuracy: 0.8690 - 586ms/epoch - 146ms/step\n",
            "Epoch 160/500\n",
            "4/4 - 1s - loss: 9.9236e-04 - accuracy: 1.0000 - val_loss: 0.5270 - val_accuracy: 0.8722 - 610ms/epoch - 153ms/step\n",
            "Epoch 161/500\n",
            "4/4 - 1s - loss: 0.0010 - accuracy: 1.0000 - val_loss: 0.5271 - val_accuracy: 0.8690 - 590ms/epoch - 148ms/step\n",
            "Epoch 162/500\n",
            "4/4 - 1s - loss: 9.7794e-04 - accuracy: 1.0000 - val_loss: 0.5256 - val_accuracy: 0.8690 - 612ms/epoch - 153ms/step\n",
            "Epoch 163/500\n",
            "4/4 - 1s - loss: 9.6356e-04 - accuracy: 1.0000 - val_loss: 0.5269 - val_accuracy: 0.8658 - 596ms/epoch - 149ms/step\n",
            "Epoch 164/500\n",
            "4/4 - 1s - loss: 9.9189e-04 - accuracy: 1.0000 - val_loss: 0.5283 - val_accuracy: 0.8690 - 602ms/epoch - 150ms/step\n",
            "Epoch 165/500\n",
            "4/4 - 1s - loss: 8.7507e-04 - accuracy: 1.0000 - val_loss: 0.5294 - val_accuracy: 0.8722 - 614ms/epoch - 153ms/step\n",
            "Epoch 166/500\n",
            "4/4 - 1s - loss: 9.7032e-04 - accuracy: 1.0000 - val_loss: 0.5323 - val_accuracy: 0.8722 - 598ms/epoch - 150ms/step\n",
            "Epoch 167/500\n",
            "4/4 - 1s - loss: 7.9195e-04 - accuracy: 1.0000 - val_loss: 0.5365 - val_accuracy: 0.8690 - 607ms/epoch - 152ms/step\n",
            "Epoch 168/500\n",
            "4/4 - 1s - loss: 8.8068e-04 - accuracy: 1.0000 - val_loss: 0.5373 - val_accuracy: 0.8722 - 604ms/epoch - 151ms/step\n",
            "Epoch 169/500\n",
            "4/4 - 1s - loss: 0.0010 - accuracy: 1.0000 - val_loss: 0.5360 - val_accuracy: 0.8690 - 612ms/epoch - 153ms/step\n",
            "Epoch 170/500\n",
            "4/4 - 1s - loss: 9.5389e-04 - accuracy: 1.0000 - val_loss: 0.5340 - val_accuracy: 0.8658 - 614ms/epoch - 154ms/step\n",
            "Epoch 171/500\n",
            "4/4 - 1s - loss: 8.7470e-04 - accuracy: 1.0000 - val_loss: 0.5329 - val_accuracy: 0.8658 - 595ms/epoch - 149ms/step\n",
            "Epoch 172/500\n",
            "4/4 - 1s - loss: 9.5871e-04 - accuracy: 1.0000 - val_loss: 0.5325 - val_accuracy: 0.8722 - 613ms/epoch - 153ms/step\n",
            "Epoch 173/500\n",
            "4/4 - 1s - loss: 9.5420e-04 - accuracy: 1.0000 - val_loss: 0.5319 - val_accuracy: 0.8754 - 597ms/epoch - 149ms/step\n",
            "Epoch 174/500\n",
            "4/4 - 1s - loss: 7.8144e-04 - accuracy: 1.0000 - val_loss: 0.5313 - val_accuracy: 0.8690 - 606ms/epoch - 152ms/step\n",
            "Epoch 175/500\n",
            "4/4 - 1s - loss: 8.5843e-04 - accuracy: 1.0000 - val_loss: 0.5336 - val_accuracy: 0.8754 - 603ms/epoch - 151ms/step\n",
            "Epoch 176/500\n",
            "4/4 - 1s - loss: 8.2002e-04 - accuracy: 1.0000 - val_loss: 0.5381 - val_accuracy: 0.8754 - 591ms/epoch - 148ms/step\n",
            "Epoch 177/500\n",
            "4/4 - 1s - loss: 7.6813e-04 - accuracy: 1.0000 - val_loss: 0.5416 - val_accuracy: 0.8754 - 606ms/epoch - 152ms/step\n",
            "Epoch 178/500\n",
            "4/4 - 1s - loss: 7.6888e-04 - accuracy: 1.0000 - val_loss: 0.5432 - val_accuracy: 0.8754 - 591ms/epoch - 148ms/step\n",
            "Epoch 179/500\n",
            "4/4 - 1s - loss: 8.4046e-04 - accuracy: 1.0000 - val_loss: 0.5454 - val_accuracy: 0.8722 - 602ms/epoch - 151ms/step\n",
            "Epoch 180/500\n",
            "4/4 - 1s - loss: 7.3148e-04 - accuracy: 1.0000 - val_loss: 0.5463 - val_accuracy: 0.8722 - 608ms/epoch - 152ms/step\n",
            "Epoch 181/500\n",
            "4/4 - 1s - loss: 6.5678e-04 - accuracy: 1.0000 - val_loss: 0.5470 - val_accuracy: 0.8690 - 593ms/epoch - 148ms/step\n",
            "Epoch 182/500\n",
            "4/4 - 1s - loss: 8.9862e-04 - accuracy: 1.0000 - val_loss: 0.5463 - val_accuracy: 0.8722 - 605ms/epoch - 151ms/step\n",
            "Epoch 183/500\n",
            "4/4 - 1s - loss: 7.5893e-04 - accuracy: 1.0000 - val_loss: 0.5454 - val_accuracy: 0.8658 - 603ms/epoch - 151ms/step\n",
            "Epoch 184/500\n",
            "4/4 - 1s - loss: 6.9785e-04 - accuracy: 1.0000 - val_loss: 0.5438 - val_accuracy: 0.8658 - 611ms/epoch - 153ms/step\n",
            "Epoch 185/500\n",
            "4/4 - 1s - loss: 7.1729e-04 - accuracy: 1.0000 - val_loss: 0.5436 - val_accuracy: 0.8658 - 609ms/epoch - 152ms/step\n",
            "Epoch 186/500\n",
            "4/4 - 1s - loss: 7.3958e-04 - accuracy: 1.0000 - val_loss: 0.5428 - val_accuracy: 0.8658 - 596ms/epoch - 149ms/step\n",
            "Epoch 187/500\n",
            "4/4 - 1s - loss: 6.8168e-04 - accuracy: 1.0000 - val_loss: 0.5407 - val_accuracy: 0.8658 - 604ms/epoch - 151ms/step\n",
            "Epoch 188/500\n",
            "4/4 - 1s - loss: 7.2909e-04 - accuracy: 1.0000 - val_loss: 0.5389 - val_accuracy: 0.8690 - 603ms/epoch - 151ms/step\n",
            "Epoch 189/500\n",
            "4/4 - 1s - loss: 7.2034e-04 - accuracy: 1.0000 - val_loss: 0.5399 - val_accuracy: 0.8722 - 612ms/epoch - 153ms/step\n",
            "Epoch 190/500\n",
            "4/4 - 1s - loss: 7.0136e-04 - accuracy: 1.0000 - val_loss: 0.5433 - val_accuracy: 0.8722 - 605ms/epoch - 151ms/step\n",
            "Epoch 191/500\n",
            "4/4 - 1s - loss: 6.2250e-04 - accuracy: 1.0000 - val_loss: 0.5451 - val_accuracy: 0.8722 - 623ms/epoch - 156ms/step\n",
            "Epoch 192/500\n",
            "4/4 - 1s - loss: 6.0783e-04 - accuracy: 1.0000 - val_loss: 0.5463 - val_accuracy: 0.8722 - 618ms/epoch - 154ms/step\n",
            "Epoch 193/500\n",
            "4/4 - 1s - loss: 7.2325e-04 - accuracy: 1.0000 - val_loss: 0.5465 - val_accuracy: 0.8722 - 604ms/epoch - 151ms/step\n",
            "Epoch 194/500\n",
            "4/4 - 1s - loss: 6.8563e-04 - accuracy: 1.0000 - val_loss: 0.5470 - val_accuracy: 0.8722 - 611ms/epoch - 153ms/step\n",
            "Epoch 195/500\n",
            "4/4 - 1s - loss: 7.0209e-04 - accuracy: 1.0000 - val_loss: 0.5475 - val_accuracy: 0.8722 - 597ms/epoch - 149ms/step\n",
            "Epoch 196/500\n",
            "4/4 - 1s - loss: 6.8322e-04 - accuracy: 1.0000 - val_loss: 0.5464 - val_accuracy: 0.8722 - 611ms/epoch - 153ms/step\n",
            "Epoch 197/500\n",
            "4/4 - 1s - loss: 7.0516e-04 - accuracy: 1.0000 - val_loss: 0.5457 - val_accuracy: 0.8722 - 605ms/epoch - 151ms/step\n",
            "Epoch 198/500\n",
            "4/4 - 1s - loss: 6.4060e-04 - accuracy: 1.0000 - val_loss: 0.5454 - val_accuracy: 0.8722 - 594ms/epoch - 148ms/step\n",
            "Epoch 199/500\n",
            "4/4 - 1s - loss: 6.9261e-04 - accuracy: 1.0000 - val_loss: 0.5428 - val_accuracy: 0.8722 - 608ms/epoch - 152ms/step\n",
            "Epoch 200/500\n",
            "4/4 - 1s - loss: 5.9309e-04 - accuracy: 1.0000 - val_loss: 0.5406 - val_accuracy: 0.8722 - 602ms/epoch - 150ms/step\n",
            "Epoch 201/500\n",
            "4/4 - 1s - loss: 6.5688e-04 - accuracy: 1.0000 - val_loss: 0.5394 - val_accuracy: 0.8754 - 604ms/epoch - 151ms/step\n",
            "Epoch 202/500\n",
            "4/4 - 1s - loss: 5.9707e-04 - accuracy: 1.0000 - val_loss: 0.5415 - val_accuracy: 0.8722 - 616ms/epoch - 154ms/step\n",
            "Epoch 203/500\n",
            "4/4 - 1s - loss: 5.9387e-04 - accuracy: 1.0000 - val_loss: 0.5435 - val_accuracy: 0.8722 - 590ms/epoch - 148ms/step\n",
            "Epoch 204/500\n",
            "4/4 - 1s - loss: 5.8850e-04 - accuracy: 1.0000 - val_loss: 0.5448 - val_accuracy: 0.8722 - 604ms/epoch - 151ms/step\n",
            "Epoch 205/500\n",
            "4/4 - 1s - loss: 5.5130e-04 - accuracy: 1.0000 - val_loss: 0.5455 - val_accuracy: 0.8722 - 592ms/epoch - 148ms/step\n",
            "Epoch 206/500\n",
            "4/4 - 1s - loss: 5.7592e-04 - accuracy: 1.0000 - val_loss: 0.5454 - val_accuracy: 0.8754 - 606ms/epoch - 151ms/step\n",
            "Epoch 207/500\n",
            "4/4 - 1s - loss: 6.2046e-04 - accuracy: 1.0000 - val_loss: 0.5463 - val_accuracy: 0.8722 - 602ms/epoch - 150ms/step\n",
            "Epoch 208/500\n",
            "4/4 - 1s - loss: 5.9268e-04 - accuracy: 1.0000 - val_loss: 0.5471 - val_accuracy: 0.8722 - 589ms/epoch - 147ms/step\n",
            "Epoch 209/500\n",
            "4/4 - 1s - loss: 6.2186e-04 - accuracy: 1.0000 - val_loss: 0.5487 - val_accuracy: 0.8658 - 601ms/epoch - 150ms/step\n",
            "Epoch 210/500\n",
            "4/4 - 1s - loss: 5.9052e-04 - accuracy: 1.0000 - val_loss: 0.5520 - val_accuracy: 0.8658 - 596ms/epoch - 149ms/step\n",
            "Epoch 211/500\n",
            "4/4 - 1s - loss: 6.3759e-04 - accuracy: 1.0000 - val_loss: 0.5525 - val_accuracy: 0.8658 - 626ms/epoch - 157ms/step\n",
            "Epoch 212/500\n",
            "4/4 - 1s - loss: 5.4029e-04 - accuracy: 1.0000 - val_loss: 0.5519 - val_accuracy: 0.8722 - 610ms/epoch - 152ms/step\n",
            "Epoch 213/500\n",
            "4/4 - 1s - loss: 5.5195e-04 - accuracy: 1.0000 - val_loss: 0.5518 - val_accuracy: 0.8722 - 595ms/epoch - 149ms/step\n",
            "Epoch 214/500\n",
            "4/4 - 1s - loss: 5.5609e-04 - accuracy: 1.0000 - val_loss: 0.5519 - val_accuracy: 0.8754 - 606ms/epoch - 152ms/step\n",
            "Epoch 215/500\n",
            "4/4 - 1s - loss: 5.3556e-04 - accuracy: 1.0000 - val_loss: 0.5514 - val_accuracy: 0.8722 - 591ms/epoch - 148ms/step\n",
            "Epoch 216/500\n",
            "4/4 - 1s - loss: 5.1926e-04 - accuracy: 1.0000 - val_loss: 0.5507 - val_accuracy: 0.8722 - 606ms/epoch - 152ms/step\n",
            "Epoch 217/500\n",
            "4/4 - 1s - loss: 5.4745e-04 - accuracy: 1.0000 - val_loss: 0.5518 - val_accuracy: 0.8690 - 597ms/epoch - 149ms/step\n",
            "Epoch 218/500\n",
            "4/4 - 1s - loss: 5.4218e-04 - accuracy: 1.0000 - val_loss: 0.5557 - val_accuracy: 0.8690 - 600ms/epoch - 150ms/step\n",
            "Epoch 219/500\n",
            "4/4 - 1s - loss: 6.5935e-04 - accuracy: 1.0000 - val_loss: 0.5562 - val_accuracy: 0.8722 - 603ms/epoch - 151ms/step\n",
            "Epoch 220/500\n",
            "4/4 - 1s - loss: 5.3600e-04 - accuracy: 1.0000 - val_loss: 0.5547 - val_accuracy: 0.8754 - 610ms/epoch - 153ms/step\n",
            "Epoch 221/500\n",
            "4/4 - 1s - loss: 4.9927e-04 - accuracy: 1.0000 - val_loss: 0.5557 - val_accuracy: 0.8754 - 611ms/epoch - 153ms/step\n",
            "Epoch 222/500\n",
            "4/4 - 1s - loss: 5.1519e-04 - accuracy: 1.0000 - val_loss: 0.5554 - val_accuracy: 0.8690 - 598ms/epoch - 149ms/step\n",
            "Epoch 223/500\n",
            "4/4 - 1s - loss: 5.4188e-04 - accuracy: 1.0000 - val_loss: 0.5558 - val_accuracy: 0.8722 - 603ms/epoch - 151ms/step\n",
            "Epoch 224/500\n",
            "4/4 - 1s - loss: 5.2104e-04 - accuracy: 1.0000 - val_loss: 0.5559 - val_accuracy: 0.8722 - 604ms/epoch - 151ms/step\n",
            "Epoch 225/500\n",
            "4/4 - 1s - loss: 4.8565e-04 - accuracy: 1.0000 - val_loss: 0.5554 - val_accuracy: 0.8722 - 589ms/epoch - 147ms/step\n",
            "Epoch 226/500\n",
            "4/4 - 1s - loss: 5.2334e-04 - accuracy: 1.0000 - val_loss: 0.5554 - val_accuracy: 0.8690 - 610ms/epoch - 153ms/step\n",
            "Epoch 227/500\n",
            "4/4 - 1s - loss: 5.4690e-04 - accuracy: 1.0000 - val_loss: 0.5558 - val_accuracy: 0.8722 - 595ms/epoch - 149ms/step\n",
            "Epoch 228/500\n",
            "4/4 - 1s - loss: 5.3701e-04 - accuracy: 1.0000 - val_loss: 0.5553 - val_accuracy: 0.8722 - 603ms/epoch - 151ms/step\n",
            "Epoch 229/500\n",
            "4/4 - 1s - loss: 5.1076e-04 - accuracy: 1.0000 - val_loss: 0.5545 - val_accuracy: 0.8786 - 614ms/epoch - 153ms/step\n",
            "Epoch 230/500\n",
            "4/4 - 1s - loss: 5.7641e-04 - accuracy: 1.0000 - val_loss: 0.5509 - val_accuracy: 0.8786 - 596ms/epoch - 149ms/step\n",
            "Epoch 231/500\n",
            "4/4 - 1s - loss: 4.9059e-04 - accuracy: 1.0000 - val_loss: 0.5486 - val_accuracy: 0.8786 - 601ms/epoch - 150ms/step\n",
            "Epoch 232/500\n",
            "4/4 - 1s - loss: 4.3663e-04 - accuracy: 1.0000 - val_loss: 0.5479 - val_accuracy: 0.8754 - 590ms/epoch - 147ms/step\n",
            "Epoch 233/500\n",
            "4/4 - 1s - loss: 4.3960e-04 - accuracy: 1.0000 - val_loss: 0.5494 - val_accuracy: 0.8722 - 613ms/epoch - 153ms/step\n",
            "Epoch 234/500\n",
            "4/4 - 1s - loss: 5.1744e-04 - accuracy: 1.0000 - val_loss: 0.5509 - val_accuracy: 0.8722 - 612ms/epoch - 153ms/step\n",
            "Epoch 235/500\n",
            "4/4 - 1s - loss: 4.1947e-04 - accuracy: 1.0000 - val_loss: 0.5532 - val_accuracy: 0.8690 - 596ms/epoch - 149ms/step\n",
            "Epoch 236/500\n",
            "4/4 - 1s - loss: 4.6137e-04 - accuracy: 1.0000 - val_loss: 0.5563 - val_accuracy: 0.8722 - 609ms/epoch - 152ms/step\n",
            "Epoch 237/500\n",
            "4/4 - 1s - loss: 4.4265e-04 - accuracy: 1.0000 - val_loss: 0.5575 - val_accuracy: 0.8786 - 595ms/epoch - 149ms/step\n",
            "Epoch 238/500\n",
            "4/4 - 1s - loss: 4.1341e-04 - accuracy: 1.0000 - val_loss: 0.5576 - val_accuracy: 0.8754 - 606ms/epoch - 151ms/step\n",
            "Epoch 239/500\n",
            "4/4 - 1s - loss: 4.1647e-04 - accuracy: 1.0000 - val_loss: 0.5574 - val_accuracy: 0.8754 - 599ms/epoch - 150ms/step\n",
            "Epoch 240/500\n",
            "4/4 - 1s - loss: 4.2595e-04 - accuracy: 1.0000 - val_loss: 0.5575 - val_accuracy: 0.8722 - 603ms/epoch - 151ms/step\n",
            "Epoch 241/500\n",
            "4/4 - 1s - loss: 4.6913e-04 - accuracy: 1.0000 - val_loss: 0.5577 - val_accuracy: 0.8786 - 609ms/epoch - 152ms/step\n",
            "Epoch 242/500\n",
            "4/4 - 1s - loss: 4.2371e-04 - accuracy: 1.0000 - val_loss: 0.5567 - val_accuracy: 0.8754 - 595ms/epoch - 149ms/step\n",
            "Epoch 243/500\n",
            "4/4 - 1s - loss: 4.2014e-04 - accuracy: 1.0000 - val_loss: 0.5570 - val_accuracy: 0.8754 - 600ms/epoch - 150ms/step\n",
            "Epoch 244/500\n",
            "4/4 - 1s - loss: 4.1442e-04 - accuracy: 1.0000 - val_loss: 0.5566 - val_accuracy: 0.8754 - 591ms/epoch - 148ms/step\n",
            "Epoch 245/500\n",
            "4/4 - 1s - loss: 3.8057e-04 - accuracy: 1.0000 - val_loss: 0.5578 - val_accuracy: 0.8754 - 601ms/epoch - 150ms/step\n",
            "Epoch 246/500\n",
            "4/4 - 1s - loss: 4.3159e-04 - accuracy: 1.0000 - val_loss: 0.5591 - val_accuracy: 0.8722 - 606ms/epoch - 152ms/step\n",
            "Epoch 247/500\n",
            "4/4 - 1s - loss: 3.8353e-04 - accuracy: 1.0000 - val_loss: 0.5584 - val_accuracy: 0.8722 - 588ms/epoch - 147ms/step\n",
            "Epoch 248/500\n",
            "4/4 - 1s - loss: 4.2428e-04 - accuracy: 1.0000 - val_loss: 0.5597 - val_accuracy: 0.8722 - 602ms/epoch - 150ms/step\n",
            "Epoch 249/500\n",
            "4/4 - 1s - loss: 4.6116e-04 - accuracy: 1.0000 - val_loss: 0.5587 - val_accuracy: 0.8690 - 598ms/epoch - 150ms/step\n",
            "Epoch 250/500\n",
            "4/4 - 1s - loss: 4.2920e-04 - accuracy: 1.0000 - val_loss: 0.5581 - val_accuracy: 0.8722 - 626ms/epoch - 156ms/step\n",
            "Epoch 251/500\n",
            "4/4 - 1s - loss: 4.0670e-04 - accuracy: 1.0000 - val_loss: 0.5595 - val_accuracy: 0.8722 - 613ms/epoch - 153ms/step\n",
            "Epoch 252/500\n",
            "4/4 - 1s - loss: 4.0119e-04 - accuracy: 1.0000 - val_loss: 0.5609 - val_accuracy: 0.8754 - 594ms/epoch - 149ms/step\n",
            "Epoch 253/500\n",
            "4/4 - 1s - loss: 3.6057e-04 - accuracy: 1.0000 - val_loss: 0.5605 - val_accuracy: 0.8754 - 600ms/epoch - 150ms/step\n",
            "Epoch 254/500\n",
            "4/4 - 1s - loss: 3.7857e-04 - accuracy: 1.0000 - val_loss: 0.5608 - val_accuracy: 0.8754 - 595ms/epoch - 149ms/step\n",
            "Epoch 255/500\n",
            "4/4 - 1s - loss: 3.5722e-04 - accuracy: 1.0000 - val_loss: 0.5608 - val_accuracy: 0.8754 - 612ms/epoch - 153ms/step\n",
            "Epoch 256/500\n",
            "4/4 - 1s - loss: 3.3616e-04 - accuracy: 1.0000 - val_loss: 0.5616 - val_accuracy: 0.8786 - 601ms/epoch - 150ms/step\n",
            "Epoch 257/500\n",
            "4/4 - 1s - loss: 3.7557e-04 - accuracy: 1.0000 - val_loss: 0.5623 - val_accuracy: 0.8786 - 613ms/epoch - 153ms/step\n",
            "Epoch 258/500\n",
            "4/4 - 1s - loss: 3.6735e-04 - accuracy: 1.0000 - val_loss: 0.5626 - val_accuracy: 0.8754 - 612ms/epoch - 153ms/step\n",
            "Epoch 259/500\n",
            "4/4 - 1s - loss: 3.4127e-04 - accuracy: 1.0000 - val_loss: 0.5631 - val_accuracy: 0.8786 - 600ms/epoch - 150ms/step\n",
            "Epoch 260/500\n",
            "4/4 - 1s - loss: 3.8080e-04 - accuracy: 1.0000 - val_loss: 0.5626 - val_accuracy: 0.8786 - 614ms/epoch - 153ms/step\n",
            "Epoch 261/500\n",
            "4/4 - 1s - loss: 3.7813e-04 - accuracy: 1.0000 - val_loss: 0.5628 - val_accuracy: 0.8722 - 590ms/epoch - 148ms/step\n",
            "Epoch 262/500\n",
            "4/4 - 1s - loss: 4.0928e-04 - accuracy: 1.0000 - val_loss: 0.5635 - val_accuracy: 0.8754 - 609ms/epoch - 152ms/step\n",
            "Epoch 263/500\n",
            "4/4 - 1s - loss: 4.2749e-04 - accuracy: 1.0000 - val_loss: 0.5645 - val_accuracy: 0.8722 - 626ms/epoch - 157ms/step\n",
            "Epoch 264/500\n",
            "4/4 - 1s - loss: 4.0577e-04 - accuracy: 1.0000 - val_loss: 0.5650 - val_accuracy: 0.8754 - 602ms/epoch - 151ms/step\n",
            "Epoch 265/500\n",
            "4/4 - 1s - loss: 3.7387e-04 - accuracy: 1.0000 - val_loss: 0.5653 - val_accuracy: 0.8754 - 608ms/epoch - 152ms/step\n",
            "Epoch 266/500\n",
            "4/4 - 1s - loss: 3.6307e-04 - accuracy: 1.0000 - val_loss: 0.5659 - val_accuracy: 0.8722 - 601ms/epoch - 150ms/step\n",
            "Epoch 267/500\n",
            "4/4 - 1s - loss: 3.3814e-04 - accuracy: 1.0000 - val_loss: 0.5656 - val_accuracy: 0.8722 - 612ms/epoch - 153ms/step\n",
            "Epoch 268/500\n",
            "4/4 - 1s - loss: 3.8697e-04 - accuracy: 1.0000 - val_loss: 0.5648 - val_accuracy: 0.8722 - 606ms/epoch - 152ms/step\n",
            "Epoch 269/500\n",
            "4/4 - 1s - loss: 3.4447e-04 - accuracy: 1.0000 - val_loss: 0.5668 - val_accuracy: 0.8722 - 585ms/epoch - 146ms/step\n",
            "Epoch 270/500\n",
            "4/4 - 1s - loss: 3.5013e-04 - accuracy: 1.0000 - val_loss: 0.5694 - val_accuracy: 0.8722 - 601ms/epoch - 150ms/step\n",
            "Epoch 271/500\n",
            "4/4 - 1s - loss: 3.5298e-04 - accuracy: 1.0000 - val_loss: 0.5703 - val_accuracy: 0.8722 - 586ms/epoch - 146ms/step\n",
            "Epoch 272/500\n",
            "4/4 - 1s - loss: 3.5313e-04 - accuracy: 1.0000 - val_loss: 0.5710 - val_accuracy: 0.8722 - 602ms/epoch - 151ms/step\n",
            "Epoch 273/500\n",
            "4/4 - 1s - loss: 3.3166e-04 - accuracy: 1.0000 - val_loss: 0.5706 - val_accuracy: 0.8722 - 601ms/epoch - 150ms/step\n",
            "Epoch 274/500\n",
            "4/4 - 1s - loss: 3.3046e-04 - accuracy: 1.0000 - val_loss: 0.5696 - val_accuracy: 0.8722 - 596ms/epoch - 149ms/step\n",
            "Epoch 275/500\n",
            "4/4 - 1s - loss: 3.1302e-04 - accuracy: 1.0000 - val_loss: 0.5691 - val_accuracy: 0.8722 - 602ms/epoch - 151ms/step\n",
            "Epoch 276/500\n",
            "4/4 - 1s - loss: 3.0945e-04 - accuracy: 1.0000 - val_loss: 0.5686 - val_accuracy: 0.8754 - 616ms/epoch - 154ms/step\n",
            "Epoch 277/500\n",
            "4/4 - 1s - loss: 3.9357e-04 - accuracy: 1.0000 - val_loss: 0.5673 - val_accuracy: 0.8786 - 606ms/epoch - 151ms/step\n",
            "Epoch 278/500\n",
            "4/4 - 1s - loss: 3.1448e-04 - accuracy: 1.0000 - val_loss: 0.5677 - val_accuracy: 0.8754 - 593ms/epoch - 148ms/step\n",
            "Epoch 279/500\n",
            "4/4 - 1s - loss: 3.2199e-04 - accuracy: 1.0000 - val_loss: 0.5692 - val_accuracy: 0.8722 - 601ms/epoch - 150ms/step\n",
            "Epoch 280/500\n",
            "4/4 - 1s - loss: 3.3585e-04 - accuracy: 1.0000 - val_loss: 0.5702 - val_accuracy: 0.8690 - 607ms/epoch - 152ms/step\n",
            "Epoch 281/500\n",
            "4/4 - 1s - loss: 2.7483e-04 - accuracy: 1.0000 - val_loss: 0.5709 - val_accuracy: 0.8690 - 585ms/epoch - 146ms/step\n",
            "Epoch 282/500\n",
            "4/4 - 1s - loss: 2.8289e-04 - accuracy: 1.0000 - val_loss: 0.5716 - val_accuracy: 0.8690 - 606ms/epoch - 151ms/step\n",
            "Epoch 283/500\n",
            "4/4 - 1s - loss: 3.1184e-04 - accuracy: 1.0000 - val_loss: 0.5718 - val_accuracy: 0.8754 - 592ms/epoch - 148ms/step\n",
            "Epoch 284/500\n",
            "4/4 - 1s - loss: 3.0728e-04 - accuracy: 1.0000 - val_loss: 0.5721 - val_accuracy: 0.8754 - 605ms/epoch - 151ms/step\n",
            "Epoch 285/500\n",
            "4/4 - 1s - loss: 3.1309e-04 - accuracy: 1.0000 - val_loss: 0.5730 - val_accuracy: 0.8754 - 601ms/epoch - 150ms/step\n",
            "Epoch 286/500\n",
            "4/4 - 1s - loss: 2.9450e-04 - accuracy: 1.0000 - val_loss: 0.5723 - val_accuracy: 0.8754 - 593ms/epoch - 148ms/step\n",
            "Epoch 287/500\n",
            "4/4 - 1s - loss: 3.1104e-04 - accuracy: 1.0000 - val_loss: 0.5721 - val_accuracy: 0.8754 - 603ms/epoch - 151ms/step\n",
            "Epoch 288/500\n",
            "4/4 - 1s - loss: 3.0474e-04 - accuracy: 1.0000 - val_loss: 0.5740 - val_accuracy: 0.8722 - 592ms/epoch - 148ms/step\n",
            "Epoch 289/500\n",
            "4/4 - 1s - loss: 3.5896e-04 - accuracy: 1.0000 - val_loss: 0.5763 - val_accuracy: 0.8690 - 601ms/epoch - 150ms/step\n",
            "Epoch 290/500\n",
            "4/4 - 1s - loss: 2.8735e-04 - accuracy: 1.0000 - val_loss: 0.5778 - val_accuracy: 0.8690 - 605ms/epoch - 151ms/step\n",
            "Epoch 291/500\n",
            "4/4 - 1s - loss: 3.3038e-04 - accuracy: 1.0000 - val_loss: 0.5788 - val_accuracy: 0.8690 - 592ms/epoch - 148ms/step\n",
            "Epoch 292/500\n",
            "4/4 - 1s - loss: 3.0589e-04 - accuracy: 1.0000 - val_loss: 0.5797 - val_accuracy: 0.8690 - 600ms/epoch - 150ms/step\n",
            "Epoch 293/500\n",
            "4/4 - 1s - loss: 2.7436e-04 - accuracy: 1.0000 - val_loss: 0.5795 - val_accuracy: 0.8690 - 636ms/epoch - 159ms/step\n",
            "Epoch 294/500\n",
            "4/4 - 1s - loss: 2.7930e-04 - accuracy: 1.0000 - val_loss: 0.5782 - val_accuracy: 0.8690 - 1s/epoch - 253ms/step\n",
            "Epoch 295/500\n",
            "4/4 - 1s - loss: 3.0705e-04 - accuracy: 1.0000 - val_loss: 0.5768 - val_accuracy: 0.8690 - 1s/epoch - 267ms/step\n",
            "Epoch 296/500\n",
            "4/4 - 1s - loss: 3.1917e-04 - accuracy: 1.0000 - val_loss: 0.5770 - val_accuracy: 0.8690 - 1s/epoch - 272ms/step\n",
            "Epoch 297/500\n",
            "4/4 - 1s - loss: 3.0273e-04 - accuracy: 1.0000 - val_loss: 0.5763 - val_accuracy: 0.8722 - 768ms/epoch - 192ms/step\n",
            "Epoch 298/500\n",
            "4/4 - 1s - loss: 3.1726e-04 - accuracy: 1.0000 - val_loss: 0.5764 - val_accuracy: 0.8722 - 618ms/epoch - 155ms/step\n",
            "Epoch 299/500\n",
            "4/4 - 1s - loss: 3.0438e-04 - accuracy: 1.0000 - val_loss: 0.5763 - val_accuracy: 0.8754 - 600ms/epoch - 150ms/step\n",
            "Epoch 300/500\n",
            "4/4 - 1s - loss: 2.8890e-04 - accuracy: 1.0000 - val_loss: 0.5746 - val_accuracy: 0.8754 - 602ms/epoch - 150ms/step\n",
            "Epoch 301/500\n",
            "4/4 - 1s - loss: 3.1515e-04 - accuracy: 1.0000 - val_loss: 0.5741 - val_accuracy: 0.8754 - 593ms/epoch - 148ms/step\n",
            "Epoch 302/500\n",
            "4/4 - 1s - loss: 2.6340e-04 - accuracy: 1.0000 - val_loss: 0.5740 - val_accuracy: 0.8786 - 596ms/epoch - 149ms/step\n",
            "Epoch 303/500\n",
            "4/4 - 1s - loss: 2.8055e-04 - accuracy: 1.0000 - val_loss: 0.5726 - val_accuracy: 0.8786 - 603ms/epoch - 151ms/step\n",
            "Epoch 304/500\n",
            "4/4 - 1s - loss: 2.6826e-04 - accuracy: 1.0000 - val_loss: 0.5709 - val_accuracy: 0.8754 - 585ms/epoch - 146ms/step\n",
            "Epoch 305/500\n",
            "4/4 - 1s - loss: 3.0385e-04 - accuracy: 1.0000 - val_loss: 0.5697 - val_accuracy: 0.8722 - 592ms/epoch - 148ms/step\n",
            "Epoch 306/500\n",
            "4/4 - 1s - loss: 2.6669e-04 - accuracy: 1.0000 - val_loss: 0.5704 - val_accuracy: 0.8722 - 588ms/epoch - 147ms/step\n",
            "Epoch 307/500\n",
            "4/4 - 1s - loss: 2.4470e-04 - accuracy: 1.0000 - val_loss: 0.5710 - val_accuracy: 0.8690 - 618ms/epoch - 154ms/step\n",
            "Epoch 308/500\n",
            "4/4 - 1s - loss: 2.9440e-04 - accuracy: 1.0000 - val_loss: 0.5717 - val_accuracy: 0.8690 - 607ms/epoch - 152ms/step\n",
            "Epoch 309/500\n",
            "4/4 - 1s - loss: 3.0016e-04 - accuracy: 1.0000 - val_loss: 0.5738 - val_accuracy: 0.8690 - 618ms/epoch - 154ms/step\n",
            "Epoch 310/500\n",
            "4/4 - 1s - loss: 2.5790e-04 - accuracy: 1.0000 - val_loss: 0.5762 - val_accuracy: 0.8690 - 604ms/epoch - 151ms/step\n",
            "Epoch 311/500\n",
            "4/4 - 1s - loss: 2.5177e-04 - accuracy: 1.0000 - val_loss: 0.5779 - val_accuracy: 0.8690 - 593ms/epoch - 148ms/step\n",
            "Epoch 312/500\n",
            "4/4 - 1s - loss: 2.5532e-04 - accuracy: 1.0000 - val_loss: 0.5786 - val_accuracy: 0.8690 - 603ms/epoch - 151ms/step\n",
            "Epoch 313/500\n",
            "4/4 - 1s - loss: 2.9682e-04 - accuracy: 1.0000 - val_loss: 0.5799 - val_accuracy: 0.8722 - 611ms/epoch - 153ms/step\n",
            "Epoch 314/500\n",
            "4/4 - 1s - loss: 2.3511e-04 - accuracy: 1.0000 - val_loss: 0.5814 - val_accuracy: 0.8722 - 599ms/epoch - 150ms/step\n",
            "Epoch 315/500\n",
            "4/4 - 1s - loss: 2.8856e-04 - accuracy: 1.0000 - val_loss: 0.5804 - val_accuracy: 0.8722 - 600ms/epoch - 150ms/step\n",
            "Epoch 316/500\n",
            "4/4 - 1s - loss: 2.7571e-04 - accuracy: 1.0000 - val_loss: 0.5780 - val_accuracy: 0.8722 - 588ms/epoch - 147ms/step\n",
            "Epoch 317/500\n",
            "4/4 - 1s - loss: 2.4967e-04 - accuracy: 1.0000 - val_loss: 0.5755 - val_accuracy: 0.8722 - 608ms/epoch - 152ms/step\n",
            "Epoch 318/500\n",
            "4/4 - 1s - loss: 2.9524e-04 - accuracy: 1.0000 - val_loss: 0.5754 - val_accuracy: 0.8690 - 612ms/epoch - 153ms/step\n",
            "Epoch 319/500\n",
            "4/4 - 1s - loss: 2.7247e-04 - accuracy: 1.0000 - val_loss: 0.5750 - val_accuracy: 0.8722 - 594ms/epoch - 149ms/step\n",
            "Epoch 320/500\n",
            "4/4 - 1s - loss: 2.4027e-04 - accuracy: 1.0000 - val_loss: 0.5747 - val_accuracy: 0.8722 - 601ms/epoch - 150ms/step\n",
            "Epoch 321/500\n",
            "4/4 - 1s - loss: 2.3141e-04 - accuracy: 1.0000 - val_loss: 0.5749 - val_accuracy: 0.8754 - 590ms/epoch - 148ms/step\n",
            "Epoch 322/500\n",
            "4/4 - 1s - loss: 2.3981e-04 - accuracy: 1.0000 - val_loss: 0.5756 - val_accuracy: 0.8786 - 612ms/epoch - 153ms/step\n",
            "Epoch 323/500\n",
            "4/4 - 1s - loss: 2.5618e-04 - accuracy: 1.0000 - val_loss: 0.5780 - val_accuracy: 0.8786 - 597ms/epoch - 149ms/step\n",
            "Epoch 324/500\n",
            "4/4 - 1s - loss: 2.2721e-04 - accuracy: 1.0000 - val_loss: 0.5816 - val_accuracy: 0.8786 - 600ms/epoch - 150ms/step\n",
            "Epoch 325/500\n",
            "4/4 - 1s - loss: 2.7319e-04 - accuracy: 1.0000 - val_loss: 0.5841 - val_accuracy: 0.8786 - 603ms/epoch - 151ms/step\n",
            "Epoch 326/500\n",
            "4/4 - 1s - loss: 2.6010e-04 - accuracy: 1.0000 - val_loss: 0.5843 - val_accuracy: 0.8754 - 597ms/epoch - 149ms/step\n",
            "Epoch 327/500\n",
            "4/4 - 1s - loss: 2.5742e-04 - accuracy: 1.0000 - val_loss: 0.5848 - val_accuracy: 0.8754 - 623ms/epoch - 156ms/step\n",
            "Epoch 328/500\n",
            "4/4 - 1s - loss: 2.1589e-04 - accuracy: 1.0000 - val_loss: 0.5853 - val_accuracy: 0.8754 - 591ms/epoch - 148ms/step\n",
            "Epoch 329/500\n",
            "4/4 - 1s - loss: 2.3569e-04 - accuracy: 1.0000 - val_loss: 0.5843 - val_accuracy: 0.8754 - 619ms/epoch - 155ms/step\n",
            "Epoch 330/500\n",
            "4/4 - 1s - loss: 2.5872e-04 - accuracy: 1.0000 - val_loss: 0.5831 - val_accuracy: 0.8722 - 603ms/epoch - 151ms/step\n",
            "Epoch 331/500\n",
            "4/4 - 1s - loss: 2.6788e-04 - accuracy: 1.0000 - val_loss: 0.5820 - val_accuracy: 0.8754 - 606ms/epoch - 151ms/step\n",
            "Epoch 332/500\n",
            "4/4 - 1s - loss: 2.5017e-04 - accuracy: 1.0000 - val_loss: 0.5807 - val_accuracy: 0.8754 - 605ms/epoch - 151ms/step\n",
            "Epoch 333/500\n",
            "4/4 - 1s - loss: 2.4480e-04 - accuracy: 1.0000 - val_loss: 0.5799 - val_accuracy: 0.8754 - 587ms/epoch - 147ms/step\n",
            "Epoch 334/500\n",
            "4/4 - 1s - loss: 2.3461e-04 - accuracy: 1.0000 - val_loss: 0.5821 - val_accuracy: 0.8754 - 604ms/epoch - 151ms/step\n",
            "Epoch 335/500\n",
            "4/4 - 1s - loss: 2.6886e-04 - accuracy: 1.0000 - val_loss: 0.5841 - val_accuracy: 0.8754 - 594ms/epoch - 149ms/step\n",
            "Epoch 336/500\n",
            "4/4 - 1s - loss: 2.5100e-04 - accuracy: 1.0000 - val_loss: 0.5852 - val_accuracy: 0.8722 - 601ms/epoch - 150ms/step\n",
            "Epoch 337/500\n",
            "4/4 - 1s - loss: 1.9657e-04 - accuracy: 1.0000 - val_loss: 0.5890 - val_accuracy: 0.8754 - 594ms/epoch - 149ms/step\n",
            "Epoch 338/500\n",
            "4/4 - 1s - loss: 2.1852e-04 - accuracy: 1.0000 - val_loss: 0.5910 - val_accuracy: 0.8786 - 615ms/epoch - 154ms/step\n",
            "Epoch 339/500\n",
            "4/4 - 1s - loss: 2.1877e-04 - accuracy: 1.0000 - val_loss: 0.5910 - val_accuracy: 0.8754 - 607ms/epoch - 152ms/step\n",
            "Epoch 340/500\n",
            "4/4 - 1s - loss: 2.2440e-04 - accuracy: 1.0000 - val_loss: 0.5891 - val_accuracy: 0.8754 - 598ms/epoch - 150ms/step\n",
            "Epoch 341/500\n",
            "4/4 - 1s - loss: 2.2570e-04 - accuracy: 1.0000 - val_loss: 0.5878 - val_accuracy: 0.8754 - 605ms/epoch - 151ms/step\n",
            "Epoch 342/500\n",
            "4/4 - 1s - loss: 2.2290e-04 - accuracy: 1.0000 - val_loss: 0.5881 - val_accuracy: 0.8754 - 600ms/epoch - 150ms/step\n",
            "Epoch 343/500\n",
            "4/4 - 1s - loss: 2.1626e-04 - accuracy: 1.0000 - val_loss: 0.5874 - val_accuracy: 0.8754 - 607ms/epoch - 152ms/step\n",
            "Epoch 344/500\n",
            "4/4 - 1s - loss: 2.3525e-04 - accuracy: 1.0000 - val_loss: 0.5874 - val_accuracy: 0.8722 - 626ms/epoch - 157ms/step\n",
            "Epoch 345/500\n",
            "4/4 - 1s - loss: 2.1140e-04 - accuracy: 1.0000 - val_loss: 0.5883 - val_accuracy: 0.8722 - 584ms/epoch - 146ms/step\n",
            "Epoch 346/500\n",
            "4/4 - 1s - loss: 2.0283e-04 - accuracy: 1.0000 - val_loss: 0.5879 - val_accuracy: 0.8722 - 607ms/epoch - 152ms/step\n",
            "Epoch 347/500\n",
            "4/4 - 1s - loss: 2.0649e-04 - accuracy: 1.0000 - val_loss: 0.5872 - val_accuracy: 0.8722 - 606ms/epoch - 151ms/step\n",
            "Epoch 348/500\n",
            "4/4 - 1s - loss: 1.9295e-04 - accuracy: 1.0000 - val_loss: 0.5869 - val_accuracy: 0.8754 - 610ms/epoch - 153ms/step\n",
            "Epoch 349/500\n",
            "4/4 - 1s - loss: 1.8221e-04 - accuracy: 1.0000 - val_loss: 0.5876 - val_accuracy: 0.8754 - 614ms/epoch - 154ms/step\n",
            "Epoch 350/500\n",
            "4/4 - 1s - loss: 2.2247e-04 - accuracy: 1.0000 - val_loss: 0.5883 - val_accuracy: 0.8754 - 598ms/epoch - 150ms/step\n",
            "Epoch 351/500\n",
            "4/4 - 1s - loss: 1.7861e-04 - accuracy: 1.0000 - val_loss: 0.5894 - val_accuracy: 0.8722 - 599ms/epoch - 150ms/step\n",
            "Epoch 352/500\n",
            "4/4 - 1s - loss: 1.9261e-04 - accuracy: 1.0000 - val_loss: 0.5907 - val_accuracy: 0.8722 - 602ms/epoch - 150ms/step\n",
            "Epoch 353/500\n",
            "4/4 - 1s - loss: 1.9512e-04 - accuracy: 1.0000 - val_loss: 0.5923 - val_accuracy: 0.8722 - 608ms/epoch - 152ms/step\n",
            "Epoch 354/500\n",
            "4/4 - 1s - loss: 2.1628e-04 - accuracy: 1.0000 - val_loss: 0.5938 - val_accuracy: 0.8722 - 614ms/epoch - 154ms/step\n",
            "Epoch 355/500\n",
            "4/4 - 1s - loss: 1.8647e-04 - accuracy: 1.0000 - val_loss: 0.5947 - val_accuracy: 0.8722 - 611ms/epoch - 153ms/step\n",
            "Epoch 356/500\n",
            "4/4 - 1s - loss: 2.4409e-04 - accuracy: 1.0000 - val_loss: 0.5944 - val_accuracy: 0.8754 - 607ms/epoch - 152ms/step\n",
            "Epoch 357/500\n",
            "4/4 - 1s - loss: 1.9645e-04 - accuracy: 1.0000 - val_loss: 0.5936 - val_accuracy: 0.8786 - 597ms/epoch - 149ms/step\n",
            "Epoch 358/500\n",
            "4/4 - 1s - loss: 1.8199e-04 - accuracy: 1.0000 - val_loss: 0.5921 - val_accuracy: 0.8786 - 603ms/epoch - 151ms/step\n",
            "Epoch 359/500\n",
            "4/4 - 1s - loss: 1.9755e-04 - accuracy: 1.0000 - val_loss: 0.5905 - val_accuracy: 0.8818 - 594ms/epoch - 149ms/step\n",
            "Epoch 360/500\n",
            "4/4 - 1s - loss: 1.9544e-04 - accuracy: 1.0000 - val_loss: 0.5903 - val_accuracy: 0.8818 - 612ms/epoch - 153ms/step\n",
            "Epoch 361/500\n",
            "4/4 - 1s - loss: 1.8153e-04 - accuracy: 1.0000 - val_loss: 0.5902 - val_accuracy: 0.8818 - 621ms/epoch - 155ms/step\n",
            "Epoch 362/500\n",
            "4/4 - 1s - loss: 1.8225e-04 - accuracy: 1.0000 - val_loss: 0.5898 - val_accuracy: 0.8818 - 592ms/epoch - 148ms/step\n",
            "Epoch 363/500\n",
            "4/4 - 1s - loss: 1.9455e-04 - accuracy: 1.0000 - val_loss: 0.5898 - val_accuracy: 0.8786 - 609ms/epoch - 152ms/step\n",
            "Epoch 364/500\n",
            "4/4 - 1s - loss: 1.9899e-04 - accuracy: 1.0000 - val_loss: 0.5906 - val_accuracy: 0.8786 - 595ms/epoch - 149ms/step\n",
            "Epoch 365/500\n",
            "4/4 - 1s - loss: 2.1137e-04 - accuracy: 1.0000 - val_loss: 0.5912 - val_accuracy: 0.8754 - 605ms/epoch - 151ms/step\n",
            "Epoch 366/500\n",
            "4/4 - 1s - loss: 1.8692e-04 - accuracy: 1.0000 - val_loss: 0.5924 - val_accuracy: 0.8722 - 603ms/epoch - 151ms/step\n",
            "Epoch 367/500\n",
            "4/4 - 1s - loss: 1.8049e-04 - accuracy: 1.0000 - val_loss: 0.5938 - val_accuracy: 0.8722 - 605ms/epoch - 151ms/step\n",
            "Epoch 368/500\n",
            "4/4 - 1s - loss: 2.0230e-04 - accuracy: 1.0000 - val_loss: 0.5949 - val_accuracy: 0.8690 - 614ms/epoch - 153ms/step\n",
            "Epoch 369/500\n",
            "4/4 - 1s - loss: 1.9899e-04 - accuracy: 1.0000 - val_loss: 0.5947 - val_accuracy: 0.8754 - 594ms/epoch - 148ms/step\n",
            "Epoch 370/500\n",
            "4/4 - 1s - loss: 1.9870e-04 - accuracy: 1.0000 - val_loss: 0.5945 - val_accuracy: 0.8754 - 604ms/epoch - 151ms/step\n",
            "Epoch 371/500\n",
            "4/4 - 1s - loss: 1.9810e-04 - accuracy: 1.0000 - val_loss: 0.5938 - val_accuracy: 0.8754 - 601ms/epoch - 150ms/step\n",
            "Epoch 372/500\n",
            "4/4 - 1s - loss: 2.0852e-04 - accuracy: 1.0000 - val_loss: 0.5940 - val_accuracy: 0.8786 - 603ms/epoch - 151ms/step\n",
            "Epoch 373/500\n",
            "4/4 - 1s - loss: 1.6149e-04 - accuracy: 1.0000 - val_loss: 0.5957 - val_accuracy: 0.8754 - 608ms/epoch - 152ms/step\n",
            "Epoch 374/500\n",
            "4/4 - 1s - loss: 1.6652e-04 - accuracy: 1.0000 - val_loss: 0.5969 - val_accuracy: 0.8754 - 592ms/epoch - 148ms/step\n",
            "Epoch 375/500\n",
            "4/4 - 1s - loss: 1.9164e-04 - accuracy: 1.0000 - val_loss: 0.5975 - val_accuracy: 0.8786 - 596ms/epoch - 149ms/step\n",
            "Epoch 376/500\n",
            "4/4 - 1s - loss: 1.8770e-04 - accuracy: 1.0000 - val_loss: 0.5981 - val_accuracy: 0.8818 - 605ms/epoch - 151ms/step\n",
            "Epoch 377/500\n",
            "4/4 - 1s - loss: 1.8100e-04 - accuracy: 1.0000 - val_loss: 0.5979 - val_accuracy: 0.8818 - 593ms/epoch - 148ms/step\n",
            "Epoch 378/500\n",
            "4/4 - 1s - loss: 1.7331e-04 - accuracy: 1.0000 - val_loss: 0.5970 - val_accuracy: 0.8818 - 598ms/epoch - 149ms/step\n",
            "Epoch 379/500\n",
            "4/4 - 1s - loss: 1.5515e-04 - accuracy: 1.0000 - val_loss: 0.5961 - val_accuracy: 0.8818 - 611ms/epoch - 153ms/step\n",
            "Epoch 380/500\n",
            "4/4 - 1s - loss: 1.7268e-04 - accuracy: 1.0000 - val_loss: 0.5959 - val_accuracy: 0.8818 - 605ms/epoch - 151ms/step\n",
            "Epoch 381/500\n",
            "4/4 - 1s - loss: 1.7186e-04 - accuracy: 1.0000 - val_loss: 0.5950 - val_accuracy: 0.8850 - 705ms/epoch - 176ms/step\n",
            "Epoch 382/500\n",
            "4/4 - 1s - loss: 1.6185e-04 - accuracy: 1.0000 - val_loss: 0.5935 - val_accuracy: 0.8818 - 603ms/epoch - 151ms/step\n",
            "Epoch 383/500\n",
            "4/4 - 1s - loss: 2.1787e-04 - accuracy: 1.0000 - val_loss: 0.5935 - val_accuracy: 0.8786 - 609ms/epoch - 152ms/step\n",
            "Epoch 384/500\n",
            "4/4 - 1s - loss: 1.6070e-04 - accuracy: 1.0000 - val_loss: 0.5932 - val_accuracy: 0.8818 - 593ms/epoch - 148ms/step\n",
            "Epoch 385/500\n",
            "4/4 - 1s - loss: 1.7459e-04 - accuracy: 1.0000 - val_loss: 0.5939 - val_accuracy: 0.8786 - 598ms/epoch - 150ms/step\n",
            "Epoch 386/500\n",
            "4/4 - 1s - loss: 1.6973e-04 - accuracy: 1.0000 - val_loss: 0.5947 - val_accuracy: 0.8786 - 589ms/epoch - 147ms/step\n",
            "Epoch 387/500\n",
            "4/4 - 1s - loss: 1.7832e-04 - accuracy: 1.0000 - val_loss: 0.5954 - val_accuracy: 0.8786 - 617ms/epoch - 154ms/step\n",
            "Epoch 388/500\n",
            "4/4 - 1s - loss: 1.4785e-04 - accuracy: 1.0000 - val_loss: 0.5967 - val_accuracy: 0.8818 - 604ms/epoch - 151ms/step\n",
            "Epoch 389/500\n",
            "4/4 - 1s - loss: 1.7239e-04 - accuracy: 1.0000 - val_loss: 0.5975 - val_accuracy: 0.8754 - 590ms/epoch - 147ms/step\n",
            "Epoch 390/500\n",
            "4/4 - 1s - loss: 1.6388e-04 - accuracy: 1.0000 - val_loss: 0.5982 - val_accuracy: 0.8754 - 599ms/epoch - 150ms/step\n",
            "Epoch 391/500\n",
            "4/4 - 1s - loss: 1.5238e-04 - accuracy: 1.0000 - val_loss: 0.5979 - val_accuracy: 0.8786 - 594ms/epoch - 149ms/step\n",
            "Epoch 392/500\n",
            "4/4 - 1s - loss: 1.6240e-04 - accuracy: 1.0000 - val_loss: 0.5964 - val_accuracy: 0.8818 - 597ms/epoch - 149ms/step\n",
            "Epoch 393/500\n",
            "4/4 - 1s - loss: 1.6449e-04 - accuracy: 1.0000 - val_loss: 0.5952 - val_accuracy: 0.8786 - 601ms/epoch - 150ms/step\n",
            "Epoch 394/500\n",
            "4/4 - 1s - loss: 1.8062e-04 - accuracy: 1.0000 - val_loss: 0.5945 - val_accuracy: 0.8818 - 586ms/epoch - 147ms/step\n",
            "Epoch 395/500\n",
            "4/4 - 1s - loss: 1.4818e-04 - accuracy: 1.0000 - val_loss: 0.5946 - val_accuracy: 0.8786 - 608ms/epoch - 152ms/step\n",
            "Epoch 396/500\n",
            "4/4 - 1s - loss: 1.3956e-04 - accuracy: 1.0000 - val_loss: 0.5953 - val_accuracy: 0.8754 - 614ms/epoch - 154ms/step\n",
            "Epoch 397/500\n",
            "4/4 - 1s - loss: 1.5403e-04 - accuracy: 1.0000 - val_loss: 0.5965 - val_accuracy: 0.8754 - 614ms/epoch - 153ms/step\n",
            "Epoch 398/500\n",
            "4/4 - 1s - loss: 1.4666e-04 - accuracy: 1.0000 - val_loss: 0.5964 - val_accuracy: 0.8754 - 599ms/epoch - 150ms/step\n",
            "Epoch 399/500\n",
            "4/4 - 1s - loss: 1.5186e-04 - accuracy: 1.0000 - val_loss: 0.5968 - val_accuracy: 0.8754 - 593ms/epoch - 148ms/step\n",
            "Epoch 400/500\n",
            "4/4 - 1s - loss: 1.5075e-04 - accuracy: 1.0000 - val_loss: 0.5977 - val_accuracy: 0.8754 - 600ms/epoch - 150ms/step\n",
            "Epoch 401/500\n",
            "4/4 - 1s - loss: 1.5374e-04 - accuracy: 1.0000 - val_loss: 0.5987 - val_accuracy: 0.8722 - 589ms/epoch - 147ms/step\n",
            "Epoch 402/500\n",
            "4/4 - 1s - loss: 1.4798e-04 - accuracy: 1.0000 - val_loss: 0.5990 - val_accuracy: 0.8754 - 601ms/epoch - 150ms/step\n",
            "Epoch 403/500\n",
            "4/4 - 1s - loss: 1.3951e-04 - accuracy: 1.0000 - val_loss: 0.5988 - val_accuracy: 0.8754 - 592ms/epoch - 148ms/step\n",
            "Epoch 404/500\n",
            "4/4 - 1s - loss: 1.5543e-04 - accuracy: 1.0000 - val_loss: 0.5995 - val_accuracy: 0.8754 - 605ms/epoch - 151ms/step\n",
            "Epoch 405/500\n",
            "4/4 - 1s - loss: 1.6335e-04 - accuracy: 1.0000 - val_loss: 0.5992 - val_accuracy: 0.8754 - 601ms/epoch - 150ms/step\n",
            "Epoch 406/500\n",
            "4/4 - 1s - loss: 1.7629e-04 - accuracy: 1.0000 - val_loss: 0.5977 - val_accuracy: 0.8754 - 609ms/epoch - 152ms/step\n",
            "Epoch 407/500\n",
            "4/4 - 1s - loss: 1.5133e-04 - accuracy: 1.0000 - val_loss: 0.5963 - val_accuracy: 0.8850 - 608ms/epoch - 152ms/step\n",
            "Epoch 408/500\n",
            "4/4 - 1s - loss: 1.2856e-04 - accuracy: 1.0000 - val_loss: 0.5961 - val_accuracy: 0.8818 - 594ms/epoch - 148ms/step\n",
            "Epoch 409/500\n",
            "4/4 - 1s - loss: 1.6083e-04 - accuracy: 1.0000 - val_loss: 0.5972 - val_accuracy: 0.8786 - 608ms/epoch - 152ms/step\n",
            "Epoch 410/500\n",
            "4/4 - 1s - loss: 1.7647e-04 - accuracy: 1.0000 - val_loss: 0.5986 - val_accuracy: 0.8818 - 605ms/epoch - 151ms/step\n",
            "Epoch 411/500\n",
            "4/4 - 1s - loss: 1.4047e-04 - accuracy: 1.0000 - val_loss: 0.5994 - val_accuracy: 0.8786 - 593ms/epoch - 148ms/step\n",
            "Epoch 412/500\n",
            "4/4 - 1s - loss: 1.5118e-04 - accuracy: 1.0000 - val_loss: 0.6004 - val_accuracy: 0.8786 - 609ms/epoch - 152ms/step\n",
            "Epoch 413/500\n",
            "4/4 - 1s - loss: 1.5596e-04 - accuracy: 1.0000 - val_loss: 0.6012 - val_accuracy: 0.8786 - 599ms/epoch - 150ms/step\n",
            "Epoch 414/500\n",
            "4/4 - 1s - loss: 1.7741e-04 - accuracy: 1.0000 - val_loss: 0.6026 - val_accuracy: 0.8754 - 631ms/epoch - 158ms/step\n",
            "Epoch 415/500\n",
            "4/4 - 1s - loss: 1.4250e-04 - accuracy: 1.0000 - val_loss: 0.6030 - val_accuracy: 0.8754 - 601ms/epoch - 150ms/step\n",
            "Epoch 416/500\n",
            "4/4 - 1s - loss: 1.3036e-04 - accuracy: 1.0000 - val_loss: 0.6031 - val_accuracy: 0.8754 - 595ms/epoch - 149ms/step\n",
            "Epoch 417/500\n",
            "4/4 - 1s - loss: 1.4445e-04 - accuracy: 1.0000 - val_loss: 0.6043 - val_accuracy: 0.8754 - 610ms/epoch - 152ms/step\n",
            "Epoch 418/500\n",
            "4/4 - 1s - loss: 1.7198e-04 - accuracy: 1.0000 - val_loss: 0.6060 - val_accuracy: 0.8818 - 589ms/epoch - 147ms/step\n",
            "Epoch 419/500\n",
            "4/4 - 1s - loss: 1.2381e-04 - accuracy: 1.0000 - val_loss: 0.6074 - val_accuracy: 0.8818 - 604ms/epoch - 151ms/step\n",
            "Epoch 420/500\n",
            "4/4 - 1s - loss: 1.3387e-04 - accuracy: 1.0000 - val_loss: 0.6080 - val_accuracy: 0.8786 - 588ms/epoch - 147ms/step\n",
            "Epoch 421/500\n",
            "4/4 - 1s - loss: 1.5834e-04 - accuracy: 1.0000 - val_loss: 0.6084 - val_accuracy: 0.8786 - 610ms/epoch - 152ms/step\n",
            "Epoch 422/500\n",
            "4/4 - 1s - loss: 1.2596e-04 - accuracy: 1.0000 - val_loss: 0.6077 - val_accuracy: 0.8754 - 599ms/epoch - 150ms/step\n",
            "Epoch 423/500\n",
            "4/4 - 1s - loss: 1.3455e-04 - accuracy: 1.0000 - val_loss: 0.6066 - val_accuracy: 0.8786 - 596ms/epoch - 149ms/step\n",
            "Epoch 424/500\n",
            "4/4 - 1s - loss: 1.4654e-04 - accuracy: 1.0000 - val_loss: 0.6056 - val_accuracy: 0.8786 - 615ms/epoch - 154ms/step\n",
            "Epoch 425/500\n",
            "4/4 - 1s - loss: 1.2738e-04 - accuracy: 1.0000 - val_loss: 0.6051 - val_accuracy: 0.8850 - 606ms/epoch - 152ms/step\n",
            "Epoch 426/500\n",
            "4/4 - 1s - loss: 1.3470e-04 - accuracy: 1.0000 - val_loss: 0.6055 - val_accuracy: 0.8850 - 604ms/epoch - 151ms/step\n",
            "Epoch 427/500\n",
            "4/4 - 1s - loss: 1.3594e-04 - accuracy: 1.0000 - val_loss: 0.6065 - val_accuracy: 0.8850 - 605ms/epoch - 151ms/step\n",
            "Epoch 428/500\n",
            "4/4 - 1s - loss: 1.2211e-04 - accuracy: 1.0000 - val_loss: 0.6067 - val_accuracy: 0.8850 - 592ms/epoch - 148ms/step\n",
            "Epoch 429/500\n",
            "4/4 - 1s - loss: 1.2974e-04 - accuracy: 1.0000 - val_loss: 0.6074 - val_accuracy: 0.8850 - 604ms/epoch - 151ms/step\n",
            "Epoch 430/500\n",
            "4/4 - 1s - loss: 1.5436e-04 - accuracy: 1.0000 - val_loss: 0.6078 - val_accuracy: 0.8850 - 593ms/epoch - 148ms/step\n",
            "Epoch 431/500\n",
            "4/4 - 1s - loss: 1.3110e-04 - accuracy: 1.0000 - val_loss: 0.6084 - val_accuracy: 0.8818 - 627ms/epoch - 157ms/step\n",
            "Epoch 432/500\n",
            "4/4 - 1s - loss: 1.3975e-04 - accuracy: 1.0000 - val_loss: 0.6078 - val_accuracy: 0.8818 - 609ms/epoch - 152ms/step\n",
            "Epoch 433/500\n",
            "4/4 - 1s - loss: 1.0876e-04 - accuracy: 1.0000 - val_loss: 0.6071 - val_accuracy: 0.8818 - 598ms/epoch - 149ms/step\n",
            "Epoch 434/500\n",
            "4/4 - 1s - loss: 1.3761e-04 - accuracy: 1.0000 - val_loss: 0.6067 - val_accuracy: 0.8818 - 609ms/epoch - 152ms/step\n",
            "Epoch 435/500\n",
            "4/4 - 1s - loss: 1.2136e-04 - accuracy: 1.0000 - val_loss: 0.6065 - val_accuracy: 0.8786 - 590ms/epoch - 147ms/step\n",
            "Epoch 436/500\n",
            "4/4 - 1s - loss: 1.2009e-04 - accuracy: 1.0000 - val_loss: 0.6055 - val_accuracy: 0.8786 - 606ms/epoch - 151ms/step\n",
            "Epoch 437/500\n",
            "4/4 - 1s - loss: 1.1477e-04 - accuracy: 1.0000 - val_loss: 0.6044 - val_accuracy: 0.8754 - 605ms/epoch - 151ms/step\n",
            "Epoch 438/500\n",
            "4/4 - 1s - loss: 1.0556e-04 - accuracy: 1.0000 - val_loss: 0.6034 - val_accuracy: 0.8786 - 586ms/epoch - 147ms/step\n",
            "Epoch 439/500\n",
            "4/4 - 1s - loss: 1.0969e-04 - accuracy: 1.0000 - val_loss: 0.6032 - val_accuracy: 0.8818 - 600ms/epoch - 150ms/step\n",
            "Epoch 440/500\n",
            "4/4 - 1s - loss: 1.1902e-04 - accuracy: 1.0000 - val_loss: 0.6037 - val_accuracy: 0.8818 - 592ms/epoch - 148ms/step\n",
            "Epoch 441/500\n",
            "4/4 - 1s - loss: 1.2653e-04 - accuracy: 1.0000 - val_loss: 0.6051 - val_accuracy: 0.8786 - 599ms/epoch - 150ms/step\n",
            "Epoch 442/500\n",
            "4/4 - 1s - loss: 1.2686e-04 - accuracy: 1.0000 - val_loss: 0.6064 - val_accuracy: 0.8786 - 591ms/epoch - 148ms/step\n",
            "Epoch 443/500\n",
            "4/4 - 1s - loss: 1.0001e-04 - accuracy: 1.0000 - val_loss: 0.6079 - val_accuracy: 0.8786 - 605ms/epoch - 151ms/step\n",
            "Epoch 444/500\n",
            "4/4 - 1s - loss: 1.1032e-04 - accuracy: 1.0000 - val_loss: 0.6095 - val_accuracy: 0.8786 - 602ms/epoch - 151ms/step\n",
            "Epoch 445/500\n",
            "4/4 - 1s - loss: 1.4007e-04 - accuracy: 1.0000 - val_loss: 0.6108 - val_accuracy: 0.8818 - 611ms/epoch - 153ms/step\n",
            "Epoch 446/500\n",
            "4/4 - 1s - loss: 1.0622e-04 - accuracy: 1.0000 - val_loss: 0.6122 - val_accuracy: 0.8818 - 611ms/epoch - 153ms/step\n",
            "Epoch 447/500\n",
            "4/4 - 1s - loss: 1.2302e-04 - accuracy: 1.0000 - val_loss: 0.6123 - val_accuracy: 0.8818 - 599ms/epoch - 150ms/step\n",
            "Epoch 448/500\n",
            "4/4 - 1s - loss: 1.1783e-04 - accuracy: 1.0000 - val_loss: 0.6120 - val_accuracy: 0.8786 - 602ms/epoch - 150ms/step\n",
            "Epoch 449/500\n",
            "4/4 - 1s - loss: 1.3757e-04 - accuracy: 1.0000 - val_loss: 0.6115 - val_accuracy: 0.8786 - 623ms/epoch - 156ms/step\n",
            "Epoch 450/500\n",
            "4/4 - 1s - loss: 1.1515e-04 - accuracy: 1.0000 - val_loss: 0.6104 - val_accuracy: 0.8754 - 601ms/epoch - 150ms/step\n",
            "Epoch 451/500\n",
            "4/4 - 1s - loss: 1.2722e-04 - accuracy: 1.0000 - val_loss: 0.6102 - val_accuracy: 0.8754 - 617ms/epoch - 154ms/step\n",
            "Epoch 452/500\n",
            "4/4 - 1s - loss: 1.2349e-04 - accuracy: 1.0000 - val_loss: 0.6104 - val_accuracy: 0.8722 - 596ms/epoch - 149ms/step\n",
            "Epoch 453/500\n",
            "4/4 - 1s - loss: 1.0807e-04 - accuracy: 1.0000 - val_loss: 0.6111 - val_accuracy: 0.8754 - 606ms/epoch - 152ms/step\n",
            "Epoch 454/500\n",
            "4/4 - 1s - loss: 1.2203e-04 - accuracy: 1.0000 - val_loss: 0.6122 - val_accuracy: 0.8722 - 613ms/epoch - 153ms/step\n",
            "Epoch 455/500\n",
            "4/4 - 1s - loss: 1.1088e-04 - accuracy: 1.0000 - val_loss: 0.6140 - val_accuracy: 0.8722 - 603ms/epoch - 151ms/step\n",
            "Epoch 456/500\n",
            "4/4 - 1s - loss: 1.1824e-04 - accuracy: 1.0000 - val_loss: 0.6149 - val_accuracy: 0.8754 - 615ms/epoch - 154ms/step\n",
            "Epoch 457/500\n",
            "4/4 - 1s - loss: 1.1900e-04 - accuracy: 1.0000 - val_loss: 0.6152 - val_accuracy: 0.8786 - 600ms/epoch - 150ms/step\n",
            "Epoch 458/500\n",
            "4/4 - 1s - loss: 1.1034e-04 - accuracy: 1.0000 - val_loss: 0.6147 - val_accuracy: 0.8786 - 614ms/epoch - 154ms/step\n",
            "Epoch 459/500\n",
            "4/4 - 1s - loss: 1.1944e-04 - accuracy: 1.0000 - val_loss: 0.6141 - val_accuracy: 0.8754 - 606ms/epoch - 151ms/step\n",
            "Epoch 460/500\n",
            "4/4 - 1s - loss: 9.9053e-05 - accuracy: 1.0000 - val_loss: 0.6132 - val_accuracy: 0.8818 - 598ms/epoch - 150ms/step\n",
            "Epoch 461/500\n",
            "4/4 - 1s - loss: 1.3322e-04 - accuracy: 1.0000 - val_loss: 0.6126 - val_accuracy: 0.8850 - 614ms/epoch - 154ms/step\n",
            "Epoch 462/500\n",
            "4/4 - 1s - loss: 1.2354e-04 - accuracy: 1.0000 - val_loss: 0.6126 - val_accuracy: 0.8850 - 595ms/epoch - 149ms/step\n",
            "Epoch 463/500\n",
            "4/4 - 1s - loss: 1.1140e-04 - accuracy: 1.0000 - val_loss: 0.6131 - val_accuracy: 0.8818 - 618ms/epoch - 154ms/step\n",
            "Epoch 464/500\n",
            "4/4 - 1s - loss: 1.2843e-04 - accuracy: 1.0000 - val_loss: 0.6132 - val_accuracy: 0.8818 - 610ms/epoch - 152ms/step\n",
            "Epoch 465/500\n",
            "4/4 - 1s - loss: 1.1423e-04 - accuracy: 1.0000 - val_loss: 0.6132 - val_accuracy: 0.8818 - 591ms/epoch - 148ms/step\n",
            "Epoch 466/500\n",
            "4/4 - 1s - loss: 1.1578e-04 - accuracy: 1.0000 - val_loss: 0.6129 - val_accuracy: 0.8818 - 631ms/epoch - 158ms/step\n",
            "Epoch 467/500\n",
            "4/4 - 1s - loss: 1.1953e-04 - accuracy: 1.0000 - val_loss: 0.6123 - val_accuracy: 0.8818 - 589ms/epoch - 147ms/step\n",
            "Epoch 468/500\n",
            "4/4 - 1s - loss: 1.2371e-04 - accuracy: 1.0000 - val_loss: 0.6117 - val_accuracy: 0.8786 - 604ms/epoch - 151ms/step\n",
            "Epoch 469/500\n",
            "4/4 - 1s - loss: 1.1683e-04 - accuracy: 1.0000 - val_loss: 0.6115 - val_accuracy: 0.8786 - 599ms/epoch - 150ms/step\n",
            "Epoch 470/500\n",
            "4/4 - 1s - loss: 1.0846e-04 - accuracy: 1.0000 - val_loss: 0.6123 - val_accuracy: 0.8754 - 604ms/epoch - 151ms/step\n",
            "Epoch 471/500\n",
            "4/4 - 1s - loss: 1.0362e-04 - accuracy: 1.0000 - val_loss: 0.6126 - val_accuracy: 0.8786 - 603ms/epoch - 151ms/step\n",
            "Epoch 472/500\n",
            "4/4 - 1s - loss: 1.1237e-04 - accuracy: 1.0000 - val_loss: 0.6131 - val_accuracy: 0.8786 - 592ms/epoch - 148ms/step\n",
            "Epoch 473/500\n",
            "4/4 - 1s - loss: 1.0458e-04 - accuracy: 1.0000 - val_loss: 0.6140 - val_accuracy: 0.8786 - 619ms/epoch - 155ms/step\n",
            "Epoch 474/500\n",
            "4/4 - 1s - loss: 1.0791e-04 - accuracy: 1.0000 - val_loss: 0.6151 - val_accuracy: 0.8786 - 587ms/epoch - 147ms/step\n",
            "Epoch 475/500\n",
            "4/4 - 1s - loss: 1.0947e-04 - accuracy: 1.0000 - val_loss: 0.6160 - val_accuracy: 0.8786 - 616ms/epoch - 154ms/step\n",
            "Epoch 476/500\n",
            "4/4 - 1s - loss: 1.1463e-04 - accuracy: 1.0000 - val_loss: 0.6171 - val_accuracy: 0.8818 - 608ms/epoch - 152ms/step\n",
            "Epoch 477/500\n",
            "4/4 - 1s - loss: 9.7823e-05 - accuracy: 1.0000 - val_loss: 0.6185 - val_accuracy: 0.8818 - 604ms/epoch - 151ms/step\n",
            "Epoch 478/500\n",
            "4/4 - 1s - loss: 9.3572e-05 - accuracy: 1.0000 - val_loss: 0.6198 - val_accuracy: 0.8818 - 608ms/epoch - 152ms/step\n",
            "Epoch 479/500\n",
            "4/4 - 1s - loss: 1.0861e-04 - accuracy: 1.0000 - val_loss: 0.6200 - val_accuracy: 0.8818 - 598ms/epoch - 150ms/step\n",
            "Epoch 480/500\n",
            "4/4 - 1s - loss: 1.0618e-04 - accuracy: 1.0000 - val_loss: 0.6203 - val_accuracy: 0.8818 - 611ms/epoch - 153ms/step\n",
            "Epoch 481/500\n",
            "4/4 - 1s - loss: 9.9420e-05 - accuracy: 1.0000 - val_loss: 0.6211 - val_accuracy: 0.8786 - 604ms/epoch - 151ms/step\n",
            "Epoch 482/500\n",
            "4/4 - 1s - loss: 1.0040e-04 - accuracy: 1.0000 - val_loss: 0.6217 - val_accuracy: 0.8786 - 593ms/epoch - 148ms/step\n",
            "Epoch 483/500\n",
            "4/4 - 1s - loss: 1.0204e-04 - accuracy: 1.0000 - val_loss: 0.6214 - val_accuracy: 0.8754 - 638ms/epoch - 159ms/step\n",
            "Epoch 484/500\n",
            "4/4 - 1s - loss: 9.6132e-05 - accuracy: 1.0000 - val_loss: 0.6212 - val_accuracy: 0.8754 - 599ms/epoch - 150ms/step\n",
            "Epoch 485/500\n",
            "4/4 - 1s - loss: 9.1327e-05 - accuracy: 1.0000 - val_loss: 0.6209 - val_accuracy: 0.8754 - 610ms/epoch - 153ms/step\n",
            "Epoch 486/500\n",
            "4/4 - 1s - loss: 1.0339e-04 - accuracy: 1.0000 - val_loss: 0.6203 - val_accuracy: 0.8754 - 611ms/epoch - 153ms/step\n",
            "Epoch 487/500\n",
            "4/4 - 1s - loss: 1.0240e-04 - accuracy: 1.0000 - val_loss: 0.6190 - val_accuracy: 0.8754 - 595ms/epoch - 149ms/step\n",
            "Epoch 488/500\n",
            "4/4 - 1s - loss: 1.0131e-04 - accuracy: 1.0000 - val_loss: 0.6179 - val_accuracy: 0.8754 - 617ms/epoch - 154ms/step\n",
            "Epoch 489/500\n",
            "4/4 - 1s - loss: 1.1779e-04 - accuracy: 1.0000 - val_loss: 0.6162 - val_accuracy: 0.8786 - 591ms/epoch - 148ms/step\n",
            "Epoch 490/500\n",
            "4/4 - 1s - loss: 9.9060e-05 - accuracy: 1.0000 - val_loss: 0.6153 - val_accuracy: 0.8786 - 607ms/epoch - 152ms/step\n",
            "Epoch 491/500\n",
            "4/4 - 1s - loss: 9.4408e-05 - accuracy: 1.0000 - val_loss: 0.6145 - val_accuracy: 0.8818 - 604ms/epoch - 151ms/step\n",
            "Epoch 492/500\n",
            "4/4 - 1s - loss: 1.1052e-04 - accuracy: 1.0000 - val_loss: 0.6139 - val_accuracy: 0.8850 - 592ms/epoch - 148ms/step\n",
            "Epoch 493/500\n",
            "4/4 - 1s - loss: 9.8828e-05 - accuracy: 1.0000 - val_loss: 0.6140 - val_accuracy: 0.8850 - 600ms/epoch - 150ms/step\n",
            "Epoch 494/500\n",
            "4/4 - 1s - loss: 8.7828e-05 - accuracy: 1.0000 - val_loss: 0.6143 - val_accuracy: 0.8818 - 589ms/epoch - 147ms/step\n",
            "Epoch 495/500\n",
            "4/4 - 1s - loss: 9.6293e-05 - accuracy: 1.0000 - val_loss: 0.6148 - val_accuracy: 0.8818 - 608ms/epoch - 152ms/step\n",
            "Epoch 496/500\n",
            "4/4 - 1s - loss: 1.2850e-04 - accuracy: 1.0000 - val_loss: 0.6172 - val_accuracy: 0.8754 - 590ms/epoch - 147ms/step\n",
            "Epoch 497/500\n",
            "4/4 - 1s - loss: 8.4398e-05 - accuracy: 1.0000 - val_loss: 0.6192 - val_accuracy: 0.8754 - 608ms/epoch - 152ms/step\n",
            "Epoch 498/500\n",
            "4/4 - 1s - loss: 9.0411e-05 - accuracy: 1.0000 - val_loss: 0.6203 - val_accuracy: 0.8754 - 608ms/epoch - 152ms/step\n",
            "Epoch 499/500\n",
            "4/4 - 1s - loss: 9.9143e-05 - accuracy: 1.0000 - val_loss: 0.6206 - val_accuracy: 0.8786 - 595ms/epoch - 149ms/step\n",
            "Epoch 500/500\n",
            "4/4 - 1s - loss: 9.7688e-05 - accuracy: 1.0000 - val_loss: 0.6209 - val_accuracy: 0.8786 - 603ms/epoch - 151ms/step\n",
            "CNN Error: 12.14%\n"
          ]
        }
      ]
    },
    {
      "cell_type": "code",
      "source": [
        "acc = history.history['accuracy']\n",
        "val_acc = history.history['val_accuracy']\n",
        "loss = history.history['loss']\n",
        "val_loss = history.history['val_loss']\n",
        "\n",
        "epochs_range = range(500)\n",
        "\n",
        "plt.figure(figsize=(15, 15))\n",
        "plt.subplot(2, 2, 1)\n",
        "plt.plot(epochs_range, acc, label='Training Accuracy')\n",
        "plt.plot(epochs_range, val_acc, label='Validation Accuracy')\n",
        "plt.legend(loc='lower right')\n",
        "plt.title('Training and Validation Accuracy')\n",
        "\n",
        "plt.subplot(2, 2, 2)\n",
        "plt.plot(epochs_range, loss, label='Training Loss')\n",
        "plt.plot(epochs_range, val_loss, label='Validation Loss')\n",
        "plt.legend(loc='upper right')\n",
        "plt.title('Training and Validation Loss')\n",
        "plt.show()"
      ],
      "metadata": {
        "colab": {
          "base_uri": "https://localhost:8080/"
        },
        "id": "2D9zU958kBMr",
        "outputId": "ce089532-b9d2-4450-9e97-069f7e614131"
      },
      "execution_count": null,
      "outputs": [
        {
          "output_type": "display_data",
          "data": {
            "text/plain": [
              "<Figure size 1080x1080 with 2 Axes>"
            ],
            "image/png": "[encoded data removed]"
          },
          "metadata": {
            "needs_background": "light"
          }
        }
      ]
    },
    {
      "cell_type": "code",
      "source": [
        "predicts = model.predict(x_test)"
      ],
      "metadata": {
        "colab": {
          "base_uri": "https://localhost:8080/"
        },
        "id": "EsIij1TYreeB",
        "outputId": "2b40e2d6-daf4-433c-9ef0-617238f3ca35"
      },
      "execution_count": null,
      "outputs": [
        {
          "output_type": "stream",
          "name": "stdout",
          "text": [
            "10/10 [==============================] - 0s 9ms/step\n"
          ]
        }
      ]
    },
    {
      "cell_type": "code",
      "source": [
        "type(predicts)"
      ],
      "metadata": {
        "id": "NxWCLQARr8Ak",
        "colab": {
          "base_uri": "https://localhost:8080/"
        },
        "outputId": "ac1a4d88-0c89-48e0-99d8-31b5c54bde21"
      },
      "execution_count": null,
      "outputs": [
        {
          "output_type": "execute_result",
          "data": {
            "text/plain": [
              "numpy.ndarray"
            ]
          },
          "metadata": {},
          "execution_count": 80
        }
      ]
    },
    {
      "cell_type": "code",
      "source": [
        "predicts_labels = []\n",
        "for i in predicts:\n",
        "  predicts_labels.append(np.argmax(i))\n",
        "predicts_labels = np.array(predicts_labels)"
      ],
      "metadata": {
        "id": "416AW1i9rghq"
      },
      "execution_count": null,
      "outputs": []
    },
    {
      "cell_type": "code",
      "source": [
        "y_test_df = np.array(y_test_df)\n",
        "y_test_df"
      ],
      "metadata": {
        "id": "U37uURt4sOI7",
        "colab": {
          "base_uri": "https://localhost:8080/"
        },
        "outputId": "9738bc89-0db8-49b2-c72e-84cba8d116b8"
      },
      "execution_count": null,
      "outputs": [
        {
          "output_type": "execute_result",
          "data": {
            "text/plain": [
              "array([19,  3, 26, 14,  2, 21, 26, 17, 26,  6,  5, 20, 26,  3,  9, 26, 22,\n",
              "       17, 26, 26, 26, 11, 26, 26, 20, 26, 18, 10,  4, 26, 26, 26, 26, 25,\n",
              "        8, 26, 26, 21, 26, 26, 26, 15, 26, 26, 26, 22, 26,  3, 26, 26,  6,\n",
              "       25, 25, 26,  8,  0, 26, 15, 26, 23,  9, 26, 24,  3, 21, 10, 18,  3,\n",
              "       20, 26, 26, 19, 26, 26, 26, 26, 26, 20, 26, 26, 24, 26,  6, 26, 18,\n",
              "       26, 26, 26, 26,  6, 26, 26, 26, 23, 26,  2,  8, 26, 26, 26, 26, 20,\n",
              "       11, 10, 24, 26, 26, 20, 26, 26, 26, 11, 26, 26, 26, 26, 26, 12,  4,\n",
              "       17, 13,  5,  1, 26, 26, 26, 24, 13, 26, 26, 19, 26, 13, 14, 26,  9,\n",
              "       26, 26, 26, 26, 26, 26,  9, 26,  8, 25, 26, 26,  1, 26,  0, 19, 16,\n",
              "        9, 26, 26, 26, 26, 26,  1, 26,  7, 13, 26,  7, 26, 21, 26, 26, 26,\n",
              "        5, 26, 26, 16, 26, 17, 23, 26,  3,  4, 19, 26, 26, 26, 26, 26, 26,\n",
              "        6,  6, 17, 25,  1, 26, 19, 23, 16, 26, 26, 26, 15, 23, 24, 26, 26,\n",
              "        2, 26,  8, 26, 26, 26, 26, 10, 26, 26,  5, 26, 26, 22,  2, 26,  8,\n",
              "       26, 26, 26, 26,  2, 22, 26, 22, 26, 26, 26,  9, 26,  0,  0,  8, 26,\n",
              "        4, 26, 26, 26, 26, 26, 26, 26, 26, 26, 26,  0, 10, 26, 11, 26,  7,\n",
              "       19, 26, 26, 26,  8, 26, 26,  9, 26, 26, 19, 12, 24, 26, 26, 11, 10,\n",
              "       26, 26,  7, 26, 12, 19,  2, 26, 26, 17, 26, 14, 21, 26, 15, 26,  6,\n",
              "       26, 23, 12, 26, 26,  4,  7, 12, 26, 26,  5, 24,  3, 12, 26, 26, 25,\n",
              "        1, 12, 15, 10, 10, 10, 26])"
            ]
          },
          "metadata": {},
          "execution_count": 82
        }
      ]
    },
    {
      "cell_type": "code",
      "source": [
        "len(y_test_df)"
      ],
      "metadata": {
        "id": "0NNpSSyOtEI4",
        "colab": {
          "base_uri": "https://localhost:8080/"
        },
        "outputId": "adc6e07a-050e-4327-e80e-d3022cf979a4"
      },
      "execution_count": null,
      "outputs": [
        {
          "output_type": "execute_result",
          "data": {
            "text/plain": [
              "313"
            ]
          },
          "metadata": {},
          "execution_count": 83
        }
      ]
    },
    {
      "cell_type": "code",
      "source": [
        "predicts_labels"
      ],
      "metadata": {
        "id": "YDWvM4_jrinW",
        "colab": {
          "base_uri": "https://localhost:8080/"
        },
        "outputId": "a763e1ab-05ae-4ea0-b7be-3696e98bf3f4"
      },
      "execution_count": null,
      "outputs": [
        {
          "output_type": "execute_result",
          "data": {
            "text/plain": [
              "array([19,  3, 26, 14,  2, 21, 26, 10, 26,  2,  5, 20, 14,  3, 26, 26, 22,\n",
              "       17, 26, 26, 11, 11, 26, 26, 22, 26, 18, 10,  4, 26, 26, 26, 26,  8,\n",
              "        8, 26, 26, 21, 26, 26, 26, 15, 26, 26, 26,  7, 26,  3, 26, 26,  6,\n",
              "       25, 11, 26,  8,  7, 26,  3, 26, 23,  9, 26, 19, 26, 21, 10, 18,  3,\n",
              "       20, 26, 26, 19, 26, 26, 26, 26, 26, 20, 26, 26, 21, 26,  6, 26, 18,\n",
              "       26, 26, 26, 26,  6, 14, 26, 26, 23, 26,  2,  8, 26, 23, 26, 26, 13,\n",
              "       11, 10, 19, 26, 26, 20, 26, 26, 26, 11, 26, 26, 26, 26, 26, 12,  4,\n",
              "       17, 13,  5,  1, 26, 26, 26, 24, 13, 26, 26, 19, 26, 20, 14, 26, 26,\n",
              "       26, 26, 26, 26, 26, 26, 26, 26,  8, 25, 26, 26,  1, 26,  0, 19, 16,\n",
              "        9, 26, 26, 26, 26, 26, 18, 26,  7, 13, 26,  7, 26, 21, 26, 26, 26,\n",
              "        5, 26, 26, 16, 26,  1, 23, 26,  3,  4, 19, 26, 26, 26, 26, 16, 26,\n",
              "        6,  6, 17, 25,  1, 26,  9, 23, 16, 26, 26, 26, 15, 23, 24, 26, 26,\n",
              "        2, 26, 19, 26, 26, 26, 26, 13, 26, 26, 15, 26, 26, 22,  2, 26,  8,\n",
              "       26, 26, 26, 26,  2, 22, 26, 22, 26, 26, 26, 22, 26,  7,  0,  8, 26,\n",
              "        4, 26, 26, 26, 26, 26, 26, 26, 26, 26, 26,  0, 10, 26, 11, 26,  7,\n",
              "       19, 26, 26, 26,  8, 26, 26,  9, 26, 26, 19, 12, 24, 26, 26, 11, 10,\n",
              "       26,  3,  7, 26, 12,  9,  2, 26, 26, 17, 26, 14, 21, 26, 15, 26, 18,\n",
              "       26, 23, 12, 26,  3,  4,  7, 12, 26, 26,  5, 26,  3, 26, 26, 26,  8,\n",
              "        1, 12, 15, 10, 15, 10, 26])"
            ]
          },
          "metadata": {},
          "execution_count": 84
        }
      ]
    },
    {
      "cell_type": "code",
      "source": [
        "len(predicts_labels)"
      ],
      "metadata": {
        "id": "aB-HB11GtHFf",
        "colab": {
          "base_uri": "https://localhost:8080/"
        },
        "outputId": "960d28f9-1a41-4e18-ecec-5ccbb1fc06f2"
      },
      "execution_count": null,
      "outputs": [
        {
          "output_type": "execute_result",
          "data": {
            "text/plain": [
              "313"
            ]
          },
          "metadata": {},
          "execution_count": 85
        }
      ]
    },
    {
      "cell_type": "code",
      "source": [
        "k = 0\n",
        "for i in range(len(y_test_df)):\n",
        "  if(y_test_df[i] == predicts_labels[i]):\n",
        "    k += 1\n",
        "print(k)\n",
        "print((k/len(y_test_df))*100)"
      ],
      "metadata": {
        "id": "9h5Gn4Jws6cp",
        "colab": {
          "base_uri": "https://localhost:8080/"
        },
        "outputId": "30450464-1f58-44e3-b6e4-28962b1171a0"
      },
      "execution_count": null,
      "outputs": [
        {
          "output_type": "stream",
          "name": "stdout",
          "text": [
            "275\n",
            "87.8594249201278\n"
          ]
        }
      ]
    },
    {
      "cell_type": "code",
      "source": [
        "from sklearn.metrics import precision_score,recall_score,accuracy_score,f1_score\n",
        "print('Precision: %.3f' % precision_score(y_test_df,predicts_labels,average='micro'))\n",
        "print('Recall: %.3f' % recall_score(y_test_df, predicts_labels,average='micro'))\n",
        "print('Accuracy: %.3f' % accuracy_score(y_test_df, predicts_labels))\n",
        "print('F1-Score: %.3f' % f1_score(y_test_df, predicts_labels,average='micro'))"
      ],
      "metadata": {
        "id": "wum2k8U2rj5S",
        "colab": {
          "base_uri": "https://localhost:8080/"
        },
        "outputId": "b706be75-6501-4fcd-8b36-6b4cdbbbe964"
      },
      "execution_count": null,
      "outputs": [
        {
          "output_type": "stream",
          "name": "stdout",
          "text": [
            "Precision: 0.879\n",
            "Recall: 0.879\n",
            "Accuracy: 0.879\n",
            "F1-Score: 0.879\n"
          ]
        }
      ]
    }
  ]
}